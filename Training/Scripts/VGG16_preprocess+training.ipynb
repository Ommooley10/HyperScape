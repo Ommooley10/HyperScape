{
  "nbformat": 4,
  "nbformat_minor": 0,
  "metadata": {
    "colab": {
      "provenance": [],
      "gpuType": "T4"
    },
    "kernelspec": {
      "name": "python3",
      "display_name": "Python 3"
    },
    "language_info": {
      "name": "python"
    },
    "accelerator": "GPU"
  },
  "cells": [
    {
      "cell_type": "code",
      "execution_count": null,
      "metadata": {
        "colab": {
          "base_uri": "https://localhost:8080/"
        },
        "id": "2wc8OJA9IZen",
        "outputId": "f05a2c62-6241-46d9-a1b7-50895d437839"
      },
      "outputs": [
        {
          "output_type": "stream",
          "name": "stdout",
          "text": [
            "Mounted at /content/drive\n"
          ]
        }
      ],
      "source": [
        " from google.colab import drive\n",
        "drive.mount('/content/drive')"
      ]
    },
    {
      "cell_type": "code",
      "source": [
        "import os\n",
        "os.chdir('/content/drive/MyDrive/land-cover-classification-master')"
      ],
      "metadata": {
        "id": "XaAv8A8wI91X"
      },
      "execution_count": null,
      "outputs": []
    },
    {
      "cell_type": "code",
      "source": [
        "!pip install tensorflow rasterio numpy scikit-learn"
      ],
      "metadata": {
        "colab": {
          "base_uri": "https://localhost:8080/"
        },
        "collapsed": true,
        "id": "BuLzmhJyJPZf",
        "outputId": "6d0d6de1-8437-4332-8770-842772d7d4f1"
      },
      "execution_count": null,
      "outputs": [
        {
          "output_type": "stream",
          "name": "stdout",
          "text": [
            "Requirement already satisfied: tensorflow in /usr/local/lib/python3.11/dist-packages (2.18.0)\n",
            "Collecting rasterio\n",
            "  Downloading rasterio-1.4.3-cp311-cp311-manylinux_2_17_x86_64.manylinux2014_x86_64.whl.metadata (9.1 kB)\n",
            "Requirement already satisfied: numpy in /usr/local/lib/python3.11/dist-packages (2.0.2)\n",
            "Requirement already satisfied: scikit-learn in /usr/local/lib/python3.11/dist-packages (1.6.1)\n",
            "Requirement already satisfied: absl-py>=1.0.0 in /usr/local/lib/python3.11/dist-packages (from tensorflow) (1.4.0)\n",
            "Requirement already satisfied: astunparse>=1.6.0 in /usr/local/lib/python3.11/dist-packages (from tensorflow) (1.6.3)\n",
            "Requirement already satisfied: flatbuffers>=24.3.25 in /usr/local/lib/python3.11/dist-packages (from tensorflow) (25.2.10)\n",
            "Requirement already satisfied: gast!=0.5.0,!=0.5.1,!=0.5.2,>=0.2.1 in /usr/local/lib/python3.11/dist-packages (from tensorflow) (0.6.0)\n",
            "Requirement already satisfied: google-pasta>=0.1.1 in /usr/local/lib/python3.11/dist-packages (from tensorflow) (0.2.0)\n",
            "Requirement already satisfied: libclang>=13.0.0 in /usr/local/lib/python3.11/dist-packages (from tensorflow) (18.1.1)\n",
            "Requirement already satisfied: opt-einsum>=2.3.2 in /usr/local/lib/python3.11/dist-packages (from tensorflow) (3.4.0)\n",
            "Requirement already satisfied: packaging in /usr/local/lib/python3.11/dist-packages (from tensorflow) (24.2)\n",
            "Requirement already satisfied: protobuf!=4.21.0,!=4.21.1,!=4.21.2,!=4.21.3,!=4.21.4,!=4.21.5,<6.0.0dev,>=3.20.3 in /usr/local/lib/python3.11/dist-packages (from tensorflow) (5.29.4)\n",
            "Requirement already satisfied: requests<3,>=2.21.0 in /usr/local/lib/python3.11/dist-packages (from tensorflow) (2.32.3)\n",
            "Requirement already satisfied: setuptools in /usr/local/lib/python3.11/dist-packages (from tensorflow) (75.2.0)\n",
            "Requirement already satisfied: six>=1.12.0 in /usr/local/lib/python3.11/dist-packages (from tensorflow) (1.17.0)\n",
            "Requirement already satisfied: termcolor>=1.1.0 in /usr/local/lib/python3.11/dist-packages (from tensorflow) (3.0.1)\n",
            "Requirement already satisfied: typing-extensions>=3.6.6 in /usr/local/lib/python3.11/dist-packages (from tensorflow) (4.13.0)\n",
            "Requirement already satisfied: wrapt>=1.11.0 in /usr/local/lib/python3.11/dist-packages (from tensorflow) (1.17.2)\n",
            "Requirement already satisfied: grpcio<2.0,>=1.24.3 in /usr/local/lib/python3.11/dist-packages (from tensorflow) (1.71.0)\n",
            "Requirement already satisfied: tensorboard<2.19,>=2.18 in /usr/local/lib/python3.11/dist-packages (from tensorflow) (2.18.0)\n",
            "Requirement already satisfied: keras>=3.5.0 in /usr/local/lib/python3.11/dist-packages (from tensorflow) (3.8.0)\n",
            "Requirement already satisfied: h5py>=3.11.0 in /usr/local/lib/python3.11/dist-packages (from tensorflow) (3.13.0)\n",
            "Requirement already satisfied: ml-dtypes<0.5.0,>=0.4.0 in /usr/local/lib/python3.11/dist-packages (from tensorflow) (0.4.1)\n",
            "Requirement already satisfied: tensorflow-io-gcs-filesystem>=0.23.1 in /usr/local/lib/python3.11/dist-packages (from tensorflow) (0.37.1)\n",
            "Collecting affine (from rasterio)\n",
            "  Downloading affine-2.4.0-py3-none-any.whl.metadata (4.0 kB)\n",
            "Requirement already satisfied: attrs in /usr/local/lib/python3.11/dist-packages (from rasterio) (25.3.0)\n",
            "Requirement already satisfied: certifi in /usr/local/lib/python3.11/dist-packages (from rasterio) (2025.1.31)\n",
            "Requirement already satisfied: click>=4.0 in /usr/local/lib/python3.11/dist-packages (from rasterio) (8.1.8)\n",
            "Collecting cligj>=0.5 (from rasterio)\n",
            "  Downloading cligj-0.7.2-py3-none-any.whl.metadata (5.0 kB)\n",
            "Collecting click-plugins (from rasterio)\n",
            "  Downloading click_plugins-1.1.1-py2.py3-none-any.whl.metadata (6.4 kB)\n",
            "Requirement already satisfied: pyparsing in /usr/local/lib/python3.11/dist-packages (from rasterio) (3.2.3)\n",
            "Requirement already satisfied: scipy>=1.6.0 in /usr/local/lib/python3.11/dist-packages (from scikit-learn) (1.14.1)\n",
            "Requirement already satisfied: joblib>=1.2.0 in /usr/local/lib/python3.11/dist-packages (from scikit-learn) (1.4.2)\n",
            "Requirement already satisfied: threadpoolctl>=3.1.0 in /usr/local/lib/python3.11/dist-packages (from scikit-learn) (3.6.0)\n",
            "Requirement already satisfied: wheel<1.0,>=0.23.0 in /usr/local/lib/python3.11/dist-packages (from astunparse>=1.6.0->tensorflow) (0.45.1)\n",
            "Requirement already satisfied: rich in /usr/local/lib/python3.11/dist-packages (from keras>=3.5.0->tensorflow) (13.9.4)\n",
            "Requirement already satisfied: namex in /usr/local/lib/python3.11/dist-packages (from keras>=3.5.0->tensorflow) (0.0.8)\n",
            "Requirement already satisfied: optree in /usr/local/lib/python3.11/dist-packages (from keras>=3.5.0->tensorflow) (0.14.1)\n",
            "Requirement already satisfied: charset-normalizer<4,>=2 in /usr/local/lib/python3.11/dist-packages (from requests<3,>=2.21.0->tensorflow) (3.4.1)\n",
            "Requirement already satisfied: idna<4,>=2.5 in /usr/local/lib/python3.11/dist-packages (from requests<3,>=2.21.0->tensorflow) (3.10)\n",
            "Requirement already satisfied: urllib3<3,>=1.21.1 in /usr/local/lib/python3.11/dist-packages (from requests<3,>=2.21.0->tensorflow) (2.3.0)\n",
            "Requirement already satisfied: markdown>=2.6.8 in /usr/local/lib/python3.11/dist-packages (from tensorboard<2.19,>=2.18->tensorflow) (3.7)\n",
            "Requirement already satisfied: tensorboard-data-server<0.8.0,>=0.7.0 in /usr/local/lib/python3.11/dist-packages (from tensorboard<2.19,>=2.18->tensorflow) (0.7.2)\n",
            "Requirement already satisfied: werkzeug>=1.0.1 in /usr/local/lib/python3.11/dist-packages (from tensorboard<2.19,>=2.18->tensorflow) (3.1.3)\n",
            "Requirement already satisfied: MarkupSafe>=2.1.1 in /usr/local/lib/python3.11/dist-packages (from werkzeug>=1.0.1->tensorboard<2.19,>=2.18->tensorflow) (3.0.2)\n",
            "Requirement already satisfied: markdown-it-py>=2.2.0 in /usr/local/lib/python3.11/dist-packages (from rich->keras>=3.5.0->tensorflow) (3.0.0)\n",
            "Requirement already satisfied: pygments<3.0.0,>=2.13.0 in /usr/local/lib/python3.11/dist-packages (from rich->keras>=3.5.0->tensorflow) (2.18.0)\n",
            "Requirement already satisfied: mdurl~=0.1 in /usr/local/lib/python3.11/dist-packages (from markdown-it-py>=2.2.0->rich->keras>=3.5.0->tensorflow) (0.1.2)\n",
            "Downloading rasterio-1.4.3-cp311-cp311-manylinux_2_17_x86_64.manylinux2014_x86_64.whl (22.2 MB)\n",
            "\u001b[2K   \u001b[90m━━━━━━━━━━━━━━━━━━━━━━━━━━━━━━━━━━━━━━━━\u001b[0m \u001b[32m22.2/22.2 MB\u001b[0m \u001b[31m95.9 MB/s\u001b[0m eta \u001b[36m0:00:00\u001b[0m\n",
            "\u001b[?25hDownloading cligj-0.7.2-py3-none-any.whl (7.1 kB)\n",
            "Downloading affine-2.4.0-py3-none-any.whl (15 kB)\n",
            "Downloading click_plugins-1.1.1-py2.py3-none-any.whl (7.5 kB)\n",
            "Installing collected packages: cligj, click-plugins, affine, rasterio\n",
            "Successfully installed affine-2.4.0 click-plugins-1.1.1 cligj-0.7.2 rasterio-1.4.3\n"
          ]
        }
      ]
    },
    {
      "cell_type": "markdown",
      "source": [
        "### Training without using pre trained weights"
      ],
      "metadata": {
        "id": "K6g3dif8CpZU"
      }
    },
    {
      "cell_type": "code",
      "source": [
        "import numpy as np\n",
        "import rasterio  # For reading .tif images\n",
        "from sklearn.model_selection import train_test_split\n",
        "from tensorflow.keras.utils import to_categorical\n",
        "from sklearn.preprocessing import MinMaxScaler\n",
        "from sklearn.decomposition import PCA\n",
        "\n",
        "# Define dataset file paths\n",
        "dataset_path = \"/content/drive/MyDrive/land-cover-classification-master/data/19920612_AVIRIS_IndianPine_Site3.tif\"\n",
        "ground_truth_path = \"/content/drive/MyDrive/land-cover-classification-master/data/19920612_AVIRIS_IndianPine_Site3_gr.tif\"\n",
        "\n",
        "# 🔹 **1️⃣ Load Hyperspectral Image**\n",
        "with rasterio.open(dataset_path) as src:\n",
        "    image = src.read()  # Shape: (220, H, W)\n",
        "\n",
        "# Load Ground Truth Labels\n",
        "with rasterio.open(ground_truth_path) as src:\n",
        "    labels = src.read(1)  # Shape: (H, W)\n",
        "\n",
        "# Transpose image from (Bands, Height, Width) → (Height, Width, Bands)\n",
        "image = np.transpose(image, (1, 2, 0))  # Shape: (H, W, 220)\n",
        "\n",
        "# 🔹 **2️⃣ Check Unique Labels in Ground Truth**\n",
        "unique_labels = np.unique(labels)\n",
        "print(\"Unique label values in dataset:\", unique_labels)\n",
        "\n",
        "if len(unique_labels) <= 1:\n",
        "    raise ValueError(\"Error: Only one or no valid class labels found in the dataset!\")\n",
        "\n",
        "# 🔹 **3️⃣ Normalize the Image (MinMax Scaling)**\n",
        "def normalize_image(image):\n",
        "    scaler = MinMaxScaler()\n",
        "    h, w, bands = image.shape\n",
        "    image = image.reshape(-1, bands)  # Flatten to (pixels, bands)\n",
        "    image = scaler.fit_transform(image)  # Normalize\n",
        "    return image.reshape(h, w, bands)  # Reshape back\n",
        "\n",
        "image = normalize_image(image)\n",
        "\n",
        "# 🔹 **4️⃣ Apply PCA (Reduce from 220 Bands → 50 Bands)**\n",
        "def apply_pca(image, num_components=50):\n",
        "    h, w, bands = image.shape\n",
        "    image_reshaped = image.reshape(-1, bands)  # Flatten to (pixels, bands)\n",
        "    pca = PCA(n_components=num_components)\n",
        "    image_pca = pca.fit_transform(image_reshaped)\n",
        "    return image_pca.reshape(h, w, num_components)  # Reshape back\n",
        "\n",
        "NUM_COMPONENTS = 50\n",
        "image = apply_pca(image, num_components=NUM_COMPONENTS)\n",
        "\n",
        "# 🔹 **5️⃣ Extract Patches for CNN Input**\n",
        "PATCH_SIZE = 32  # Must match input size in the model\n",
        "\n",
        "def extract_patches(image, labels, patch_size):\n",
        "    half_patch = patch_size // 2\n",
        "    h, w, bands = image.shape\n",
        "    X, y = [], []\n",
        "\n",
        "    for i in range(half_patch, h - half_patch):\n",
        "        for j in range(half_patch, w - half_patch):\n",
        "            if labels[i, j] > 0:  # Ignore background pixels (0)\n",
        "                patch = image[i - half_patch:i + half_patch, j - half_patch:j + half_patch, :]\n",
        "                if patch.shape == (patch_size, patch_size, bands):  # Ensure valid shape\n",
        "                    X.append(patch)\n",
        "                    y.append(labels[i, j] - 1)  # Adjust class labels to start from 0\n",
        "\n",
        "    print(f\"Total patches extracted: {len(X)}\")  # Debugging output\n",
        "\n",
        "    if len(X) == 0:\n",
        "        raise ValueError(\"No valid patches extracted! Check dataset and preprocessing.\")\n",
        "\n",
        "    return np.array(X), np.array(y)\n",
        "\n",
        "X, y = extract_patches(image, labels, PATCH_SIZE)\n",
        "\n",
        "# 🔹 **6️⃣ Convert Labels to One-Hot Encoding**\n",
        "NUM_CLASSES = 17\n",
        "y = to_categorical(y, NUM_CLASSES)\n",
        "\n",
        "# 🔹 **7️⃣ Split into Train & Validation Sets**\n",
        "X_train, X_val, y_train, y_val = train_test_split(X, y, test_size=0.2, random_state=42, stratify=y)\n",
        "\n",
        "# 🔹 **8️⃣ Print Shapes for Verification**\n",
        "print(f\"Train shape: {X_train.shape}, Validation shape: {X_val.shape}\")"
      ],
      "metadata": {
        "colab": {
          "base_uri": "https://localhost:8080/"
        },
        "id": "7z0_RR8WJRQA",
        "outputId": "740216c1-08b0-4f3f-e50a-380d50147ad9"
      },
      "execution_count": null,
      "outputs": [
        {
          "output_type": "stream",
          "name": "stderr",
          "text": [
            "WARNING:rasterio._env:CPLE_AppDefined in 19920612_AVIRIS_IndianPine_Site3.tif: TIFFReadDirectory:Sum of Photometric type-related color channels and ExtraSamples doesn't match SamplesPerPixel. Defining non-color channels as ExtraSamples.\n",
            "/usr/local/lib/python3.11/dist-packages/rasterio/__init__.py:356: NotGeoreferencedWarning: Dataset has no geotransform, gcps, or rpcs. The identity matrix will be returned.\n",
            "  dataset = DatasetReader(path, driver=driver, sharing=sharing, **kwargs)\n",
            "WARNING:rasterio._env:CPLE_AppDefined in TIFFReadDirectory:Sum of Photometric type-related color channels and ExtraSamples doesn't match SamplesPerPixel. Defining non-color channels as ExtraSamples.\n"
          ]
        },
        {
          "output_type": "stream",
          "name": "stdout",
          "text": [
            "Unique label values in dataset: [ 0  1  2  3  4  5  6  7  8  9 10 11 12 13 14 15 16]\n",
            "Total patches extracted: 7317\n",
            "Train shape: (5853, 32, 32, 50), Validation shape: (1464, 32, 32, 50)\n"
          ]
        }
      ]
    },
    {
      "cell_type": "code",
      "source": [
        "from LULC_CNN_VGG16 import LULC_VGG16\n",
        "\n",
        "# Ensure dataset preprocessing is updated\n",
        "PATCH_SIZE = 32\n",
        "nn_vgg16 = LULC_VGG16(input_shape=(PATCH_SIZE, PATCH_SIZE, 50),\n",
        "                       n_classes=17,\n",
        "                       learning_rate=0.001,\n",
        "                       dropout_rate=0.3,\n",
        "                       epochs=50,\n",
        "                       batch_size=16)\n",
        "\n",
        "# Train the model\n",
        "history_vgg16 = nn_vgg16.fit(X_train, y_train, X_val, y_val)"
      ],
      "metadata": {
        "colab": {
          "base_uri": "https://localhost:8080/"
        },
        "id": "4jk9aYSfKFqP",
        "outputId": "b6528881-0bee-49b5-b713-4074909f7fdb",
        "collapsed": true
      },
      "execution_count": null,
      "outputs": [
        {
          "output_type": "stream",
          "name": "stdout",
          "text": [
            "Epoch 1/50\n",
            "\u001b[1m366/366\u001b[0m \u001b[32m━━━━━━━━━━━━━━━━━━━━\u001b[0m\u001b[37m\u001b[0m \u001b[1m40s\u001b[0m 73ms/step - accuracy: 0.2621 - loss: 2.3258 - val_accuracy: 0.2917 - val_loss: 2.1687\n",
            "Epoch 2/50\n",
            "\u001b[1m366/366\u001b[0m \u001b[32m━━━━━━━━━━━━━━━━━━━━\u001b[0m\u001b[37m\u001b[0m \u001b[1m21s\u001b[0m 40ms/step - accuracy: 0.2872 - loss: 2.1738 - val_accuracy: 0.2917 - val_loss: 2.1589\n",
            "Epoch 3/50\n",
            "\u001b[1m366/366\u001b[0m \u001b[32m━━━━━━━━━━━━━━━━━━━━\u001b[0m\u001b[37m\u001b[0m \u001b[1m21s\u001b[0m 42ms/step - accuracy: 0.2943 - loss: 2.1725 - val_accuracy: 0.2917 - val_loss: 2.1574\n",
            "Epoch 4/50\n",
            "\u001b[1m366/366\u001b[0m \u001b[32m━━━━━━━━━━━━━━━━━━━━\u001b[0m\u001b[37m\u001b[0m \u001b[1m15s\u001b[0m 42ms/step - accuracy: 0.3036 - loss: 2.1330 - val_accuracy: 0.2917 - val_loss: 2.1590\n",
            "Epoch 5/50\n",
            "\u001b[1m366/366\u001b[0m \u001b[32m━━━━━━━━━━━━━━━━━━━━\u001b[0m\u001b[37m\u001b[0m \u001b[1m15s\u001b[0m 40ms/step - accuracy: 0.2860 - loss: 2.1629 - val_accuracy: 0.2917 - val_loss: 2.1577\n",
            "Epoch 6/50\n",
            "\u001b[1m366/366\u001b[0m \u001b[32m━━━━━━━━━━━━━━━━━━━━\u001b[0m\u001b[37m\u001b[0m \u001b[1m15s\u001b[0m 40ms/step - accuracy: 0.2922 - loss: 2.1913 - val_accuracy: 0.2917 - val_loss: 2.1542\n",
            "Epoch 7/50\n",
            "\u001b[1m366/366\u001b[0m \u001b[32m━━━━━━━━━━━━━━━━━━━━\u001b[0m\u001b[37m\u001b[0m \u001b[1m15s\u001b[0m 40ms/step - accuracy: 0.3021 - loss: 2.1587 - val_accuracy: 0.2917 - val_loss: 2.1565\n",
            "Epoch 8/50\n",
            "\u001b[1m366/366\u001b[0m \u001b[32m━━━━━━━━━━━━━━━━━━━━\u001b[0m\u001b[37m\u001b[0m \u001b[1m21s\u001b[0m 42ms/step - accuracy: 0.2813 - loss: 2.1580 - val_accuracy: 0.2917 - val_loss: 2.1568\n",
            "Epoch 9/50\n",
            "\u001b[1m366/366\u001b[0m \u001b[32m━━━━━━━━━━━━━━━━━━━━\u001b[0m\u001b[37m\u001b[0m \u001b[1m15s\u001b[0m 40ms/step - accuracy: 0.2894 - loss: 2.1696 - val_accuracy: 0.2917 - val_loss: 2.1548\n",
            "Epoch 10/50\n",
            "\u001b[1m366/366\u001b[0m \u001b[32m━━━━━━━━━━━━━━━━━━━━\u001b[0m\u001b[37m\u001b[0m \u001b[1m21s\u001b[0m 40ms/step - accuracy: 0.2951 - loss: 2.1550 - val_accuracy: 0.2917 - val_loss: 2.1564\n",
            "Epoch 11/50\n",
            "\u001b[1m366/366\u001b[0m \u001b[32m━━━━━━━━━━━━━━━━━━━━\u001b[0m\u001b[37m\u001b[0m \u001b[1m15s\u001b[0m 40ms/step - accuracy: 0.2871 - loss: 2.1809 - val_accuracy: 0.2917 - val_loss: 2.1549\n",
            "Epoch 12/50\n",
            "\u001b[1m366/366\u001b[0m \u001b[32m━━━━━━━━━━━━━━━━━━━━\u001b[0m\u001b[37m\u001b[0m \u001b[1m20s\u001b[0m 40ms/step - accuracy: 0.2799 - loss: 2.1840 - val_accuracy: 0.2917 - val_loss: 2.1543\n",
            "Epoch 13/50\n",
            "\u001b[1m366/366\u001b[0m \u001b[32m━━━━━━━━━━━━━━━━━━━━\u001b[0m\u001b[37m\u001b[0m \u001b[1m15s\u001b[0m 40ms/step - accuracy: 0.2890 - loss: 2.1514 - val_accuracy: 0.2917 - val_loss: 2.1552\n",
            "Epoch 14/50\n",
            "\u001b[1m366/366\u001b[0m \u001b[32m━━━━━━━━━━━━━━━━━━━━\u001b[0m\u001b[37m\u001b[0m \u001b[1m15s\u001b[0m 40ms/step - accuracy: 0.2900 - loss: 2.1523 - val_accuracy: 0.2917 - val_loss: 2.1550\n",
            "Epoch 15/50\n",
            "\u001b[1m366/366\u001b[0m \u001b[32m━━━━━━━━━━━━━━━━━━━━\u001b[0m\u001b[37m\u001b[0m \u001b[1m15s\u001b[0m 42ms/step - accuracy: 0.2987 - loss: 2.1488 - val_accuracy: 0.2917 - val_loss: 2.1546\n",
            "Epoch 16/50\n",
            "\u001b[1m366/366\u001b[0m \u001b[32m━━━━━━━━━━━━━━━━━━━━\u001b[0m\u001b[37m\u001b[0m \u001b[1m20s\u001b[0m 42ms/step - accuracy: 0.2951 - loss: 2.1469 - val_accuracy: 0.2917 - val_loss: 2.1551\n",
            "Epoch 17/50\n",
            "\u001b[1m366/366\u001b[0m \u001b[32m━━━━━━━━━━━━━━━━━━━━\u001b[0m\u001b[37m\u001b[0m \u001b[1m15s\u001b[0m 41ms/step - accuracy: 0.2912 - loss: 2.1699 - val_accuracy: 0.2917 - val_loss: 2.1559\n",
            "Epoch 18/50\n",
            "\u001b[1m366/366\u001b[0m \u001b[32m━━━━━━━━━━━━━━━━━━━━\u001b[0m\u001b[37m\u001b[0m \u001b[1m20s\u001b[0m 40ms/step - accuracy: 0.3072 - loss: 2.1373 - val_accuracy: 0.2917 - val_loss: 2.1562\n",
            "Epoch 19/50\n",
            "\u001b[1m366/366\u001b[0m \u001b[32m━━━━━━━━━━━━━━━━━━━━\u001b[0m\u001b[37m\u001b[0m \u001b[1m20s\u001b[0m 40ms/step - accuracy: 0.2905 - loss: 2.1650 - val_accuracy: 0.2917 - val_loss: 2.1566\n",
            "Epoch 20/50\n",
            "\u001b[1m366/366\u001b[0m \u001b[32m━━━━━━━━━━━━━━━━━━━━\u001b[0m\u001b[37m\u001b[0m \u001b[1m15s\u001b[0m 42ms/step - accuracy: 0.3007 - loss: 2.1548 - val_accuracy: 0.2917 - val_loss: 2.1552\n",
            "Epoch 21/50\n",
            "\u001b[1m366/366\u001b[0m \u001b[32m━━━━━━━━━━━━━━━━━━━━\u001b[0m\u001b[37m\u001b[0m \u001b[1m20s\u001b[0m 40ms/step - accuracy: 0.2963 - loss: 2.1562 - val_accuracy: 0.2917 - val_loss: 2.1544\n",
            "Epoch 22/50\n",
            "\u001b[1m366/366\u001b[0m \u001b[32m━━━━━━━━━━━━━━━━━━━━\u001b[0m\u001b[37m\u001b[0m \u001b[1m20s\u001b[0m 40ms/step - accuracy: 0.2926 - loss: 2.1655 - val_accuracy: 0.2917 - val_loss: 2.1546\n",
            "Epoch 23/50\n",
            "\u001b[1m366/366\u001b[0m \u001b[32m━━━━━━━━━━━━━━━━━━━━\u001b[0m\u001b[37m\u001b[0m \u001b[1m21s\u001b[0m 40ms/step - accuracy: 0.2970 - loss: 2.1568 - val_accuracy: 0.2917 - val_loss: 2.1556\n",
            "Epoch 24/50\n",
            "\u001b[1m366/366\u001b[0m \u001b[32m━━━━━━━━━━━━━━━━━━━━\u001b[0m\u001b[37m\u001b[0m \u001b[1m20s\u001b[0m 40ms/step - accuracy: 0.2814 - loss: 2.1720 - val_accuracy: 0.2917 - val_loss: 2.1546\n",
            "Epoch 25/50\n",
            "\u001b[1m366/366\u001b[0m \u001b[32m━━━━━━━━━━━━━━━━━━━━\u001b[0m\u001b[37m\u001b[0m \u001b[1m21s\u001b[0m 42ms/step - accuracy: 0.2946 - loss: 2.1611 - val_accuracy: 0.2917 - val_loss: 2.1543\n",
            "Epoch 26/50\n",
            "\u001b[1m366/366\u001b[0m \u001b[32m━━━━━━━━━━━━━━━━━━━━\u001b[0m\u001b[37m\u001b[0m \u001b[1m20s\u001b[0m 40ms/step - accuracy: 0.2920 - loss: 2.1643 - val_accuracy: 0.2917 - val_loss: 2.1540\n",
            "Epoch 27/50\n",
            "\u001b[1m366/366\u001b[0m \u001b[32m━━━━━━━━━━━━━━━━━━━━\u001b[0m\u001b[37m\u001b[0m \u001b[1m15s\u001b[0m 40ms/step - accuracy: 0.2981 - loss: 2.1540 - val_accuracy: 0.2917 - val_loss: 2.1542\n",
            "Epoch 28/50\n",
            "\u001b[1m366/366\u001b[0m \u001b[32m━━━━━━━━━━━━━━━━━━━━\u001b[0m\u001b[37m\u001b[0m \u001b[1m21s\u001b[0m 40ms/step - accuracy: 0.2959 - loss: 2.1556 - val_accuracy: 0.2917 - val_loss: 2.1566\n",
            "Epoch 29/50\n",
            "\u001b[1m366/366\u001b[0m \u001b[32m━━━━━━━━━━━━━━━━━━━━\u001b[0m\u001b[37m\u001b[0m \u001b[1m15s\u001b[0m 40ms/step - accuracy: 0.2976 - loss: 2.1540 - val_accuracy: 0.2917 - val_loss: 2.1556\n",
            "Epoch 30/50\n",
            "\u001b[1m366/366\u001b[0m \u001b[32m━━━━━━━━━━━━━━━━━━━━\u001b[0m\u001b[37m\u001b[0m \u001b[1m15s\u001b[0m 40ms/step - accuracy: 0.2885 - loss: 2.1631 - val_accuracy: 0.2917 - val_loss: 2.1539\n",
            "Epoch 31/50\n",
            "\u001b[1m366/366\u001b[0m \u001b[32m━━━━━━━━━━━━━━━━━━━━\u001b[0m\u001b[37m\u001b[0m \u001b[1m15s\u001b[0m 40ms/step - accuracy: 0.2927 - loss: 2.1690 - val_accuracy: 0.2917 - val_loss: 2.1542\n",
            "Epoch 32/50\n",
            "\u001b[1m366/366\u001b[0m \u001b[32m━━━━━━━━━━━━━━━━━━━━\u001b[0m\u001b[37m\u001b[0m \u001b[1m20s\u001b[0m 40ms/step - accuracy: 0.2897 - loss: 2.1605 - val_accuracy: 0.2917 - val_loss: 2.1538\n",
            "Epoch 33/50\n",
            "\u001b[1m366/366\u001b[0m \u001b[32m━━━━━━━━━━━━━━━━━━━━\u001b[0m\u001b[37m\u001b[0m \u001b[1m21s\u001b[0m 41ms/step - accuracy: 0.2904 - loss: 2.1700 - val_accuracy: 0.2917 - val_loss: 2.1562\n",
            "Epoch 34/50\n",
            "\u001b[1m366/366\u001b[0m \u001b[32m━━━━━━━━━━━━━━━━━━━━\u001b[0m\u001b[37m\u001b[0m \u001b[1m20s\u001b[0m 40ms/step - accuracy: 0.2891 - loss: 2.1636 - val_accuracy: 0.2917 - val_loss: 2.1538\n",
            "Epoch 35/50\n",
            "\u001b[1m366/366\u001b[0m \u001b[32m━━━━━━━━━━━━━━━━━━━━\u001b[0m\u001b[37m\u001b[0m \u001b[1m21s\u001b[0m 42ms/step - accuracy: 0.3008 - loss: 2.1483 - val_accuracy: 0.2917 - val_loss: 2.1556\n",
            "Epoch 36/50\n",
            "\u001b[1m366/366\u001b[0m \u001b[32m━━━━━━━━━━━━━━━━━━━━\u001b[0m\u001b[37m\u001b[0m \u001b[1m15s\u001b[0m 40ms/step - accuracy: 0.2858 - loss: 2.1681 - val_accuracy: 0.2917 - val_loss: 2.1550\n",
            "Epoch 37/50\n",
            "\u001b[1m366/366\u001b[0m \u001b[32m━━━━━━━━━━━━━━━━━━━━\u001b[0m\u001b[37m\u001b[0m \u001b[1m15s\u001b[0m 40ms/step - accuracy: 0.2971 - loss: 2.1382 - val_accuracy: 0.2917 - val_loss: 2.1537\n",
            "Epoch 38/50\n",
            "\u001b[1m366/366\u001b[0m \u001b[32m━━━━━━━━━━━━━━━━━━━━\u001b[0m\u001b[37m\u001b[0m \u001b[1m15s\u001b[0m 40ms/step - accuracy: 0.2878 - loss: 2.1649 - val_accuracy: 0.2917 - val_loss: 2.1540\n",
            "Epoch 39/50\n",
            "\u001b[1m366/366\u001b[0m \u001b[32m━━━━━━━━━━━━━━━━━━━━\u001b[0m\u001b[37m\u001b[0m \u001b[1m15s\u001b[0m 40ms/step - accuracy: 0.2887 - loss: 2.1552 - val_accuracy: 0.2917 - val_loss: 2.1537\n",
            "Epoch 40/50\n",
            "\u001b[1m366/366\u001b[0m \u001b[32m━━━━━━━━━━━━━━━━━━━━\u001b[0m\u001b[37m\u001b[0m \u001b[1m15s\u001b[0m 40ms/step - accuracy: 0.2834 - loss: 2.1741 - val_accuracy: 0.2917 - val_loss: 2.1539\n",
            "Epoch 41/50\n",
            "\u001b[1m366/366\u001b[0m \u001b[32m━━━━━━━━━━━━━━━━━━━━\u001b[0m\u001b[37m\u001b[0m \u001b[1m15s\u001b[0m 42ms/step - accuracy: 0.2931 - loss: 2.1662 - val_accuracy: 0.2917 - val_loss: 2.1557\n",
            "Epoch 42/50\n",
            "\u001b[1m366/366\u001b[0m \u001b[32m━━━━━━━━━━━━━━━━━━━━\u001b[0m\u001b[37m\u001b[0m \u001b[1m15s\u001b[0m 40ms/step - accuracy: 0.2842 - loss: 2.1562 - val_accuracy: 0.2917 - val_loss: 2.1550\n",
            "Epoch 43/50\n",
            "\u001b[1m366/366\u001b[0m \u001b[32m━━━━━━━━━━━━━━━━━━━━\u001b[0m\u001b[37m\u001b[0m \u001b[1m21s\u001b[0m 40ms/step - accuracy: 0.2929 - loss: 2.1409 - val_accuracy: 0.2917 - val_loss: 2.1581\n",
            "Epoch 44/50\n",
            "\u001b[1m366/366\u001b[0m \u001b[32m━━━━━━━━━━━━━━━━━━━━\u001b[0m\u001b[37m\u001b[0m \u001b[1m21s\u001b[0m 40ms/step - accuracy: 0.2892 - loss: 2.1674 - val_accuracy: 0.2917 - val_loss: 2.1536\n",
            "Epoch 45/50\n",
            "\u001b[1m366/366\u001b[0m \u001b[32m━━━━━━━━━━━━━━━━━━━━\u001b[0m\u001b[37m\u001b[0m \u001b[1m21s\u001b[0m 42ms/step - accuracy: 0.2975 - loss: 2.1382 - val_accuracy: 0.2917 - val_loss: 2.1550\n",
            "Epoch 46/50\n",
            "\u001b[1m366/366\u001b[0m \u001b[32m━━━━━━━━━━━━━━━━━━━━\u001b[0m\u001b[37m\u001b[0m \u001b[1m15s\u001b[0m 40ms/step - accuracy: 0.2888 - loss: 2.1545 - val_accuracy: 0.2917 - val_loss: 2.1544\n",
            "Epoch 47/50\n",
            "\u001b[1m366/366\u001b[0m \u001b[32m━━━━━━━━━━━━━━━━━━━━\u001b[0m\u001b[37m\u001b[0m \u001b[1m15s\u001b[0m 42ms/step - accuracy: 0.2919 - loss: 2.1498 - val_accuracy: 0.2917 - val_loss: 2.1537\n",
            "Epoch 48/50\n",
            "\u001b[1m366/366\u001b[0m \u001b[32m━━━━━━━━━━━━━━━━━━━━\u001b[0m\u001b[37m\u001b[0m \u001b[1m20s\u001b[0m 41ms/step - accuracy: 0.2943 - loss: 2.1539 - val_accuracy: 0.2917 - val_loss: 2.1547\n",
            "Epoch 49/50\n",
            "\u001b[1m366/366\u001b[0m \u001b[32m━━━━━━━━━━━━━━━━━━━━\u001b[0m\u001b[37m\u001b[0m \u001b[1m15s\u001b[0m 42ms/step - accuracy: 0.3014 - loss: 2.1646 - val_accuracy: 0.2917 - val_loss: 2.1551\n",
            "Epoch 50/50\n",
            "\u001b[1m366/366\u001b[0m \u001b[32m━━━━━━━━━━━━━━━━━━━━\u001b[0m\u001b[37m\u001b[0m \u001b[1m15s\u001b[0m 40ms/step - accuracy: 0.2961 - loss: 2.1512 - val_accuracy: 0.2917 - val_loss: 2.1544\n"
          ]
        }
      ]
    },
    {
      "cell_type": "markdown",
      "source": [
        "### Training using pre trained weights from \"Imagenet\""
      ],
      "metadata": {
        "id": "OFsIAK15Cd12"
      }
    },
    {
      "cell_type": "code",
      "source": [
        "import numpy as np\n",
        "import rasterio  # For reading .tif images\n",
        "from sklearn.model_selection import train_test_split\n",
        "from tensorflow.keras.utils import to_categorical\n",
        "from sklearn.preprocessing import MinMaxScaler\n",
        "from sklearn.decomposition import PCA\n",
        "\n",
        "# Define dataset file paths\n",
        "dataset_path = \"/content/drive/MyDrive/land-cover-classification-master/data/19920612_AVIRIS_IndianPine_Site3.tif\"\n",
        "ground_truth_path = \"/content/drive/MyDrive/land-cover-classification-master/data/19920612_AVIRIS_IndianPine_Site3_gr.tif\"\n",
        "\n",
        "# 🔹 **1️⃣ Load Hyperspectral Image**\n",
        "with rasterio.open(dataset_path) as src:\n",
        "    image = src.read()  # Shape: (220, H, W)\n",
        "\n",
        "# Load Ground Truth Labels\n",
        "with rasterio.open(ground_truth_path) as src:\n",
        "    labels = src.read(1)  # Shape: (H, W)\n",
        "\n",
        "# Transpose image from (Bands, Height, Width) → (Height, Width, Bands)\n",
        "image = np.transpose(image, (1, 2, 0))  # Shape: (H, W, 220)\n",
        "\n",
        "# 🔹 **2️⃣ Check Unique Labels in Ground Truth**\n",
        "unique_labels = np.unique(labels)\n",
        "print(\"Unique label values in dataset:\", unique_labels)\n",
        "\n",
        "if len(unique_labels) <= 1:\n",
        "    raise ValueError(\"Error: Only one or no valid class labels found in the dataset!\")\n",
        "\n",
        "# 🔹 **3️⃣ Normalize the Image (MinMax Scaling)**\n",
        "def normalize_image(image):\n",
        "    scaler = MinMaxScaler()\n",
        "    h, w, bands = image.shape\n",
        "    image = image.reshape(-1, bands)  # Flatten to (pixels, bands)\n",
        "    image = scaler.fit_transform(image)  # Normalize\n",
        "    return image.reshape(h, w, bands)  # Reshape back\n",
        "\n",
        "image = normalize_image(image)\n",
        "\n",
        "# 🔹 **4️⃣ Apply PCA (Reduce from 220 Bands → 50 Bands)**\n",
        "def apply_pca(image, num_components=50):\n",
        "    h, w, bands = image.shape\n",
        "    image_reshaped = image.reshape(-1, bands)  # Flatten to (pixels, bands)\n",
        "    pca = PCA(n_components=num_components)\n",
        "    image_pca = pca.fit_transform(image_reshaped)\n",
        "    return image_pca.reshape(h, w, num_components)  # Reshape back\n",
        "\n",
        "NUM_COMPONENTS = 50\n",
        "image = apply_pca(image, num_components=NUM_COMPONENTS)\n",
        "\n",
        "# 🔹 **5️⃣ Extract Patches for CNN Input**\n",
        "PATCH_SIZE = 32  # Must match input size in the model\n",
        "\n",
        "def extract_patches(image, labels, patch_size):\n",
        "    half_patch = patch_size // 2\n",
        "    h, w, bands = image.shape\n",
        "    X, y = [], []\n",
        "\n",
        "    for i in range(half_patch, h - half_patch):\n",
        "        for j in range(half_patch, w - half_patch):\n",
        "            if labels[i, j] > 0:  # Ignore background pixels (0)\n",
        "                patch = image[i - half_patch:i + half_patch, j - half_patch:j + half_patch, :]\n",
        "                if patch.shape == (patch_size, patch_size, bands):  # Ensure valid shape\n",
        "                    X.append(patch)\n",
        "                    y.append(labels[i, j] - 1)  # Adjust class labels to start from 0\n",
        "\n",
        "    print(f\"Total patches extracted: {len(X)}\")  # Debugging output\n",
        "\n",
        "    if len(X) == 0:\n",
        "        raise ValueError(\"No valid patches extracted! Check dataset and preprocessing.\")\n",
        "\n",
        "    return np.array(X), np.array(y)\n",
        "\n",
        "X, y = extract_patches(image, labels, PATCH_SIZE)\n",
        "\n",
        "# 🔹 **6️⃣ Convert Labels to One-Hot Encoding**\n",
        "NUM_CLASSES = 17\n",
        "y = to_categorical(y, NUM_CLASSES)\n",
        "\n",
        "# 🔹 **7️⃣ Split into Train & Validation Sets**\n",
        "X_train, X_val, y_train, y_val = train_test_split(X, y, test_size=0.2, random_state=42, stratify=y)\n",
        "\n",
        "# 🔹 **8️⃣ Print Shapes for Verification**\n",
        "print(f\"Train shape: {X_train.shape}, Validation shape: {X_val.shape}\")"
      ],
      "metadata": {
        "id": "qvYI-pJXKxTo",
        "colab": {
          "base_uri": "https://localhost:8080/"
        },
        "outputId": "b4d6eb03-1b4e-483a-97ca-d44167666243"
      },
      "execution_count": null,
      "outputs": [
        {
          "output_type": "stream",
          "name": "stderr",
          "text": [
            "WARNING:rasterio._env:CPLE_AppDefined in 19920612_AVIRIS_IndianPine_Site3.tif: TIFFReadDirectory:Sum of Photometric type-related color channels and ExtraSamples doesn't match SamplesPerPixel. Defining non-color channels as ExtraSamples.\n",
            "/usr/local/lib/python3.11/dist-packages/rasterio/__init__.py:356: NotGeoreferencedWarning: Dataset has no geotransform, gcps, or rpcs. The identity matrix will be returned.\n",
            "  dataset = DatasetReader(path, driver=driver, sharing=sharing, **kwargs)\n",
            "WARNING:rasterio._env:CPLE_AppDefined in TIFFReadDirectory:Sum of Photometric type-related color channels and ExtraSamples doesn't match SamplesPerPixel. Defining non-color channels as ExtraSamples.\n"
          ]
        },
        {
          "output_type": "stream",
          "name": "stdout",
          "text": [
            "Unique label values in dataset: [ 0  1  2  3  4  5  6  7  8  9 10 11 12 13 14 15 16]\n",
            "Total patches extracted: 7317\n",
            "Train shape: (5853, 32, 32, 50), Validation shape: (1464, 32, 32, 50)\n"
          ]
        }
      ]
    },
    {
      "cell_type": "markdown",
      "source": [
        "# Fresh start\n"
      ],
      "metadata": {
        "id": "R8Fxy_FTp_54"
      }
    },
    {
      "cell_type": "code",
      "source": [
        "from tensorflow.keras.applications import VGG16\n",
        "from tensorflow.keras.models import Model\n",
        "from tensorflow.keras.layers import GlobalAveragePooling2D, Dense, Dropout\n",
        "from tensorflow.keras.optimizers import Adam\n",
        "from tensorflow.keras.callbacks import EarlyStopping, ModelCheckpoint\n",
        "from tensorflow.keras.preprocessing.image import ImageDataGenerator\n",
        "import os\n",
        "\n",
        "# Create directory for saving the best model\n",
        "os.makedirs(\"checkpoints\", exist_ok=True)\n",
        "\n",
        "# Load VGG16 with pre-trained ImageNet weights\n",
        "base_model = VGG16(weights='imagenet', include_top=False, input_shape=(224, 224, 3))\n",
        "\n",
        "# Freeze base model layers to retain learned features\n",
        "for layer in base_model.layers:\n",
        "    layer.trainable = False\n",
        "\n",
        "# Add custom classification head\n",
        "x = base_model.output\n",
        "x = GlobalAveragePooling2D()(x)\n",
        "x = Dropout(0.5)(x)\n",
        "x = Dense(256, activation='relu')(x)\n",
        "x = Dropout(0.3)(x)\n",
        "output = Dense(17, activation='softmax')(x)\n",
        "\n",
        "# Final model\n",
        "model = Model(inputs=base_model.input, outputs=output)\n",
        "\n",
        "# Compile the model\n",
        "model.compile(optimizer=Adam(learning_rate=1e-4),\n",
        "              loss='categorical_crossentropy',\n",
        "              metrics=['accuracy'])\n",
        "\n",
        "model.summary()"
      ],
      "metadata": {
        "id": "pHPN6JPOc6YX",
        "colab": {
          "base_uri": "https://localhost:8080/",
          "height": 977
        },
        "outputId": "6bc2e2eb-f5ec-4a04-9e02-16fa871ac527"
      },
      "execution_count": null,
      "outputs": [
        {
          "output_type": "stream",
          "name": "stdout",
          "text": [
            "Downloading data from https://storage.googleapis.com/tensorflow/keras-applications/vgg16/vgg16_weights_tf_dim_ordering_tf_kernels_notop.h5\n",
            "\u001b[1m58889256/58889256\u001b[0m \u001b[32m━━━━━━━━━━━━━━━━━━━━\u001b[0m\u001b[37m\u001b[0m \u001b[1m0s\u001b[0m 0us/step\n"
          ]
        },
        {
          "output_type": "display_data",
          "data": {
            "text/plain": [
              "\u001b[1mModel: \"functional\"\u001b[0m\n"
            ],
            "text/html": [
              "<pre style=\"white-space:pre;overflow-x:auto;line-height:normal;font-family:Menlo,'DejaVu Sans Mono',consolas,'Courier New',monospace\"><span style=\"font-weight: bold\">Model: \"functional\"</span>\n",
              "</pre>\n"
            ]
          },
          "metadata": {}
        },
        {
          "output_type": "display_data",
          "data": {
            "text/plain": [
              "┏━━━━━━━━━━━━━━━━━━━━━━━━━━━━━━━━━━━━━━┳━━━━━━━━━━━━━━━━━━━━━━━━━━━━━┳━━━━━━━━━━━━━━━━━┓\n",
              "┃\u001b[1m \u001b[0m\u001b[1mLayer (type)                        \u001b[0m\u001b[1m \u001b[0m┃\u001b[1m \u001b[0m\u001b[1mOutput Shape               \u001b[0m\u001b[1m \u001b[0m┃\u001b[1m \u001b[0m\u001b[1m        Param #\u001b[0m\u001b[1m \u001b[0m┃\n",
              "┡━━━━━━━━━━━━━━━━━━━━━━━━━━━━━━━━━━━━━━╇━━━━━━━━━━━━━━━━━━━━━━━━━━━━━╇━━━━━━━━━━━━━━━━━┩\n",
              "│ input_layer (\u001b[38;5;33mInputLayer\u001b[0m)             │ (\u001b[38;5;45mNone\u001b[0m, \u001b[38;5;34m224\u001b[0m, \u001b[38;5;34m224\u001b[0m, \u001b[38;5;34m3\u001b[0m)         │               \u001b[38;5;34m0\u001b[0m │\n",
              "├──────────────────────────────────────┼─────────────────────────────┼─────────────────┤\n",
              "│ block1_conv1 (\u001b[38;5;33mConv2D\u001b[0m)                │ (\u001b[38;5;45mNone\u001b[0m, \u001b[38;5;34m224\u001b[0m, \u001b[38;5;34m224\u001b[0m, \u001b[38;5;34m64\u001b[0m)        │           \u001b[38;5;34m1,792\u001b[0m │\n",
              "├──────────────────────────────────────┼─────────────────────────────┼─────────────────┤\n",
              "│ block1_conv2 (\u001b[38;5;33mConv2D\u001b[0m)                │ (\u001b[38;5;45mNone\u001b[0m, \u001b[38;5;34m224\u001b[0m, \u001b[38;5;34m224\u001b[0m, \u001b[38;5;34m64\u001b[0m)        │          \u001b[38;5;34m36,928\u001b[0m │\n",
              "├──────────────────────────────────────┼─────────────────────────────┼─────────────────┤\n",
              "│ block1_pool (\u001b[38;5;33mMaxPooling2D\u001b[0m)           │ (\u001b[38;5;45mNone\u001b[0m, \u001b[38;5;34m112\u001b[0m, \u001b[38;5;34m112\u001b[0m, \u001b[38;5;34m64\u001b[0m)        │               \u001b[38;5;34m0\u001b[0m │\n",
              "├──────────────────────────────────────┼─────────────────────────────┼─────────────────┤\n",
              "│ block2_conv1 (\u001b[38;5;33mConv2D\u001b[0m)                │ (\u001b[38;5;45mNone\u001b[0m, \u001b[38;5;34m112\u001b[0m, \u001b[38;5;34m112\u001b[0m, \u001b[38;5;34m128\u001b[0m)       │          \u001b[38;5;34m73,856\u001b[0m │\n",
              "├──────────────────────────────────────┼─────────────────────────────┼─────────────────┤\n",
              "│ block2_conv2 (\u001b[38;5;33mConv2D\u001b[0m)                │ (\u001b[38;5;45mNone\u001b[0m, \u001b[38;5;34m112\u001b[0m, \u001b[38;5;34m112\u001b[0m, \u001b[38;5;34m128\u001b[0m)       │         \u001b[38;5;34m147,584\u001b[0m │\n",
              "├──────────────────────────────────────┼─────────────────────────────┼─────────────────┤\n",
              "│ block2_pool (\u001b[38;5;33mMaxPooling2D\u001b[0m)           │ (\u001b[38;5;45mNone\u001b[0m, \u001b[38;5;34m56\u001b[0m, \u001b[38;5;34m56\u001b[0m, \u001b[38;5;34m128\u001b[0m)         │               \u001b[38;5;34m0\u001b[0m │\n",
              "├──────────────────────────────────────┼─────────────────────────────┼─────────────────┤\n",
              "│ block3_conv1 (\u001b[38;5;33mConv2D\u001b[0m)                │ (\u001b[38;5;45mNone\u001b[0m, \u001b[38;5;34m56\u001b[0m, \u001b[38;5;34m56\u001b[0m, \u001b[38;5;34m256\u001b[0m)         │         \u001b[38;5;34m295,168\u001b[0m │\n",
              "├──────────────────────────────────────┼─────────────────────────────┼─────────────────┤\n",
              "│ block3_conv2 (\u001b[38;5;33mConv2D\u001b[0m)                │ (\u001b[38;5;45mNone\u001b[0m, \u001b[38;5;34m56\u001b[0m, \u001b[38;5;34m56\u001b[0m, \u001b[38;5;34m256\u001b[0m)         │         \u001b[38;5;34m590,080\u001b[0m │\n",
              "├──────────────────────────────────────┼─────────────────────────────┼─────────────────┤\n",
              "│ block3_conv3 (\u001b[38;5;33mConv2D\u001b[0m)                │ (\u001b[38;5;45mNone\u001b[0m, \u001b[38;5;34m56\u001b[0m, \u001b[38;5;34m56\u001b[0m, \u001b[38;5;34m256\u001b[0m)         │         \u001b[38;5;34m590,080\u001b[0m │\n",
              "├──────────────────────────────────────┼─────────────────────────────┼─────────────────┤\n",
              "│ block3_pool (\u001b[38;5;33mMaxPooling2D\u001b[0m)           │ (\u001b[38;5;45mNone\u001b[0m, \u001b[38;5;34m28\u001b[0m, \u001b[38;5;34m28\u001b[0m, \u001b[38;5;34m256\u001b[0m)         │               \u001b[38;5;34m0\u001b[0m │\n",
              "├──────────────────────────────────────┼─────────────────────────────┼─────────────────┤\n",
              "│ block4_conv1 (\u001b[38;5;33mConv2D\u001b[0m)                │ (\u001b[38;5;45mNone\u001b[0m, \u001b[38;5;34m28\u001b[0m, \u001b[38;5;34m28\u001b[0m, \u001b[38;5;34m512\u001b[0m)         │       \u001b[38;5;34m1,180,160\u001b[0m │\n",
              "├──────────────────────────────────────┼─────────────────────────────┼─────────────────┤\n",
              "│ block4_conv2 (\u001b[38;5;33mConv2D\u001b[0m)                │ (\u001b[38;5;45mNone\u001b[0m, \u001b[38;5;34m28\u001b[0m, \u001b[38;5;34m28\u001b[0m, \u001b[38;5;34m512\u001b[0m)         │       \u001b[38;5;34m2,359,808\u001b[0m │\n",
              "├──────────────────────────────────────┼─────────────────────────────┼─────────────────┤\n",
              "│ block4_conv3 (\u001b[38;5;33mConv2D\u001b[0m)                │ (\u001b[38;5;45mNone\u001b[0m, \u001b[38;5;34m28\u001b[0m, \u001b[38;5;34m28\u001b[0m, \u001b[38;5;34m512\u001b[0m)         │       \u001b[38;5;34m2,359,808\u001b[0m │\n",
              "├──────────────────────────────────────┼─────────────────────────────┼─────────────────┤\n",
              "│ block4_pool (\u001b[38;5;33mMaxPooling2D\u001b[0m)           │ (\u001b[38;5;45mNone\u001b[0m, \u001b[38;5;34m14\u001b[0m, \u001b[38;5;34m14\u001b[0m, \u001b[38;5;34m512\u001b[0m)         │               \u001b[38;5;34m0\u001b[0m │\n",
              "├──────────────────────────────────────┼─────────────────────────────┼─────────────────┤\n",
              "│ block5_conv1 (\u001b[38;5;33mConv2D\u001b[0m)                │ (\u001b[38;5;45mNone\u001b[0m, \u001b[38;5;34m14\u001b[0m, \u001b[38;5;34m14\u001b[0m, \u001b[38;5;34m512\u001b[0m)         │       \u001b[38;5;34m2,359,808\u001b[0m │\n",
              "├──────────────────────────────────────┼─────────────────────────────┼─────────────────┤\n",
              "│ block5_conv2 (\u001b[38;5;33mConv2D\u001b[0m)                │ (\u001b[38;5;45mNone\u001b[0m, \u001b[38;5;34m14\u001b[0m, \u001b[38;5;34m14\u001b[0m, \u001b[38;5;34m512\u001b[0m)         │       \u001b[38;5;34m2,359,808\u001b[0m │\n",
              "├──────────────────────────────────────┼─────────────────────────────┼─────────────────┤\n",
              "│ block5_conv3 (\u001b[38;5;33mConv2D\u001b[0m)                │ (\u001b[38;5;45mNone\u001b[0m, \u001b[38;5;34m14\u001b[0m, \u001b[38;5;34m14\u001b[0m, \u001b[38;5;34m512\u001b[0m)         │       \u001b[38;5;34m2,359,808\u001b[0m │\n",
              "├──────────────────────────────────────┼─────────────────────────────┼─────────────────┤\n",
              "│ block5_pool (\u001b[38;5;33mMaxPooling2D\u001b[0m)           │ (\u001b[38;5;45mNone\u001b[0m, \u001b[38;5;34m7\u001b[0m, \u001b[38;5;34m7\u001b[0m, \u001b[38;5;34m512\u001b[0m)           │               \u001b[38;5;34m0\u001b[0m │\n",
              "├──────────────────────────────────────┼─────────────────────────────┼─────────────────┤\n",
              "│ global_average_pooling2d             │ (\u001b[38;5;45mNone\u001b[0m, \u001b[38;5;34m512\u001b[0m)                 │               \u001b[38;5;34m0\u001b[0m │\n",
              "│ (\u001b[38;5;33mGlobalAveragePooling2D\u001b[0m)             │                             │                 │\n",
              "├──────────────────────────────────────┼─────────────────────────────┼─────────────────┤\n",
              "│ dropout (\u001b[38;5;33mDropout\u001b[0m)                    │ (\u001b[38;5;45mNone\u001b[0m, \u001b[38;5;34m512\u001b[0m)                 │               \u001b[38;5;34m0\u001b[0m │\n",
              "├──────────────────────────────────────┼─────────────────────────────┼─────────────────┤\n",
              "│ dense (\u001b[38;5;33mDense\u001b[0m)                        │ (\u001b[38;5;45mNone\u001b[0m, \u001b[38;5;34m256\u001b[0m)                 │         \u001b[38;5;34m131,328\u001b[0m │\n",
              "├──────────────────────────────────────┼─────────────────────────────┼─────────────────┤\n",
              "│ dropout_1 (\u001b[38;5;33mDropout\u001b[0m)                  │ (\u001b[38;5;45mNone\u001b[0m, \u001b[38;5;34m256\u001b[0m)                 │               \u001b[38;5;34m0\u001b[0m │\n",
              "├──────────────────────────────────────┼─────────────────────────────┼─────────────────┤\n",
              "│ dense_1 (\u001b[38;5;33mDense\u001b[0m)                      │ (\u001b[38;5;45mNone\u001b[0m, \u001b[38;5;34m17\u001b[0m)                  │           \u001b[38;5;34m4,369\u001b[0m │\n",
              "└──────────────────────────────────────┴─────────────────────────────┴─────────────────┘\n"
            ],
            "text/html": [
              "<pre style=\"white-space:pre;overflow-x:auto;line-height:normal;font-family:Menlo,'DejaVu Sans Mono',consolas,'Courier New',monospace\">┏━━━━━━━━━━━━━━━━━━━━━━━━━━━━━━━━━━━━━━┳━━━━━━━━━━━━━━━━━━━━━━━━━━━━━┳━━━━━━━━━━━━━━━━━┓\n",
              "┃<span style=\"font-weight: bold\"> Layer (type)                         </span>┃<span style=\"font-weight: bold\"> Output Shape                </span>┃<span style=\"font-weight: bold\">         Param # </span>┃\n",
              "┡━━━━━━━━━━━━━━━━━━━━━━━━━━━━━━━━━━━━━━╇━━━━━━━━━━━━━━━━━━━━━━━━━━━━━╇━━━━━━━━━━━━━━━━━┩\n",
              "│ input_layer (<span style=\"color: #0087ff; text-decoration-color: #0087ff\">InputLayer</span>)             │ (<span style=\"color: #00d7ff; text-decoration-color: #00d7ff\">None</span>, <span style=\"color: #00af00; text-decoration-color: #00af00\">224</span>, <span style=\"color: #00af00; text-decoration-color: #00af00\">224</span>, <span style=\"color: #00af00; text-decoration-color: #00af00\">3</span>)         │               <span style=\"color: #00af00; text-decoration-color: #00af00\">0</span> │\n",
              "├──────────────────────────────────────┼─────────────────────────────┼─────────────────┤\n",
              "│ block1_conv1 (<span style=\"color: #0087ff; text-decoration-color: #0087ff\">Conv2D</span>)                │ (<span style=\"color: #00d7ff; text-decoration-color: #00d7ff\">None</span>, <span style=\"color: #00af00; text-decoration-color: #00af00\">224</span>, <span style=\"color: #00af00; text-decoration-color: #00af00\">224</span>, <span style=\"color: #00af00; text-decoration-color: #00af00\">64</span>)        │           <span style=\"color: #00af00; text-decoration-color: #00af00\">1,792</span> │\n",
              "├──────────────────────────────────────┼─────────────────────────────┼─────────────────┤\n",
              "│ block1_conv2 (<span style=\"color: #0087ff; text-decoration-color: #0087ff\">Conv2D</span>)                │ (<span style=\"color: #00d7ff; text-decoration-color: #00d7ff\">None</span>, <span style=\"color: #00af00; text-decoration-color: #00af00\">224</span>, <span style=\"color: #00af00; text-decoration-color: #00af00\">224</span>, <span style=\"color: #00af00; text-decoration-color: #00af00\">64</span>)        │          <span style=\"color: #00af00; text-decoration-color: #00af00\">36,928</span> │\n",
              "├──────────────────────────────────────┼─────────────────────────────┼─────────────────┤\n",
              "│ block1_pool (<span style=\"color: #0087ff; text-decoration-color: #0087ff\">MaxPooling2D</span>)           │ (<span style=\"color: #00d7ff; text-decoration-color: #00d7ff\">None</span>, <span style=\"color: #00af00; text-decoration-color: #00af00\">112</span>, <span style=\"color: #00af00; text-decoration-color: #00af00\">112</span>, <span style=\"color: #00af00; text-decoration-color: #00af00\">64</span>)        │               <span style=\"color: #00af00; text-decoration-color: #00af00\">0</span> │\n",
              "├──────────────────────────────────────┼─────────────────────────────┼─────────────────┤\n",
              "│ block2_conv1 (<span style=\"color: #0087ff; text-decoration-color: #0087ff\">Conv2D</span>)                │ (<span style=\"color: #00d7ff; text-decoration-color: #00d7ff\">None</span>, <span style=\"color: #00af00; text-decoration-color: #00af00\">112</span>, <span style=\"color: #00af00; text-decoration-color: #00af00\">112</span>, <span style=\"color: #00af00; text-decoration-color: #00af00\">128</span>)       │          <span style=\"color: #00af00; text-decoration-color: #00af00\">73,856</span> │\n",
              "├──────────────────────────────────────┼─────────────────────────────┼─────────────────┤\n",
              "│ block2_conv2 (<span style=\"color: #0087ff; text-decoration-color: #0087ff\">Conv2D</span>)                │ (<span style=\"color: #00d7ff; text-decoration-color: #00d7ff\">None</span>, <span style=\"color: #00af00; text-decoration-color: #00af00\">112</span>, <span style=\"color: #00af00; text-decoration-color: #00af00\">112</span>, <span style=\"color: #00af00; text-decoration-color: #00af00\">128</span>)       │         <span style=\"color: #00af00; text-decoration-color: #00af00\">147,584</span> │\n",
              "├──────────────────────────────────────┼─────────────────────────────┼─────────────────┤\n",
              "│ block2_pool (<span style=\"color: #0087ff; text-decoration-color: #0087ff\">MaxPooling2D</span>)           │ (<span style=\"color: #00d7ff; text-decoration-color: #00d7ff\">None</span>, <span style=\"color: #00af00; text-decoration-color: #00af00\">56</span>, <span style=\"color: #00af00; text-decoration-color: #00af00\">56</span>, <span style=\"color: #00af00; text-decoration-color: #00af00\">128</span>)         │               <span style=\"color: #00af00; text-decoration-color: #00af00\">0</span> │\n",
              "├──────────────────────────────────────┼─────────────────────────────┼─────────────────┤\n",
              "│ block3_conv1 (<span style=\"color: #0087ff; text-decoration-color: #0087ff\">Conv2D</span>)                │ (<span style=\"color: #00d7ff; text-decoration-color: #00d7ff\">None</span>, <span style=\"color: #00af00; text-decoration-color: #00af00\">56</span>, <span style=\"color: #00af00; text-decoration-color: #00af00\">56</span>, <span style=\"color: #00af00; text-decoration-color: #00af00\">256</span>)         │         <span style=\"color: #00af00; text-decoration-color: #00af00\">295,168</span> │\n",
              "├──────────────────────────────────────┼─────────────────────────────┼─────────────────┤\n",
              "│ block3_conv2 (<span style=\"color: #0087ff; text-decoration-color: #0087ff\">Conv2D</span>)                │ (<span style=\"color: #00d7ff; text-decoration-color: #00d7ff\">None</span>, <span style=\"color: #00af00; text-decoration-color: #00af00\">56</span>, <span style=\"color: #00af00; text-decoration-color: #00af00\">56</span>, <span style=\"color: #00af00; text-decoration-color: #00af00\">256</span>)         │         <span style=\"color: #00af00; text-decoration-color: #00af00\">590,080</span> │\n",
              "├──────────────────────────────────────┼─────────────────────────────┼─────────────────┤\n",
              "│ block3_conv3 (<span style=\"color: #0087ff; text-decoration-color: #0087ff\">Conv2D</span>)                │ (<span style=\"color: #00d7ff; text-decoration-color: #00d7ff\">None</span>, <span style=\"color: #00af00; text-decoration-color: #00af00\">56</span>, <span style=\"color: #00af00; text-decoration-color: #00af00\">56</span>, <span style=\"color: #00af00; text-decoration-color: #00af00\">256</span>)         │         <span style=\"color: #00af00; text-decoration-color: #00af00\">590,080</span> │\n",
              "├──────────────────────────────────────┼─────────────────────────────┼─────────────────┤\n",
              "│ block3_pool (<span style=\"color: #0087ff; text-decoration-color: #0087ff\">MaxPooling2D</span>)           │ (<span style=\"color: #00d7ff; text-decoration-color: #00d7ff\">None</span>, <span style=\"color: #00af00; text-decoration-color: #00af00\">28</span>, <span style=\"color: #00af00; text-decoration-color: #00af00\">28</span>, <span style=\"color: #00af00; text-decoration-color: #00af00\">256</span>)         │               <span style=\"color: #00af00; text-decoration-color: #00af00\">0</span> │\n",
              "├──────────────────────────────────────┼─────────────────────────────┼─────────────────┤\n",
              "│ block4_conv1 (<span style=\"color: #0087ff; text-decoration-color: #0087ff\">Conv2D</span>)                │ (<span style=\"color: #00d7ff; text-decoration-color: #00d7ff\">None</span>, <span style=\"color: #00af00; text-decoration-color: #00af00\">28</span>, <span style=\"color: #00af00; text-decoration-color: #00af00\">28</span>, <span style=\"color: #00af00; text-decoration-color: #00af00\">512</span>)         │       <span style=\"color: #00af00; text-decoration-color: #00af00\">1,180,160</span> │\n",
              "├──────────────────────────────────────┼─────────────────────────────┼─────────────────┤\n",
              "│ block4_conv2 (<span style=\"color: #0087ff; text-decoration-color: #0087ff\">Conv2D</span>)                │ (<span style=\"color: #00d7ff; text-decoration-color: #00d7ff\">None</span>, <span style=\"color: #00af00; text-decoration-color: #00af00\">28</span>, <span style=\"color: #00af00; text-decoration-color: #00af00\">28</span>, <span style=\"color: #00af00; text-decoration-color: #00af00\">512</span>)         │       <span style=\"color: #00af00; text-decoration-color: #00af00\">2,359,808</span> │\n",
              "├──────────────────────────────────────┼─────────────────────────────┼─────────────────┤\n",
              "│ block4_conv3 (<span style=\"color: #0087ff; text-decoration-color: #0087ff\">Conv2D</span>)                │ (<span style=\"color: #00d7ff; text-decoration-color: #00d7ff\">None</span>, <span style=\"color: #00af00; text-decoration-color: #00af00\">28</span>, <span style=\"color: #00af00; text-decoration-color: #00af00\">28</span>, <span style=\"color: #00af00; text-decoration-color: #00af00\">512</span>)         │       <span style=\"color: #00af00; text-decoration-color: #00af00\">2,359,808</span> │\n",
              "├──────────────────────────────────────┼─────────────────────────────┼─────────────────┤\n",
              "│ block4_pool (<span style=\"color: #0087ff; text-decoration-color: #0087ff\">MaxPooling2D</span>)           │ (<span style=\"color: #00d7ff; text-decoration-color: #00d7ff\">None</span>, <span style=\"color: #00af00; text-decoration-color: #00af00\">14</span>, <span style=\"color: #00af00; text-decoration-color: #00af00\">14</span>, <span style=\"color: #00af00; text-decoration-color: #00af00\">512</span>)         │               <span style=\"color: #00af00; text-decoration-color: #00af00\">0</span> │\n",
              "├──────────────────────────────────────┼─────────────────────────────┼─────────────────┤\n",
              "│ block5_conv1 (<span style=\"color: #0087ff; text-decoration-color: #0087ff\">Conv2D</span>)                │ (<span style=\"color: #00d7ff; text-decoration-color: #00d7ff\">None</span>, <span style=\"color: #00af00; text-decoration-color: #00af00\">14</span>, <span style=\"color: #00af00; text-decoration-color: #00af00\">14</span>, <span style=\"color: #00af00; text-decoration-color: #00af00\">512</span>)         │       <span style=\"color: #00af00; text-decoration-color: #00af00\">2,359,808</span> │\n",
              "├──────────────────────────────────────┼─────────────────────────────┼─────────────────┤\n",
              "│ block5_conv2 (<span style=\"color: #0087ff; text-decoration-color: #0087ff\">Conv2D</span>)                │ (<span style=\"color: #00d7ff; text-decoration-color: #00d7ff\">None</span>, <span style=\"color: #00af00; text-decoration-color: #00af00\">14</span>, <span style=\"color: #00af00; text-decoration-color: #00af00\">14</span>, <span style=\"color: #00af00; text-decoration-color: #00af00\">512</span>)         │       <span style=\"color: #00af00; text-decoration-color: #00af00\">2,359,808</span> │\n",
              "├──────────────────────────────────────┼─────────────────────────────┼─────────────────┤\n",
              "│ block5_conv3 (<span style=\"color: #0087ff; text-decoration-color: #0087ff\">Conv2D</span>)                │ (<span style=\"color: #00d7ff; text-decoration-color: #00d7ff\">None</span>, <span style=\"color: #00af00; text-decoration-color: #00af00\">14</span>, <span style=\"color: #00af00; text-decoration-color: #00af00\">14</span>, <span style=\"color: #00af00; text-decoration-color: #00af00\">512</span>)         │       <span style=\"color: #00af00; text-decoration-color: #00af00\">2,359,808</span> │\n",
              "├──────────────────────────────────────┼─────────────────────────────┼─────────────────┤\n",
              "│ block5_pool (<span style=\"color: #0087ff; text-decoration-color: #0087ff\">MaxPooling2D</span>)           │ (<span style=\"color: #00d7ff; text-decoration-color: #00d7ff\">None</span>, <span style=\"color: #00af00; text-decoration-color: #00af00\">7</span>, <span style=\"color: #00af00; text-decoration-color: #00af00\">7</span>, <span style=\"color: #00af00; text-decoration-color: #00af00\">512</span>)           │               <span style=\"color: #00af00; text-decoration-color: #00af00\">0</span> │\n",
              "├──────────────────────────────────────┼─────────────────────────────┼─────────────────┤\n",
              "│ global_average_pooling2d             │ (<span style=\"color: #00d7ff; text-decoration-color: #00d7ff\">None</span>, <span style=\"color: #00af00; text-decoration-color: #00af00\">512</span>)                 │               <span style=\"color: #00af00; text-decoration-color: #00af00\">0</span> │\n",
              "│ (<span style=\"color: #0087ff; text-decoration-color: #0087ff\">GlobalAveragePooling2D</span>)             │                             │                 │\n",
              "├──────────────────────────────────────┼─────────────────────────────┼─────────────────┤\n",
              "│ dropout (<span style=\"color: #0087ff; text-decoration-color: #0087ff\">Dropout</span>)                    │ (<span style=\"color: #00d7ff; text-decoration-color: #00d7ff\">None</span>, <span style=\"color: #00af00; text-decoration-color: #00af00\">512</span>)                 │               <span style=\"color: #00af00; text-decoration-color: #00af00\">0</span> │\n",
              "├──────────────────────────────────────┼─────────────────────────────┼─────────────────┤\n",
              "│ dense (<span style=\"color: #0087ff; text-decoration-color: #0087ff\">Dense</span>)                        │ (<span style=\"color: #00d7ff; text-decoration-color: #00d7ff\">None</span>, <span style=\"color: #00af00; text-decoration-color: #00af00\">256</span>)                 │         <span style=\"color: #00af00; text-decoration-color: #00af00\">131,328</span> │\n",
              "├──────────────────────────────────────┼─────────────────────────────┼─────────────────┤\n",
              "│ dropout_1 (<span style=\"color: #0087ff; text-decoration-color: #0087ff\">Dropout</span>)                  │ (<span style=\"color: #00d7ff; text-decoration-color: #00d7ff\">None</span>, <span style=\"color: #00af00; text-decoration-color: #00af00\">256</span>)                 │               <span style=\"color: #00af00; text-decoration-color: #00af00\">0</span> │\n",
              "├──────────────────────────────────────┼─────────────────────────────┼─────────────────┤\n",
              "│ dense_1 (<span style=\"color: #0087ff; text-decoration-color: #0087ff\">Dense</span>)                      │ (<span style=\"color: #00d7ff; text-decoration-color: #00d7ff\">None</span>, <span style=\"color: #00af00; text-decoration-color: #00af00\">17</span>)                  │           <span style=\"color: #00af00; text-decoration-color: #00af00\">4,369</span> │\n",
              "└──────────────────────────────────────┴─────────────────────────────┴─────────────────┘\n",
              "</pre>\n"
            ]
          },
          "metadata": {}
        },
        {
          "output_type": "display_data",
          "data": {
            "text/plain": [
              "\u001b[1m Total params: \u001b[0m\u001b[38;5;34m14,850,385\u001b[0m (56.65 MB)\n"
            ],
            "text/html": [
              "<pre style=\"white-space:pre;overflow-x:auto;line-height:normal;font-family:Menlo,'DejaVu Sans Mono',consolas,'Courier New',monospace\"><span style=\"font-weight: bold\"> Total params: </span><span style=\"color: #00af00; text-decoration-color: #00af00\">14,850,385</span> (56.65 MB)\n",
              "</pre>\n"
            ]
          },
          "metadata": {}
        },
        {
          "output_type": "display_data",
          "data": {
            "text/plain": [
              "\u001b[1m Trainable params: \u001b[0m\u001b[38;5;34m135,697\u001b[0m (530.07 KB)\n"
            ],
            "text/html": [
              "<pre style=\"white-space:pre;overflow-x:auto;line-height:normal;font-family:Menlo,'DejaVu Sans Mono',consolas,'Courier New',monospace\"><span style=\"font-weight: bold\"> Trainable params: </span><span style=\"color: #00af00; text-decoration-color: #00af00\">135,697</span> (530.07 KB)\n",
              "</pre>\n"
            ]
          },
          "metadata": {}
        },
        {
          "output_type": "display_data",
          "data": {
            "text/plain": [
              "\u001b[1m Non-trainable params: \u001b[0m\u001b[38;5;34m14,714,688\u001b[0m (56.13 MB)\n"
            ],
            "text/html": [
              "<pre style=\"white-space:pre;overflow-x:auto;line-height:normal;font-family:Menlo,'DejaVu Sans Mono',consolas,'Courier New',monospace\"><span style=\"font-weight: bold\"> Non-trainable params: </span><span style=\"color: #00af00; text-decoration-color: #00af00\">14,714,688</span> (56.13 MB)\n",
              "</pre>\n"
            ]
          },
          "metadata": {}
        }
      ]
    },
    {
      "cell_type": "code",
      "source": [
        "# 📦 Imports\n",
        "import numpy as np\n",
        "import rasterio\n",
        "import pickle\n",
        "from sklearn.model_selection import train_test_split\n",
        "from sklearn.preprocessing import MinMaxScaler\n",
        "from sklearn.decomposition import PCA\n",
        "from tensorflow.keras.utils import to_categorical\n",
        "from tensorflow.keras.utils import Sequence\n",
        "from tensorflow.keras.preprocessing.image import ImageDataGenerator\n",
        "from tensorflow.keras.applications import VGG16\n",
        "from tensorflow.keras.models import Model\n",
        "from tensorflow.keras.layers import Flatten, Dense, Dropout\n",
        "from tensorflow.keras.optimizers import Adam\n",
        "from tensorflow.keras.callbacks import EarlyStopping\n",
        "from skimage.transform import resize\n",
        "import os\n",
        "\n",
        "# 📁 Paths\n",
        "dataset_path = \"/content/drive/MyDrive/land-cover-classification-master/data/19920612_AVIRIS_IndianPine_Site3.tif\"\n",
        "ground_truth_path = \"/content/drive/MyDrive/land-cover-classification-master/data/19920612_AVIRIS_IndianPine_Site3_gr.tif\"\n",
        "\n",
        "# 📥 Load Hyperspectral Image\n",
        "with rasterio.open(dataset_path) as src:\n",
        "    image = src.read()  # (220, H, W)\n",
        "image = np.transpose(image, (1, 2, 0))  # (H, W, 220)\n",
        "\n",
        "# 📥 Load Labels\n",
        "with rasterio.open(ground_truth_path) as src:\n",
        "    labels = src.read(1)  # (H, W)\n",
        "\n",
        "# ⚙️ Normalize\n",
        "def normalize_image(image):\n",
        "    h, w, bands = image.shape\n",
        "    image_flat = image.reshape(-1, bands)\n",
        "    image_scaled = MinMaxScaler().fit_transform(image_flat)\n",
        "    return image_scaled.reshape(h, w, bands)\n",
        "\n",
        "image = normalize_image(image)\n",
        "\n",
        "# ⚙️ PCA: 220 → 3 channels for VGG16\n",
        "def apply_pca(image, n_components=3):\n",
        "    h, w, bands = image.shape\n",
        "    image_reshaped = image.reshape(-1, bands)\n",
        "    pca = PCA(n_components=n_components)\n",
        "    image_pca = pca.fit_transform(image_reshaped)\n",
        "    return image_pca.reshape(h, w, n_components)\n",
        "\n",
        "image = apply_pca(image)\n",
        "\n",
        "# 📦 Extract Patches\n",
        "PATCH_SIZE = 15\n",
        "\n",
        "def extract_patches(image, labels, patch_size):\n",
        "    half = patch_size // 2\n",
        "    h, w, bands = image.shape\n",
        "    X, y, coords = [], [], []\n",
        "\n",
        "    for i in range(half, h - half):\n",
        "        for j in range(half, w - half):\n",
        "            label = labels[i, j]\n",
        "            if label > 0:\n",
        "                patch = image[i - half:i + half + 1, j - half:j + half + 1, :]\n",
        "                if patch.shape == (patch_size, patch_size, bands):\n",
        "                    X.append(patch)\n",
        "                    y.append(label - 1)\n",
        "                    coords.append((i, j))\n",
        "\n",
        "    print(\"✅ Total valid patches extracted:\", len(X))\n",
        "    return np.array(X), np.array(y), coords\n",
        "\n",
        "X, y, coords = extract_patches(image, labels, PATCH_SIZE)\n",
        "\n",
        "# 🔢 One-hot Encode Labels\n",
        "NUM_CLASSES = len(np.unique(y))\n",
        "y = to_categorical(y, NUM_CLASSES)\n",
        "\n",
        "# 🔀 Train-Val-Test Split\n",
        "X_temp, X_test, y_temp, y_test, coords_temp, coords_test = train_test_split(\n",
        "    X, y, coords, test_size=0.15, stratify=y, random_state=42)\n",
        "X_train, X_val, y_train, y_val = train_test_split(\n",
        "    X_temp, y_temp, test_size=0.1765, stratify=y_temp, random_state=42)\n",
        "coords_train, coords_val = train_test_split(coords_temp, test_size=0.1765, random_state=42)\n",
        "\n",
        "# 💾 Save test data\n",
        "with open(\"/content/drive/MyDrive/land-cover-classification-master/test_data_vgg16.pkl\", \"wb\") as f:\n",
        "    pickle.dump((X_test, y_test), f)\n",
        "\n",
        "with open(\"/content/drive/MyDrive/land-cover-classification-master/coords_test_vgg16.pkl\", \"wb\") as f:\n",
        "    pickle.dump(coords_test, f)\n",
        "\n",
        "# ⚙️ Patch Generator with Augmentation & On-the-Fly Resizing\n",
        "class PatchGenerator(Sequence):\n",
        "    def __init__(self, X, y, batch_size=32, augment=False, shuffle=True):\n",
        "        self.X = X\n",
        "        self.y = y\n",
        "        self.batch_size = batch_size\n",
        "        self.augment = augment\n",
        "        self.shuffle = shuffle\n",
        "        self.indexes = np.arange(len(X))\n",
        "        self.datagen = ImageDataGenerator(\n",
        "            rotation_range=20,\n",
        "            width_shift_range=0.1,\n",
        "            height_shift_range=0.1,\n",
        "            horizontal_flip=True\n",
        "        ) if augment else None\n",
        "        self.on_epoch_end()\n",
        "\n",
        "    def __len__(self):\n",
        "        return int(np.ceil(len(self.X) / self.batch_size))\n",
        "\n",
        "    def __getitem__(self, index):\n",
        "        batch_indices = self.indexes[index*self.batch_size:(index+1)*self.batch_size]\n",
        "        X_batch = np.array([resize(self.X[i], (224, 224), preserve_range=True) for i in batch_indices])\n",
        "        y_batch = self.y[batch_indices]\n",
        "        if self.augment:\n",
        "            X_batch = next(self.datagen.flow(X_batch, batch_size=len(X_batch), shuffle=False))\n",
        "        return X_batch, y_batch\n",
        "\n",
        "    def on_epoch_end(self):\n",
        "        if self.shuffle:\n",
        "            np.random.shuffle(self.indexes)\n",
        "\n",
        "# 📈 Model Definition using VGG16\n",
        "base_model = VGG16(weights='imagenet', include_top=False, input_shape=(224, 224, 3))\n",
        "for layer in base_model.layers:\n",
        "    layer.trainable = False  # Freeze base layers\n",
        "\n",
        "x = Flatten()(base_model.output)\n",
        "x = Dense(256, activation='relu')(x)\n",
        "x = Dropout(0.5)(x)\n",
        "output = Dense(NUM_CLASSES, activation='softmax')(x)\n",
        "model = Model(inputs=base_model.input, outputs=output)\n",
        "\n",
        "model.compile(optimizer=Adam(1e-4), loss='categorical_crossentropy', metrics=['accuracy'])\n",
        "\n",
        "# 🎯 Training\n",
        "train_gen = PatchGenerator(X_train, y_train, batch_size=32, augment=True)\n",
        "val_gen = PatchGenerator(X_val, y_val, batch_size=32, augment=False)\n",
        "\n",
        "early_stop = EarlyStopping(monitor='val_loss', patience=5, restore_best_weights=True)\n",
        "\n",
        "history = model.fit(\n",
        "    train_gen,\n",
        "    validation_data=val_gen,\n",
        "    epochs=50,\n",
        "    callbacks=[early_stop]\n",
        ")\n"
      ],
      "metadata": {
        "colab": {
          "base_uri": "https://localhost:8080/"
        },
        "id": "4zXbp5PjqDGG",
        "outputId": "81339b8b-9fb3-4220-e6b3-5484b76c3d10"
      },
      "execution_count": null,
      "outputs": [
        {
          "output_type": "stream",
          "name": "stderr",
          "text": [
            "WARNING:rasterio._env:CPLE_AppDefined in 19920612_AVIRIS_IndianPine_Site3.tif: TIFFReadDirectory:Sum of Photometric type-related color channels and ExtraSamples doesn't match SamplesPerPixel. Defining non-color channels as ExtraSamples.\n",
            "/usr/local/lib/python3.11/dist-packages/rasterio/__init__.py:356: NotGeoreferencedWarning: Dataset has no geotransform, gcps, or rpcs. The identity matrix will be returned.\n",
            "  dataset = DatasetReader(path, driver=driver, sharing=sharing, **kwargs)\n",
            "WARNING:rasterio._env:CPLE_AppDefined in TIFFReadDirectory:Sum of Photometric type-related color channels and ExtraSamples doesn't match SamplesPerPixel. Defining non-color channels as ExtraSamples.\n"
          ]
        },
        {
          "output_type": "stream",
          "name": "stdout",
          "text": [
            "✅ Total valid patches extracted: 9427\n"
          ]
        },
        {
          "output_type": "stream",
          "name": "stderr",
          "text": [
            "/usr/local/lib/python3.11/dist-packages/keras/src/trainers/data_adapters/py_dataset_adapter.py:121: UserWarning: Your `PyDataset` class should call `super().__init__(**kwargs)` in its constructor. `**kwargs` can include `workers`, `use_multiprocessing`, `max_queue_size`. Do not pass these arguments to `fit()`, as they will be ignored.\n",
            "  self._warn_if_super_not_called()\n"
          ]
        },
        {
          "output_type": "stream",
          "name": "stdout",
          "text": [
            "Epoch 1/50\n",
            "\u001b[1m207/207\u001b[0m \u001b[32m━━━━━━━━━━━━━━━━━━━━\u001b[0m\u001b[37m\u001b[0m \u001b[1m203s\u001b[0m 902ms/step - accuracy: 0.4023 - loss: 1.8320 - val_accuracy: 0.7385 - val_loss: 0.8848\n",
            "Epoch 2/50\n",
            "\u001b[1m207/207\u001b[0m \u001b[32m━━━━━━━━━━━━━━━━━━━━\u001b[0m\u001b[37m\u001b[0m \u001b[1m178s\u001b[0m 858ms/step - accuracy: 0.6952 - loss: 0.9421 - val_accuracy: 0.8466 - val_loss: 0.6271\n",
            "Epoch 3/50\n",
            "\u001b[1m207/207\u001b[0m \u001b[32m━━━━━━━━━━━━━━━━━━━━\u001b[0m\u001b[37m\u001b[0m \u001b[1m179s\u001b[0m 867ms/step - accuracy: 0.7796 - loss: 0.7106 - val_accuracy: 0.8813 - val_loss: 0.4984\n",
            "Epoch 4/50\n",
            "\u001b[1m207/207\u001b[0m \u001b[32m━━━━━━━━━━━━━━━━━━━━\u001b[0m\u001b[37m\u001b[0m \u001b[1m177s\u001b[0m 852ms/step - accuracy: 0.8309 - loss: 0.5616 - val_accuracy: 0.8947 - val_loss: 0.3983\n",
            "Epoch 5/50\n",
            "\u001b[1m207/207\u001b[0m \u001b[32m━━━━━━━━━━━━━━━━━━━━\u001b[0m\u001b[37m\u001b[0m \u001b[1m179s\u001b[0m 866ms/step - accuracy: 0.8473 - loss: 0.4943 - val_accuracy: 0.9230 - val_loss: 0.3144\n",
            "Epoch 6/50\n",
            "\u001b[1m207/207\u001b[0m \u001b[32m━━━━━━━━━━━━━━━━━━━━\u001b[0m\u001b[37m\u001b[0m \u001b[1m177s\u001b[0m 857ms/step - accuracy: 0.8829 - loss: 0.4188 - val_accuracy: 0.9343 - val_loss: 0.2665\n",
            "Epoch 7/50\n",
            "\u001b[1m207/207\u001b[0m \u001b[32m━━━━━━━━━━━━━━━━━━━━\u001b[0m\u001b[37m\u001b[0m \u001b[1m177s\u001b[0m 853ms/step - accuracy: 0.8815 - loss: 0.3796 - val_accuracy: 0.9413 - val_loss: 0.2337\n",
            "Epoch 8/50\n",
            "\u001b[1m207/207\u001b[0m \u001b[32m━━━━━━━━━━━━━━━━━━━━\u001b[0m\u001b[37m\u001b[0m \u001b[1m175s\u001b[0m 844ms/step - accuracy: 0.9062 - loss: 0.3150 - val_accuracy: 0.9484 - val_loss: 0.2037\n",
            "Epoch 9/50\n",
            "\u001b[1m207/207\u001b[0m \u001b[32m━━━━━━━━━━━━━━━━━━━━\u001b[0m\u001b[37m\u001b[0m \u001b[1m175s\u001b[0m 846ms/step - accuracy: 0.9121 - loss: 0.2957 - val_accuracy: 0.9541 - val_loss: 0.1777\n",
            "Epoch 10/50\n",
            "\u001b[1m207/207\u001b[0m \u001b[32m━━━━━━━━━━━━━━━━━━━━\u001b[0m\u001b[37m\u001b[0m \u001b[1m177s\u001b[0m 855ms/step - accuracy: 0.9247 - loss: 0.2695 - val_accuracy: 0.9470 - val_loss: 0.1766\n",
            "Epoch 11/50\n",
            "\u001b[1m207/207\u001b[0m \u001b[32m━━━━━━━━━━━━━━━━━━━━\u001b[0m\u001b[37m\u001b[0m \u001b[1m177s\u001b[0m 856ms/step - accuracy: 0.9240 - loss: 0.2577 - val_accuracy: 0.9625 - val_loss: 0.1463\n",
            "Epoch 12/50\n",
            "\u001b[1m207/207\u001b[0m \u001b[32m━━━━━━━━━━━━━━━━━━━━\u001b[0m\u001b[37m\u001b[0m \u001b[1m174s\u001b[0m 843ms/step - accuracy: 0.9332 - loss: 0.2300 - val_accuracy: 0.9703 - val_loss: 0.1304\n",
            "Epoch 13/50\n",
            "\u001b[1m207/207\u001b[0m \u001b[32m━━━━━━━━━━━━━━━━━━━━\u001b[0m\u001b[37m\u001b[0m \u001b[1m175s\u001b[0m 848ms/step - accuracy: 0.9360 - loss: 0.2221 - val_accuracy: 0.9739 - val_loss: 0.1214\n",
            "Epoch 14/50\n",
            "\u001b[1m207/207\u001b[0m \u001b[32m━━━━━━━━━━━━━━━━━━━━\u001b[0m\u001b[37m\u001b[0m \u001b[1m183s\u001b[0m 884ms/step - accuracy: 0.9390 - loss: 0.2086 - val_accuracy: 0.9802 - val_loss: 0.1061\n",
            "Epoch 15/50\n",
            "\u001b[1m207/207\u001b[0m \u001b[32m━━━━━━━━━━━━━━━━━━━━\u001b[0m\u001b[37m\u001b[0m \u001b[1m176s\u001b[0m 848ms/step - accuracy: 0.9497 - loss: 0.1820 - val_accuracy: 0.9809 - val_loss: 0.0903\n",
            "Epoch 16/50\n",
            "\u001b[1m207/207\u001b[0m \u001b[32m━━━━━━━━━━━━━━━━━━━━\u001b[0m\u001b[37m\u001b[0m \u001b[1m182s\u001b[0m 879ms/step - accuracy: 0.9454 - loss: 0.1791 - val_accuracy: 0.9703 - val_loss: 0.1095\n",
            "Epoch 17/50\n",
            "\u001b[1m207/207\u001b[0m \u001b[32m━━━━━━━━━━━━━━━━━━━━\u001b[0m\u001b[37m\u001b[0m \u001b[1m174s\u001b[0m 842ms/step - accuracy: 0.9531 - loss: 0.1710 - val_accuracy: 0.9859 - val_loss: 0.0802\n",
            "Epoch 18/50\n",
            "\u001b[1m207/207\u001b[0m \u001b[32m━━━━━━━━━━━━━━━━━━━━\u001b[0m\u001b[37m\u001b[0m \u001b[1m176s\u001b[0m 849ms/step - accuracy: 0.9566 - loss: 0.1554 - val_accuracy: 0.9866 - val_loss: 0.0809\n",
            "Epoch 19/50\n",
            "\u001b[1m207/207\u001b[0m \u001b[32m━━━━━━━━━━━━━━━━━━━━\u001b[0m\u001b[37m\u001b[0m \u001b[1m185s\u001b[0m 892ms/step - accuracy: 0.9526 - loss: 0.1624 - val_accuracy: 0.9845 - val_loss: 0.0727\n",
            "Epoch 20/50\n",
            "\u001b[1m207/207\u001b[0m \u001b[32m━━━━━━━━━━━━━━━━━━━━\u001b[0m\u001b[37m\u001b[0m \u001b[1m182s\u001b[0m 878ms/step - accuracy: 0.9549 - loss: 0.1544 - val_accuracy: 0.9880 - val_loss: 0.0652\n",
            "Epoch 21/50\n",
            "\u001b[1m207/207\u001b[0m \u001b[32m━━━━━━━━━━━━━━━━━━━━\u001b[0m\u001b[37m\u001b[0m \u001b[1m180s\u001b[0m 868ms/step - accuracy: 0.9619 - loss: 0.1353 - val_accuracy: 0.9859 - val_loss: 0.0594\n",
            "Epoch 22/50\n",
            "\u001b[1m207/207\u001b[0m \u001b[32m━━━━━━━━━━━━━━━━━━━━\u001b[0m\u001b[37m\u001b[0m \u001b[1m180s\u001b[0m 866ms/step - accuracy: 0.9632 - loss: 0.1290 - val_accuracy: 0.9852 - val_loss: 0.0777\n",
            "Epoch 23/50\n",
            "\u001b[1m207/207\u001b[0m \u001b[32m━━━━━━━━━━━━━━━━━━━━\u001b[0m\u001b[37m\u001b[0m \u001b[1m175s\u001b[0m 846ms/step - accuracy: 0.9633 - loss: 0.1192 - val_accuracy: 0.9887 - val_loss: 0.0587\n",
            "Epoch 24/50\n",
            "\u001b[1m207/207\u001b[0m \u001b[32m━━━━━━━━━━━━━━━━━━━━\u001b[0m\u001b[37m\u001b[0m \u001b[1m203s\u001b[0m 851ms/step - accuracy: 0.9640 - loss: 0.1276 - val_accuracy: 0.9915 - val_loss: 0.0508\n",
            "Epoch 25/50\n",
            "\u001b[1m207/207\u001b[0m \u001b[32m━━━━━━━━━━━━━━━━━━━━\u001b[0m\u001b[37m\u001b[0m \u001b[1m173s\u001b[0m 835ms/step - accuracy: 0.9595 - loss: 0.1288 - val_accuracy: 0.9880 - val_loss: 0.0534\n",
            "Epoch 26/50\n",
            "\u001b[1m207/207\u001b[0m \u001b[32m━━━━━━━━━━━━━━━━━━━━\u001b[0m\u001b[37m\u001b[0m \u001b[1m174s\u001b[0m 842ms/step - accuracy: 0.9709 - loss: 0.1053 - val_accuracy: 0.9880 - val_loss: 0.0431\n",
            "Epoch 27/50\n",
            "\u001b[1m207/207\u001b[0m \u001b[32m━━━━━━━━━━━━━━━━━━━━\u001b[0m\u001b[37m\u001b[0m \u001b[1m173s\u001b[0m 838ms/step - accuracy: 0.9698 - loss: 0.1077 - val_accuracy: 0.9922 - val_loss: 0.0457\n",
            "Epoch 28/50\n",
            "\u001b[1m207/207\u001b[0m \u001b[32m━━━━━━━━━━━━━━━━━━━━\u001b[0m\u001b[37m\u001b[0m \u001b[1m177s\u001b[0m 857ms/step - accuracy: 0.9626 - loss: 0.1255 - val_accuracy: 0.9908 - val_loss: 0.0429\n",
            "Epoch 29/50\n",
            "\u001b[1m207/207\u001b[0m \u001b[32m━━━━━━━━━━━━━━━━━━━━\u001b[0m\u001b[37m\u001b[0m \u001b[1m176s\u001b[0m 849ms/step - accuracy: 0.9675 - loss: 0.1102 - val_accuracy: 0.9901 - val_loss: 0.0571\n",
            "Epoch 30/50\n",
            "\u001b[1m207/207\u001b[0m \u001b[32m━━━━━━━━━━━━━━━━━━━━\u001b[0m\u001b[37m\u001b[0m \u001b[1m177s\u001b[0m 854ms/step - accuracy: 0.9665 - loss: 0.1117 - val_accuracy: 0.9929 - val_loss: 0.0410\n",
            "Epoch 31/50\n",
            "\u001b[1m207/207\u001b[0m \u001b[32m━━━━━━━━━━━━━━━━━━━━\u001b[0m\u001b[37m\u001b[0m \u001b[1m179s\u001b[0m 861ms/step - accuracy: 0.9698 - loss: 0.1077 - val_accuracy: 0.9894 - val_loss: 0.0427\n",
            "Epoch 32/50\n",
            "\u001b[1m207/207\u001b[0m \u001b[32m━━━━━━━━━━━━━━━━━━━━\u001b[0m\u001b[37m\u001b[0m \u001b[1m175s\u001b[0m 847ms/step - accuracy: 0.9670 - loss: 0.1023 - val_accuracy: 0.9908 - val_loss: 0.0373\n",
            "Epoch 33/50\n",
            "\u001b[1m207/207\u001b[0m \u001b[32m━━━━━━━━━━━━━━━━━━━━\u001b[0m\u001b[37m\u001b[0m \u001b[1m174s\u001b[0m 842ms/step - accuracy: 0.9727 - loss: 0.1004 - val_accuracy: 0.9929 - val_loss: 0.0353\n",
            "Epoch 34/50\n",
            "\u001b[1m207/207\u001b[0m \u001b[32m━━━━━━━━━━━━━━━━━━━━\u001b[0m\u001b[37m\u001b[0m \u001b[1m180s\u001b[0m 871ms/step - accuracy: 0.9687 - loss: 0.1054 - val_accuracy: 0.9936 - val_loss: 0.0329\n",
            "Epoch 35/50\n",
            "\u001b[1m207/207\u001b[0m \u001b[32m━━━━━━━━━━━━━━━━━━━━\u001b[0m\u001b[37m\u001b[0m \u001b[1m174s\u001b[0m 840ms/step - accuracy: 0.9724 - loss: 0.0989 - val_accuracy: 0.9894 - val_loss: 0.0420\n",
            "Epoch 36/50\n",
            "\u001b[1m207/207\u001b[0m \u001b[32m━━━━━━━━━━━━━━━━━━━━\u001b[0m\u001b[37m\u001b[0m \u001b[1m176s\u001b[0m 848ms/step - accuracy: 0.9673 - loss: 0.1049 - val_accuracy: 0.9951 - val_loss: 0.0344\n",
            "Epoch 37/50\n",
            "\u001b[1m207/207\u001b[0m \u001b[32m━━━━━━━━━━━━━━━━━━━━\u001b[0m\u001b[37m\u001b[0m \u001b[1m195s\u001b[0m 943ms/step - accuracy: 0.9710 - loss: 0.0924 - val_accuracy: 0.9951 - val_loss: 0.0355\n",
            "Epoch 38/50\n",
            "\u001b[1m207/207\u001b[0m \u001b[32m━━━━━━━━━━━━━━━━━━━━\u001b[0m\u001b[37m\u001b[0m \u001b[1m183s\u001b[0m 883ms/step - accuracy: 0.9690 - loss: 0.0874 - val_accuracy: 0.9915 - val_loss: 0.0308\n",
            "Epoch 39/50\n",
            "\u001b[1m207/207\u001b[0m \u001b[32m━━━━━━━━━━━━━━━━━━━━\u001b[0m\u001b[37m\u001b[0m \u001b[1m198s\u001b[0m 866ms/step - accuracy: 0.9767 - loss: 0.0881 - val_accuracy: 0.9887 - val_loss: 0.0392\n",
            "Epoch 40/50\n",
            "\u001b[1m207/207\u001b[0m \u001b[32m━━━━━━━━━━━━━━━━━━━━\u001b[0m\u001b[37m\u001b[0m \u001b[1m202s\u001b[0m 979ms/step - accuracy: 0.9733 - loss: 0.0880 - val_accuracy: 0.9915 - val_loss: 0.0309\n",
            "Epoch 41/50\n",
            "\u001b[1m207/207\u001b[0m \u001b[32m━━━━━━━━━━━━━━━━━━━━\u001b[0m\u001b[37m\u001b[0m \u001b[1m198s\u001b[0m 959ms/step - accuracy: 0.9785 - loss: 0.0743 - val_accuracy: 0.9936 - val_loss: 0.0345\n",
            "Epoch 42/50\n",
            "\u001b[1m207/207\u001b[0m \u001b[32m━━━━━━━━━━━━━━━━━━━━\u001b[0m\u001b[37m\u001b[0m \u001b[1m179s\u001b[0m 865ms/step - accuracy: 0.9704 - loss: 0.0893 - val_accuracy: 0.9951 - val_loss: 0.0264\n",
            "Epoch 43/50\n",
            "\u001b[1m207/207\u001b[0m \u001b[32m━━━━━━━━━━━━━━━━━━━━\u001b[0m\u001b[37m\u001b[0m \u001b[1m177s\u001b[0m 858ms/step - accuracy: 0.9734 - loss: 0.0878 - val_accuracy: 0.9951 - val_loss: 0.0268\n",
            "Epoch 44/50\n",
            "\u001b[1m207/207\u001b[0m \u001b[32m━━━━━━━━━━━━━━━━━━━━\u001b[0m\u001b[37m\u001b[0m \u001b[1m176s\u001b[0m 849ms/step - accuracy: 0.9754 - loss: 0.0848 - val_accuracy: 0.9915 - val_loss: 0.0314\n",
            "Epoch 45/50\n",
            "\u001b[1m207/207\u001b[0m \u001b[32m━━━━━━━━━━━━━━━━━━━━\u001b[0m\u001b[37m\u001b[0m \u001b[1m174s\u001b[0m 842ms/step - accuracy: 0.9759 - loss: 0.0805 - val_accuracy: 0.9979 - val_loss: 0.0200\n",
            "Epoch 46/50\n",
            "\u001b[1m207/207\u001b[0m \u001b[32m━━━━━━━━━━━━━━━━━━━━\u001b[0m\u001b[37m\u001b[0m \u001b[1m181s\u001b[0m 870ms/step - accuracy: 0.9754 - loss: 0.0772 - val_accuracy: 0.9958 - val_loss: 0.0220\n",
            "Epoch 47/50\n",
            "\u001b[1m207/207\u001b[0m \u001b[32m━━━━━━━━━━━━━━━━━━━━\u001b[0m\u001b[37m\u001b[0m \u001b[1m176s\u001b[0m 848ms/step - accuracy: 0.9777 - loss: 0.0689 - val_accuracy: 0.9958 - val_loss: 0.0234\n",
            "Epoch 48/50\n",
            "\u001b[1m207/207\u001b[0m \u001b[32m━━━━━━━━━━━━━━━━━━━━\u001b[0m\u001b[37m\u001b[0m \u001b[1m202s\u001b[0m 850ms/step - accuracy: 0.9804 - loss: 0.0702 - val_accuracy: 0.9972 - val_loss: 0.0207\n",
            "Epoch 49/50\n",
            "\u001b[1m207/207\u001b[0m \u001b[32m━━━━━━━━━━━━━━━━━━━━\u001b[0m\u001b[37m\u001b[0m \u001b[1m176s\u001b[0m 852ms/step - accuracy: 0.9768 - loss: 0.0718 - val_accuracy: 0.9951 - val_loss: 0.0263\n",
            "Epoch 50/50\n",
            "\u001b[1m207/207\u001b[0m \u001b[32m━━━━━━━━━━━━━━━━━━━━\u001b[0m\u001b[37m\u001b[0m \u001b[1m179s\u001b[0m 867ms/step - accuracy: 0.9739 - loss: 0.0863 - val_accuracy: 0.9908 - val_loss: 0.0267\n"
          ]
        }
      ]
    },
    {
      "cell_type": "code",
      "source": [
        "model.save(\"/content/drive/MyDrive/land-cover-classification-master/vgg16_updated_model.h5\")"
      ],
      "metadata": {
        "colab": {
          "base_uri": "https://localhost:8080/"
        },
        "id": "tUpc8mjSGN-C",
        "outputId": "3ebe6c08-791c-4175-be74-ecab85d12561"
      },
      "execution_count": null,
      "outputs": [
        {
          "output_type": "stream",
          "name": "stderr",
          "text": [
            "WARNING:absl:You are saving your model as an HDF5 file via `model.save()` or `keras.saving.save_model(model)`. This file format is considered legacy. We recommend using instead the native Keras format, e.g. `model.save('my_model.keras')` or `keras.saving.save_model(model, 'my_model.keras')`. \n"
          ]
        }
      ]
    },
    {
      "cell_type": "code",
      "source": [
        "import pickle\n",
        "import numpy as np\n",
        "import cv2\n",
        "from sklearn.metrics import classification_report, confusion_matrix, accuracy_score\n",
        "import matplotlib.pyplot as plt\n",
        "import seaborn as sns\n",
        "from tensorflow.keras.models import load_model\n",
        "\n",
        "# --- Step 1: Load test data ---\n",
        "with open('/content/drive/MyDrive/land-cover-classification-master/test_data_vgg16.pkl', 'rb') as f:\n",
        "    X_test, y_test = pickle.load(f)\n",
        "\n",
        "print(f\"Original test shape: {X_test.shape}\")\n",
        "\n",
        "# --- Step 2: Resize patches to 224x224x3 ---\n",
        "X_test_resized = np.array([cv2.resize(img, (224, 224)) for img in X_test])\n",
        "print(f\"Resized test shape: {X_test_resized.shape}\")\n",
        "\n",
        "# --- Step 3: Load the trained model ---\n",
        "model = load_model('/content/drive/MyDrive/land-cover-classification-master/vgg16_updated_model.h5')  # Replace with actual path\n",
        "\n",
        "# --- Step 4: Make predictions ---\n",
        "y_pred_probs = model.predict(X_test_resized)\n",
        "y_pred = np.argmax(y_pred_probs, axis=1)\n",
        "y_true = np.argmax(y_test, axis=1)  # assuming one-hot encoded\n",
        "\n",
        "# --- Step 5: Evaluation ---\n",
        "print(\"\\nClassification Report:\\n\")\n",
        "print(classification_report(y_true, y_pred))\n",
        "\n",
        "print(f\"\\nAccuracy Score: {accuracy_score(y_true, y_pred):.4f}\")\n",
        "\n",
        "# --- Step 6: Confusion Matrix ---\n",
        "cm = confusion_matrix(y_true, y_pred)\n",
        "\n",
        "plt.figure(figsize=(10, 8))\n",
        "sns.heatmap(cm, annot=True, fmt=\"d\", cmap=\"Blues\")\n",
        "plt.title(\"Confusion Matrix\")\n",
        "plt.xlabel(\"Predicted\")\n",
        "plt.ylabel(\"Actual\")\n",
        "plt.show()\n"
      ],
      "metadata": {
        "colab": {
          "base_uri": "https://localhost:8080/",
          "height": 1000
        },
        "id": "GDIuw8hxPoUq",
        "outputId": "946b7fd2-bd88-4ef0-fe86-c4c67c5f7c7b"
      },
      "execution_count": null,
      "outputs": [
        {
          "output_type": "stream",
          "name": "stdout",
          "text": [
            "Original test shape: (1415, 15, 15, 3)\n",
            "Resized test shape: (1415, 224, 224, 3)\n"
          ]
        },
        {
          "output_type": "stream",
          "name": "stderr",
          "text": [
            "WARNING:absl:Compiled the loaded model, but the compiled metrics have yet to be built. `model.compile_metrics` will be empty until you train or evaluate the model.\n"
          ]
        },
        {
          "output_type": "stream",
          "name": "stdout",
          "text": [
            "\u001b[1m45/45\u001b[0m \u001b[32m━━━━━━━━━━━━━━━━━━━━\u001b[0m\u001b[37m\u001b[0m \u001b[1m26s\u001b[0m 286ms/step\n",
            "\n",
            "Classification Report:\n",
            "\n",
            "              precision    recall  f1-score   support\n",
            "\n",
            "           0       1.00      0.88      0.93         8\n",
            "           1       1.00      0.99      0.99       212\n",
            "           2       0.99      1.00      0.99        93\n",
            "           3       1.00      1.00      1.00        30\n",
            "           4       1.00      1.00      1.00        60\n",
            "           5       0.99      1.00      1.00       112\n",
            "           6       1.00      1.00      1.00         4\n",
            "           7       1.00      1.00      1.00        66\n",
            "           8       1.00      0.67      0.80         3\n",
            "           9       0.99      0.99      0.99       132\n",
            "          10       0.99      0.99      0.99       348\n",
            "          11       1.00      0.99      0.99        82\n",
            "          12       1.00      1.00      1.00        32\n",
            "          13       1.00      1.00      1.00       188\n",
            "          14       0.97      1.00      0.98        31\n",
            "          15       1.00      1.00      1.00        14\n",
            "\n",
            "    accuracy                           0.99      1415\n",
            "   macro avg       1.00      0.97      0.98      1415\n",
            "weighted avg       0.99      0.99      0.99      1415\n",
            "\n",
            "\n",
            "Accuracy Score: 0.9936\n"
          ]
        },
        {
          "output_type": "display_data",
          "data": {
            "text/plain": [
              "<Figure size 1000x800 with 2 Axes>"
            ],
            "image/png": "[encoded data removed]"
          },
          "metadata": {}
        }
      ]
    },
    {
      "cell_type": "code",
      "source": [
        "import pandas as pd\n",
        "from sklearn.metrics import classification_report\n",
        "\n",
        "report_dict = classification_report(y_true, y_pred, output_dict=True)\n",
        "report_df = pd.DataFrame(report_dict).transpose()\n",
        "print(report_df)"
      ],
      "metadata": {
        "colab": {
          "base_uri": "https://localhost:8080/"
        },
        "id": "d0x9F45pREkA",
        "outputId": "712e96e6-863d-4ba9-9166-abdef0e9d720"
      },
      "execution_count": null,
      "outputs": [
        {
          "output_type": "stream",
          "name": "stdout",
          "text": [
            "              precision    recall  f1-score     support\n",
            "0              1.000000  0.875000  0.933333     8.00000\n",
            "1              0.995238  0.985849  0.990521   212.00000\n",
            "2              0.989362  1.000000  0.994652    93.00000\n",
            "3              1.000000  1.000000  1.000000    30.00000\n",
            "4              1.000000  1.000000  1.000000    60.00000\n",
            "5              0.991150  1.000000  0.995556   112.00000\n",
            "6              1.000000  1.000000  1.000000     4.00000\n",
            "7              1.000000  1.000000  1.000000    66.00000\n",
            "8              1.000000  0.666667  0.800000     3.00000\n",
            "9              0.992424  0.992424  0.992424   132.00000\n",
            "10             0.988571  0.994253  0.991404   348.00000\n",
            "11             1.000000  0.987805  0.993865    82.00000\n",
            "12             1.000000  1.000000  1.000000    32.00000\n",
            "13             1.000000  1.000000  1.000000   188.00000\n",
            "14             0.968750  1.000000  0.984127    31.00000\n",
            "15             1.000000  1.000000  1.000000    14.00000\n",
            "accuracy       0.993640  0.993640  0.993640     0.99364\n",
            "macro avg      0.995343  0.968875  0.979743  1415.00000\n",
            "weighted avg   0.993685  0.993640  0.993552  1415.00000\n"
          ]
        }
      ]
    },
    {
      "cell_type": "code",
      "source": [
        "\n"
      ],
      "metadata": {
        "id": "Oqs4BnKfSc6R"
      },
      "execution_count": null,
      "outputs": []
    }
  ]
}
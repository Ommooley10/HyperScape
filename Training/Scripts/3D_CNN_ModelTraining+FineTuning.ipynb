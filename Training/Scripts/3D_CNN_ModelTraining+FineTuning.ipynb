{
  "cells": [
    {
      "cell_type": "code",
      "execution_count": null,
      "metadata": {
        "colab": {
          "base_uri": "https://localhost:8080/"
        },
        "id": "Dam_EbKAWSwv",
        "outputId": "d7a2991f-8eea-4b09-c6ad-416370dab147"
      },
      "outputs": [
        {
          "name": "stdout",
          "output_type": "stream",
          "text": [
            "Mounted at /content/drive\n"
          ]
        }
      ],
      "source": [
        "from google.colab import drive\n",
        "drive.mount('/content/drive')"
      ]
    },
    {
      "cell_type": "code",
      "execution_count": null,
      "metadata": {
        "id": "SXK0DYODYLAw"
      },
      "outputs": [],
      "source": [
        "import os\n",
        "os.chdir('/content/drive/MyDrive/land-cover-classification-master')"
      ]
    },
    {
      "cell_type": "code",
      "execution_count": null,
      "metadata": {
        "colab": {
          "base_uri": "https://localhost:8080/"
        },
        "collapsed": true,
        "id": "U1gmZzDZYXFU",
        "outputId": "dfd9c76c-a619-4921-c2de-cbf7ff410463"
      },
      "outputs": [
        {
          "name": "stdout",
          "output_type": "stream",
          "text": [
            "Requirement already satisfied: tensorflow in /usr/local/lib/python3.11/dist-packages (2.18.0)\n",
            "Collecting rasterio\n",
            "  Downloading rasterio-1.4.3-cp311-cp311-manylinux_2_17_x86_64.manylinux2014_x86_64.whl.metadata (9.1 kB)\n",
            "Requirement already satisfied: numpy in /usr/local/lib/python3.11/dist-packages (2.0.2)\n",
            "Requirement already satisfied: scikit-learn in /usr/local/lib/python3.11/dist-packages (1.6.1)\n",
            "Requirement already satisfied: absl-py>=1.0.0 in /usr/local/lib/python3.11/dist-packages (from tensorflow) (1.4.0)\n",
            "Requirement already satisfied: astunparse>=1.6.0 in /usr/local/lib/python3.11/dist-packages (from tensorflow) (1.6.3)\n",
            "Requirement already satisfied: flatbuffers>=24.3.25 in /usr/local/lib/python3.11/dist-packages (from tensorflow) (25.2.10)\n",
            "Requirement already satisfied: gast!=0.5.0,!=0.5.1,!=0.5.2,>=0.2.1 in /usr/local/lib/python3.11/dist-packages (from tensorflow) (0.6.0)\n",
            "Requirement already satisfied: google-pasta>=0.1.1 in /usr/local/lib/python3.11/dist-packages (from tensorflow) (0.2.0)\n",
            "Requirement already satisfied: libclang>=13.0.0 in /usr/local/lib/python3.11/dist-packages (from tensorflow) (18.1.1)\n",
            "Requirement already satisfied: opt-einsum>=2.3.2 in /usr/local/lib/python3.11/dist-packages (from tensorflow) (3.4.0)\n",
            "Requirement already satisfied: packaging in /usr/local/lib/python3.11/dist-packages (from tensorflow) (24.2)\n",
            "Requirement already satisfied: protobuf!=4.21.0,!=4.21.1,!=4.21.2,!=4.21.3,!=4.21.4,!=4.21.5,<6.0.0dev,>=3.20.3 in /usr/local/lib/python3.11/dist-packages (from tensorflow) (5.29.4)\n",
            "Requirement already satisfied: requests<3,>=2.21.0 in /usr/local/lib/python3.11/dist-packages (from tensorflow) (2.32.3)\n",
            "Requirement already satisfied: setuptools in /usr/local/lib/python3.11/dist-packages (from tensorflow) (75.2.0)\n",
            "Requirement already satisfied: six>=1.12.0 in /usr/local/lib/python3.11/dist-packages (from tensorflow) (1.17.0)\n",
            "Requirement already satisfied: termcolor>=1.1.0 in /usr/local/lib/python3.11/dist-packages (from tensorflow) (3.0.1)\n",
            "Requirement already satisfied: typing-extensions>=3.6.6 in /usr/local/lib/python3.11/dist-packages (from tensorflow) (4.13.2)\n",
            "Requirement already satisfied: wrapt>=1.11.0 in /usr/local/lib/python3.11/dist-packages (from tensorflow) (1.17.2)\n",
            "Requirement already satisfied: grpcio<2.0,>=1.24.3 in /usr/local/lib/python3.11/dist-packages (from tensorflow) (1.71.0)\n",
            "Requirement already satisfied: tensorboard<2.19,>=2.18 in /usr/local/lib/python3.11/dist-packages (from tensorflow) (2.18.0)\n",
            "Requirement already satisfied: keras>=3.5.0 in /usr/local/lib/python3.11/dist-packages (from tensorflow) (3.8.0)\n",
            "Requirement already satisfied: h5py>=3.11.0 in /usr/local/lib/python3.11/dist-packages (from tensorflow) (3.13.0)\n",
            "Requirement already satisfied: ml-dtypes<0.5.0,>=0.4.0 in /usr/local/lib/python3.11/dist-packages (from tensorflow) (0.4.1)\n",
            "Requirement already satisfied: tensorflow-io-gcs-filesystem>=0.23.1 in /usr/local/lib/python3.11/dist-packages (from tensorflow) (0.37.1)\n",
            "Collecting affine (from rasterio)\n",
            "  Downloading affine-2.4.0-py3-none-any.whl.metadata (4.0 kB)\n",
            "Requirement already satisfied: attrs in /usr/local/lib/python3.11/dist-packages (from rasterio) (25.3.0)\n",
            "Requirement already satisfied: certifi in /usr/local/lib/python3.11/dist-packages (from rasterio) (2025.1.31)\n",
            "Requirement already satisfied: click>=4.0 in /usr/local/lib/python3.11/dist-packages (from rasterio) (8.1.8)\n",
            "Collecting cligj>=0.5 (from rasterio)\n",
            "  Downloading cligj-0.7.2-py3-none-any.whl.metadata (5.0 kB)\n",
            "Collecting click-plugins (from rasterio)\n",
            "  Downloading click_plugins-1.1.1-py2.py3-none-any.whl.metadata (6.4 kB)\n",
            "Requirement already satisfied: pyparsing in /usr/local/lib/python3.11/dist-packages (from rasterio) (3.2.3)\n",
            "Requirement already satisfied: scipy>=1.6.0 in /usr/local/lib/python3.11/dist-packages (from scikit-learn) (1.14.1)\n",
            "Requirement already satisfied: joblib>=1.2.0 in /usr/local/lib/python3.11/dist-packages (from scikit-learn) (1.4.2)\n",
            "Requirement already satisfied: threadpoolctl>=3.1.0 in /usr/local/lib/python3.11/dist-packages (from scikit-learn) (3.6.0)\n",
            "Requirement already satisfied: wheel<1.0,>=0.23.0 in /usr/local/lib/python3.11/dist-packages (from astunparse>=1.6.0->tensorflow) (0.45.1)\n",
            "Requirement already satisfied: rich in /usr/local/lib/python3.11/dist-packages (from keras>=3.5.0->tensorflow) (13.9.4)\n",
            "Requirement already satisfied: namex in /usr/local/lib/python3.11/dist-packages (from keras>=3.5.0->tensorflow) (0.0.9)\n",
            "Requirement already satisfied: optree in /usr/local/lib/python3.11/dist-packages (from keras>=3.5.0->tensorflow) (0.15.0)\n",
            "Requirement already satisfied: charset-normalizer<4,>=2 in /usr/local/lib/python3.11/dist-packages (from requests<3,>=2.21.0->tensorflow) (3.4.1)\n",
            "Requirement already satisfied: idna<4,>=2.5 in /usr/local/lib/python3.11/dist-packages (from requests<3,>=2.21.0->tensorflow) (3.10)\n",
            "Requirement already satisfied: urllib3<3,>=1.21.1 in /usr/local/lib/python3.11/dist-packages (from requests<3,>=2.21.0->tensorflow) (2.3.0)\n",
            "Requirement already satisfied: markdown>=2.6.8 in /usr/local/lib/python3.11/dist-packages (from tensorboard<2.19,>=2.18->tensorflow) (3.8)\n",
            "Requirement already satisfied: tensorboard-data-server<0.8.0,>=0.7.0 in /usr/local/lib/python3.11/dist-packages (from tensorboard<2.19,>=2.18->tensorflow) (0.7.2)\n",
            "Requirement already satisfied: werkzeug>=1.0.1 in /usr/local/lib/python3.11/dist-packages (from tensorboard<2.19,>=2.18->tensorflow) (3.1.3)\n",
            "Requirement already satisfied: MarkupSafe>=2.1.1 in /usr/local/lib/python3.11/dist-packages (from werkzeug>=1.0.1->tensorboard<2.19,>=2.18->tensorflow) (3.0.2)\n",
            "Requirement already satisfied: markdown-it-py>=2.2.0 in /usr/local/lib/python3.11/dist-packages (from rich->keras>=3.5.0->tensorflow) (3.0.0)\n",
            "Requirement already satisfied: pygments<3.0.0,>=2.13.0 in /usr/local/lib/python3.11/dist-packages (from rich->keras>=3.5.0->tensorflow) (2.18.0)\n",
            "Requirement already satisfied: mdurl~=0.1 in /usr/local/lib/python3.11/dist-packages (from markdown-it-py>=2.2.0->rich->keras>=3.5.0->tensorflow) (0.1.2)\n",
            "Downloading rasterio-1.4.3-cp311-cp311-manylinux_2_17_x86_64.manylinux2014_x86_64.whl (22.2 MB)\n",
            "\u001b[2K   \u001b[90m━━━━━━━━━━━━━━━━━━━━━━━━━━━━━━━━━━━━━━━━\u001b[0m \u001b[32m22.2/22.2 MB\u001b[0m \u001b[31m104.6 MB/s\u001b[0m eta \u001b[36m0:00:00\u001b[0m\n",
            "\u001b[?25hDownloading cligj-0.7.2-py3-none-any.whl (7.1 kB)\n",
            "Downloading affine-2.4.0-py3-none-any.whl (15 kB)\n",
            "Downloading click_plugins-1.1.1-py2.py3-none-any.whl (7.5 kB)\n",
            "Installing collected packages: cligj, click-plugins, affine, rasterio\n",
            "Successfully installed affine-2.4.0 click-plugins-1.1.1 cligj-0.7.2 rasterio-1.4.3\n"
          ]
        }
      ],
      "source": [
        "!pip install tensorflow rasterio numpy scikit-learn"
      ]
    },
    {
      "cell_type": "code",
      "execution_count": null,
      "metadata": {
        "colab": {
          "base_uri": "https://localhost:8080/"
        },
        "id": "RSpaGsIHYZXW",
        "outputId": "34f0aa40-967d-47dd-9deb-fc06744e8218"
      },
      "outputs": [
        {
          "name": "stdout",
          "output_type": "stream",
          "text": [
            "✅ All libraries loaded!\n"
          ]
        }
      ],
      "source": [
        "import numpy as np\n",
        "import rasterio\n",
        "import pickle\n",
        "import tensorflow as tf\n",
        "from tensorflow.keras import layers, models\n",
        "from sklearn.model_selection import train_test_split\n",
        "from sklearn.decomposition import PCA\n",
        "from sklearn.preprocessing import StandardScaler\n",
        "from tensorflow.keras.utils import to_categorical\n",
        "import matplotlib.pyplot as plt\n",
        "\n",
        "print(\"✅ All libraries loaded!\")"
      ]
    },
    {
      "cell_type": "code",
      "execution_count": null,
      "metadata": {
        "colab": {
          "base_uri": "https://localhost:8080/"
        },
        "id": "jfPtoWpMZztU",
        "outputId": "e73fbcb6-9dcd-49d4-8942-28ede3b85f60"
      },
      "outputs": [
        {
          "name": "stderr",
          "output_type": "stream",
          "text": [
            "WARNING:rasterio._env:CPLE_AppDefined in 19920612_AVIRIS_IndianPine_Site3.tif: TIFFReadDirectory:Sum of Photometric type-related color channels and ExtraSamples doesn't match SamplesPerPixel. Defining non-color channels as ExtraSamples.\n",
            "/usr/local/lib/python3.11/dist-packages/rasterio/__init__.py:356: NotGeoreferencedWarning: Dataset has no geotransform, gcps, or rpcs. The identity matrix will be returned.\n",
            "  dataset = DatasetReader(path, driver=driver, sharing=sharing, **kwargs)\n",
            "WARNING:rasterio._env:CPLE_AppDefined in TIFFReadDirectory:Sum of Photometric type-related color channels and ExtraSamples doesn't match SamplesPerPixel. Defining non-color channels as ExtraSamples.\n"
          ]
        },
        {
          "name": "stdout",
          "output_type": "stream",
          "text": [
            "Image shape after PCA: (145, 145, 50)\n"
          ]
        }
      ],
      "source": [
        "# File paths - Mount your Drive first if needed\n",
        "image_path = \"/content/drive/MyDrive/land-cover-classification-master/data/19920612_AVIRIS_IndianPine_Site3.tif\"\n",
        "label_path = \"/content/drive/MyDrive/land-cover-classification-master/data/19920612_AVIRIS_IndianPine_Site3_gr.tif\"\n",
        "\n",
        "# Load hyperspectral image\n",
        "with rasterio.open(image_path) as src:\n",
        "    image = src.read()  # Shape: (Bands, H, W)\n",
        "image = np.transpose(image, (1, 2, 0))  # (H, W, Bands)\n",
        "\n",
        "# Load ground truth\n",
        "with rasterio.open(label_path) as src:\n",
        "    labels = src.read(1)  # (H, W)\n",
        "\n",
        "# Standardize image\n",
        "scaler = StandardScaler()\n",
        "h, w, b = image.shape\n",
        "image_reshaped = image.reshape(-1, b)\n",
        "image_std = scaler.fit_transform(image_reshaped).reshape(h, w, b)\n",
        "\n",
        "# PCA reduction to 50 components\n",
        "NUM_COMPONENTS = 50\n",
        "pca = PCA(n_components=NUM_COMPONENTS)\n",
        "image_pca = pca.fit_transform(image_std.reshape(-1, b)).reshape(h, w, NUM_COMPONENTS)\n",
        "\n",
        "print(\"Image shape after PCA:\", image_pca.shape)"
      ]
    },
    {
      "cell_type": "code",
      "execution_count": null,
      "metadata": {
        "colab": {
          "base_uri": "https://localhost:8080/"
        },
        "id": "P-QUdwNUZ5-g",
        "outputId": "f0523274-3e4b-4a3c-ad28-efb23d6957d1"
      },
      "outputs": [
        {
          "name": "stdout",
          "output_type": "stream",
          "text": [
            "Extracted 10195 patches of shape (5, 5, 50)\n",
            "Train: (7136, 5, 5, 50), Val: (1529, 5, 5, 50), Test: (1530, 5, 5, 50)\n"
          ]
        }
      ],
      "source": [
        "PATCH_SIZE = 5\n",
        "half = PATCH_SIZE // 2\n",
        "X, y = [], []\n",
        "\n",
        "for i in range(half, h - half):\n",
        "    for j in range(half, w - half):\n",
        "        if labels[i, j] > 0:\n",
        "            patch = image_pca[i-half:i+half+1, j-half:j+half+1, :]\n",
        "            X.append(patch)\n",
        "            y.append(labels[i, j] - 1)\n",
        "\n",
        "X = np.array(X)\n",
        "y = np.array(y)\n",
        "y = to_categorical(y, num_classes=17)\n",
        "\n",
        "print(f\"Extracted {X.shape[0]} patches of shape {X.shape[1:]}\")\n",
        "\n",
        "X_train, X_temp, y_train, y_temp = train_test_split(X, y, test_size=0.3, stratify=y, random_state=42)\n",
        "X_val, X_test, y_val, y_test = train_test_split(X_temp, y_temp, test_size=0.5, stratify=y_temp, random_state=42)\n",
        "\n",
        "# Save test set\n",
        "with open(\"/content/drive/MyDrive/land-cover-classification-master/test_data_3d.pkl\", \"wb\") as f:\n",
        "    pickle.dump((X_test, y_test), f)\n",
        "\n",
        "print(f\"Train: {X_train.shape}, Val: {X_val.shape}, Test: {X_test.shape}\")"
      ]
    },
    {
      "cell_type": "code",
      "execution_count": null,
      "metadata": {
        "colab": {
          "base_uri": "https://localhost:8080/",
          "height": 485
        },
        "id": "80LsxvsEZ964",
        "outputId": "e0e6a8d2-b134-444d-d54a-eb0a31de94fd"
      },
      "outputs": [
        {
          "data": {
            "text/html": [
              "<pre style=\"white-space:pre;overflow-x:auto;line-height:normal;font-family:Menlo,'DejaVu Sans Mono',consolas,'Courier New',monospace\"><span style=\"font-weight: bold\">Model: \"sequential\"</span>\n",
              "</pre>\n"
            ],
            "text/plain": [
              "\u001b[1mModel: \"sequential\"\u001b[0m\n"
            ]
          },
          "metadata": {},
          "output_type": "display_data"
        },
        {
          "data": {
            "text/html": [
              "<pre style=\"white-space:pre;overflow-x:auto;line-height:normal;font-family:Menlo,'DejaVu Sans Mono',consolas,'Courier New',monospace\">┏━━━━━━━━━━━━━━━━━━━━━━━━━━━━━━━━━┳━━━━━━━━━━━━━━━━━━━━━━━━┳━━━━━━━━━━━━━━━┓\n",
              "┃<span style=\"font-weight: bold\"> Layer (type)                    </span>┃<span style=\"font-weight: bold\"> Output Shape           </span>┃<span style=\"font-weight: bold\">       Param # </span>┃\n",
              "┡━━━━━━━━━━━━━━━━━━━━━━━━━━━━━━━━━╇━━━━━━━━━━━━━━━━━━━━━━━━╇━━━━━━━━━━━━━━━┩\n",
              "│ conv3d (<span style=\"color: #0087ff; text-decoration-color: #0087ff\">Conv3D</span>)                 │ (<span style=\"color: #00d7ff; text-decoration-color: #00d7ff\">None</span>, <span style=\"color: #00af00; text-decoration-color: #00af00\">5</span>, <span style=\"color: #00af00; text-decoration-color: #00af00\">5</span>, <span style=\"color: #00af00; text-decoration-color: #00af00\">50</span>, <span style=\"color: #00af00; text-decoration-color: #00af00\">32</span>)   │           <span style=\"color: #00af00; text-decoration-color: #00af00\">896</span> │\n",
              "├─────────────────────────────────┼────────────────────────┼───────────────┤\n",
              "│ batch_normalization             │ (<span style=\"color: #00d7ff; text-decoration-color: #00d7ff\">None</span>, <span style=\"color: #00af00; text-decoration-color: #00af00\">5</span>, <span style=\"color: #00af00; text-decoration-color: #00af00\">5</span>, <span style=\"color: #00af00; text-decoration-color: #00af00\">50</span>, <span style=\"color: #00af00; text-decoration-color: #00af00\">32</span>)   │           <span style=\"color: #00af00; text-decoration-color: #00af00\">128</span> │\n",
              "│ (<span style=\"color: #0087ff; text-decoration-color: #0087ff\">BatchNormalization</span>)            │                        │               │\n",
              "├─────────────────────────────────┼────────────────────────┼───────────────┤\n",
              "│ max_pooling3d (<span style=\"color: #0087ff; text-decoration-color: #0087ff\">MaxPooling3D</span>)    │ (<span style=\"color: #00d7ff; text-decoration-color: #00d7ff\">None</span>, <span style=\"color: #00af00; text-decoration-color: #00af00\">2</span>, <span style=\"color: #00af00; text-decoration-color: #00af00\">2</span>, <span style=\"color: #00af00; text-decoration-color: #00af00\">25</span>, <span style=\"color: #00af00; text-decoration-color: #00af00\">32</span>)   │             <span style=\"color: #00af00; text-decoration-color: #00af00\">0</span> │\n",
              "├─────────────────────────────────┼────────────────────────┼───────────────┤\n",
              "│ conv3d_1 (<span style=\"color: #0087ff; text-decoration-color: #0087ff\">Conv3D</span>)               │ (<span style=\"color: #00d7ff; text-decoration-color: #00d7ff\">None</span>, <span style=\"color: #00af00; text-decoration-color: #00af00\">2</span>, <span style=\"color: #00af00; text-decoration-color: #00af00\">2</span>, <span style=\"color: #00af00; text-decoration-color: #00af00\">25</span>, <span style=\"color: #00af00; text-decoration-color: #00af00\">64</span>)   │        <span style=\"color: #00af00; text-decoration-color: #00af00\">55,360</span> │\n",
              "├─────────────────────────────────┼────────────────────────┼───────────────┤\n",
              "│ batch_normalization_1           │ (<span style=\"color: #00d7ff; text-decoration-color: #00d7ff\">None</span>, <span style=\"color: #00af00; text-decoration-color: #00af00\">2</span>, <span style=\"color: #00af00; text-decoration-color: #00af00\">2</span>, <span style=\"color: #00af00; text-decoration-color: #00af00\">25</span>, <span style=\"color: #00af00; text-decoration-color: #00af00\">64</span>)   │           <span style=\"color: #00af00; text-decoration-color: #00af00\">256</span> │\n",
              "│ (<span style=\"color: #0087ff; text-decoration-color: #0087ff\">BatchNormalization</span>)            │                        │               │\n",
              "├─────────────────────────────────┼────────────────────────┼───────────────┤\n",
              "│ max_pooling3d_1 (<span style=\"color: #0087ff; text-decoration-color: #0087ff\">MaxPooling3D</span>)  │ (<span style=\"color: #00d7ff; text-decoration-color: #00d7ff\">None</span>, <span style=\"color: #00af00; text-decoration-color: #00af00\">1</span>, <span style=\"color: #00af00; text-decoration-color: #00af00\">1</span>, <span style=\"color: #00af00; text-decoration-color: #00af00\">12</span>, <span style=\"color: #00af00; text-decoration-color: #00af00\">64</span>)   │             <span style=\"color: #00af00; text-decoration-color: #00af00\">0</span> │\n",
              "├─────────────────────────────────┼────────────────────────┼───────────────┤\n",
              "│ flatten (<span style=\"color: #0087ff; text-decoration-color: #0087ff\">Flatten</span>)               │ (<span style=\"color: #00d7ff; text-decoration-color: #00d7ff\">None</span>, <span style=\"color: #00af00; text-decoration-color: #00af00\">768</span>)            │             <span style=\"color: #00af00; text-decoration-color: #00af00\">0</span> │\n",
              "├─────────────────────────────────┼────────────────────────┼───────────────┤\n",
              "│ dense (<span style=\"color: #0087ff; text-decoration-color: #0087ff\">Dense</span>)                   │ (<span style=\"color: #00d7ff; text-decoration-color: #00d7ff\">None</span>, <span style=\"color: #00af00; text-decoration-color: #00af00\">256</span>)            │       <span style=\"color: #00af00; text-decoration-color: #00af00\">196,864</span> │\n",
              "├─────────────────────────────────┼────────────────────────┼───────────────┤\n",
              "│ dropout (<span style=\"color: #0087ff; text-decoration-color: #0087ff\">Dropout</span>)               │ (<span style=\"color: #00d7ff; text-decoration-color: #00d7ff\">None</span>, <span style=\"color: #00af00; text-decoration-color: #00af00\">256</span>)            │             <span style=\"color: #00af00; text-decoration-color: #00af00\">0</span> │\n",
              "├─────────────────────────────────┼────────────────────────┼───────────────┤\n",
              "│ dense_1 (<span style=\"color: #0087ff; text-decoration-color: #0087ff\">Dense</span>)                 │ (<span style=\"color: #00d7ff; text-decoration-color: #00d7ff\">None</span>, <span style=\"color: #00af00; text-decoration-color: #00af00\">17</span>)             │         <span style=\"color: #00af00; text-decoration-color: #00af00\">4,369</span> │\n",
              "└─────────────────────────────────┴────────────────────────┴───────────────┘\n",
              "</pre>\n"
            ],
            "text/plain": [
              "┏━━━━━━━━━━━━━━━━━━━━━━━━━━━━━━━━━┳━━━━━━━━━━━━━━━━━━━━━━━━┳━━━━━━━━━━━━━━━┓\n",
              "┃\u001b[1m \u001b[0m\u001b[1mLayer (type)                   \u001b[0m\u001b[1m \u001b[0m┃\u001b[1m \u001b[0m\u001b[1mOutput Shape          \u001b[0m\u001b[1m \u001b[0m┃\u001b[1m \u001b[0m\u001b[1m      Param #\u001b[0m\u001b[1m \u001b[0m┃\n",
              "┡━━━━━━━━━━━━━━━━━━━━━━━━━━━━━━━━━╇━━━━━━━━━━━━━━━━━━━━━━━━╇━━━━━━━━━━━━━━━┩\n",
              "│ conv3d (\u001b[38;5;33mConv3D\u001b[0m)                 │ (\u001b[38;5;45mNone\u001b[0m, \u001b[38;5;34m5\u001b[0m, \u001b[38;5;34m5\u001b[0m, \u001b[38;5;34m50\u001b[0m, \u001b[38;5;34m32\u001b[0m)   │           \u001b[38;5;34m896\u001b[0m │\n",
              "├─────────────────────────────────┼────────────────────────┼───────────────┤\n",
              "│ batch_normalization             │ (\u001b[38;5;45mNone\u001b[0m, \u001b[38;5;34m5\u001b[0m, \u001b[38;5;34m5\u001b[0m, \u001b[38;5;34m50\u001b[0m, \u001b[38;5;34m32\u001b[0m)   │           \u001b[38;5;34m128\u001b[0m │\n",
              "│ (\u001b[38;5;33mBatchNormalization\u001b[0m)            │                        │               │\n",
              "├─────────────────────────────────┼────────────────────────┼───────────────┤\n",
              "│ max_pooling3d (\u001b[38;5;33mMaxPooling3D\u001b[0m)    │ (\u001b[38;5;45mNone\u001b[0m, \u001b[38;5;34m2\u001b[0m, \u001b[38;5;34m2\u001b[0m, \u001b[38;5;34m25\u001b[0m, \u001b[38;5;34m32\u001b[0m)   │             \u001b[38;5;34m0\u001b[0m │\n",
              "├─────────────────────────────────┼────────────────────────┼───────────────┤\n",
              "│ conv3d_1 (\u001b[38;5;33mConv3D\u001b[0m)               │ (\u001b[38;5;45mNone\u001b[0m, \u001b[38;5;34m2\u001b[0m, \u001b[38;5;34m2\u001b[0m, \u001b[38;5;34m25\u001b[0m, \u001b[38;5;34m64\u001b[0m)   │        \u001b[38;5;34m55,360\u001b[0m │\n",
              "├─────────────────────────────────┼────────────────────────┼───────────────┤\n",
              "│ batch_normalization_1           │ (\u001b[38;5;45mNone\u001b[0m, \u001b[38;5;34m2\u001b[0m, \u001b[38;5;34m2\u001b[0m, \u001b[38;5;34m25\u001b[0m, \u001b[38;5;34m64\u001b[0m)   │           \u001b[38;5;34m256\u001b[0m │\n",
              "│ (\u001b[38;5;33mBatchNormalization\u001b[0m)            │                        │               │\n",
              "├─────────────────────────────────┼────────────────────────┼───────────────┤\n",
              "│ max_pooling3d_1 (\u001b[38;5;33mMaxPooling3D\u001b[0m)  │ (\u001b[38;5;45mNone\u001b[0m, \u001b[38;5;34m1\u001b[0m, \u001b[38;5;34m1\u001b[0m, \u001b[38;5;34m12\u001b[0m, \u001b[38;5;34m64\u001b[0m)   │             \u001b[38;5;34m0\u001b[0m │\n",
              "├─────────────────────────────────┼────────────────────────┼───────────────┤\n",
              "│ flatten (\u001b[38;5;33mFlatten\u001b[0m)               │ (\u001b[38;5;45mNone\u001b[0m, \u001b[38;5;34m768\u001b[0m)            │             \u001b[38;5;34m0\u001b[0m │\n",
              "├─────────────────────────────────┼────────────────────────┼───────────────┤\n",
              "│ dense (\u001b[38;5;33mDense\u001b[0m)                   │ (\u001b[38;5;45mNone\u001b[0m, \u001b[38;5;34m256\u001b[0m)            │       \u001b[38;5;34m196,864\u001b[0m │\n",
              "├─────────────────────────────────┼────────────────────────┼───────────────┤\n",
              "│ dropout (\u001b[38;5;33mDropout\u001b[0m)               │ (\u001b[38;5;45mNone\u001b[0m, \u001b[38;5;34m256\u001b[0m)            │             \u001b[38;5;34m0\u001b[0m │\n",
              "├─────────────────────────────────┼────────────────────────┼───────────────┤\n",
              "│ dense_1 (\u001b[38;5;33mDense\u001b[0m)                 │ (\u001b[38;5;45mNone\u001b[0m, \u001b[38;5;34m17\u001b[0m)             │         \u001b[38;5;34m4,369\u001b[0m │\n",
              "└─────────────────────────────────┴────────────────────────┴───────────────┘\n"
            ]
          },
          "metadata": {},
          "output_type": "display_data"
        },
        {
          "data": {
            "text/html": [
              "<pre style=\"white-space:pre;overflow-x:auto;line-height:normal;font-family:Menlo,'DejaVu Sans Mono',consolas,'Courier New',monospace\"><span style=\"font-weight: bold\"> Total params: </span><span style=\"color: #00af00; text-decoration-color: #00af00\">257,873</span> (1007.32 KB)\n",
              "</pre>\n"
            ],
            "text/plain": [
              "\u001b[1m Total params: \u001b[0m\u001b[38;5;34m257,873\u001b[0m (1007.32 KB)\n"
            ]
          },
          "metadata": {},
          "output_type": "display_data"
        },
        {
          "data": {
            "text/html": [
              "<pre style=\"white-space:pre;overflow-x:auto;line-height:normal;font-family:Menlo,'DejaVu Sans Mono',consolas,'Courier New',monospace\"><span style=\"font-weight: bold\"> Trainable params: </span><span style=\"color: #00af00; text-decoration-color: #00af00\">257,681</span> (1006.57 KB)\n",
              "</pre>\n"
            ],
            "text/plain": [
              "\u001b[1m Trainable params: \u001b[0m\u001b[38;5;34m257,681\u001b[0m (1006.57 KB)\n"
            ]
          },
          "metadata": {},
          "output_type": "display_data"
        },
        {
          "data": {
            "text/html": [
              "<pre style=\"white-space:pre;overflow-x:auto;line-height:normal;font-family:Menlo,'DejaVu Sans Mono',consolas,'Courier New',monospace\"><span style=\"font-weight: bold\"> Non-trainable params: </span><span style=\"color: #00af00; text-decoration-color: #00af00\">192</span> (768.00 B)\n",
              "</pre>\n"
            ],
            "text/plain": [
              "\u001b[1m Non-trainable params: \u001b[0m\u001b[38;5;34m192\u001b[0m (768.00 B)\n"
            ]
          },
          "metadata": {},
          "output_type": "display_data"
        }
      ],
      "source": [
        "def build_3d_cnn(input_shape, num_classes):\n",
        "    model = models.Sequential([\n",
        "        layers.Input(shape=input_shape),\n",
        "        layers.Conv3D(32, kernel_size=(3, 3, 3), activation='relu', padding='same'),\n",
        "        layers.BatchNormalization(),\n",
        "        layers.MaxPooling3D(pool_size=(2, 2, 2)),\n",
        "\n",
        "        layers.Conv3D(64, kernel_size=(3, 3, 3), activation='relu', padding='same'),\n",
        "        layers.BatchNormalization(),\n",
        "        layers.MaxPooling3D(pool_size=(2, 2, 2)),\n",
        "\n",
        "        layers.Flatten(),\n",
        "        layers.Dense(256, activation='relu'),\n",
        "        layers.Dropout(0.4),\n",
        "        layers.Dense(num_classes, activation='softmax')\n",
        "    ])\n",
        "\n",
        "    model.compile(optimizer='adam', loss='categorical_crossentropy', metrics=['accuracy'])\n",
        "    return model\n",
        "\n",
        "model = build_3d_cnn((PATCH_SIZE, PATCH_SIZE, NUM_COMPONENTS, 1), 17)\n",
        "model.summary()"
      ]
    },
    {
      "cell_type": "code",
      "execution_count": null,
      "metadata": {
        "colab": {
          "base_uri": "https://localhost:8080/"
        },
        "id": "dHVgj5KJcpLu",
        "outputId": "0549a851-ddac-44ed-897a-99cabcc32a9d"
      },
      "outputs": [
        {
          "name": "stdout",
          "output_type": "stream",
          "text": [
            "Epoch 1/100\n",
            "\u001b[1m223/223\u001b[0m \u001b[32m━━━━━━━━━━━━━━━━━━━━\u001b[0m\u001b[37m\u001b[0m \u001b[1m8s\u001b[0m 13ms/step - accuracy: 0.4984 - loss: 1.7692 - val_accuracy: 0.7613 - val_loss: 0.8354 - learning_rate: 0.0010\n",
            "Epoch 2/100\n",
            "\u001b[1m223/223\u001b[0m \u001b[32m━━━━━━━━━━━━━━━━━━━━\u001b[0m\u001b[37m\u001b[0m \u001b[1m5s\u001b[0m 5ms/step - accuracy: 0.8075 - loss: 0.5380 - val_accuracy: 0.9052 - val_loss: 0.3091 - learning_rate: 0.0010\n",
            "Epoch 3/100\n",
            "\u001b[1m223/223\u001b[0m \u001b[32m━━━━━━━━━━━━━━━━━━━━\u001b[0m\u001b[37m\u001b[0m \u001b[1m1s\u001b[0m 4ms/step - accuracy: 0.9103 - loss: 0.2453 - val_accuracy: 0.9346 - val_loss: 0.1921 - learning_rate: 0.0010\n",
            "Epoch 4/100\n",
            "\u001b[1m223/223\u001b[0m \u001b[32m━━━━━━━━━━━━━━━━━━━━\u001b[0m\u001b[37m\u001b[0m \u001b[1m1s\u001b[0m 4ms/step - accuracy: 0.9486 - loss: 0.1518 - val_accuracy: 0.9451 - val_loss: 0.1506 - learning_rate: 0.0010\n",
            "Epoch 5/100\n",
            "\u001b[1m223/223\u001b[0m \u001b[32m━━━━━━━━━━━━━━━━━━━━\u001b[0m\u001b[37m\u001b[0m \u001b[1m1s\u001b[0m 4ms/step - accuracy: 0.9627 - loss: 0.1104 - val_accuracy: 0.9738 - val_loss: 0.0845 - learning_rate: 0.0010\n",
            "Epoch 6/100\n",
            "\u001b[1m223/223\u001b[0m \u001b[32m━━━━━━━━━━━━━━━━━━━━\u001b[0m\u001b[37m\u001b[0m \u001b[1m1s\u001b[0m 4ms/step - accuracy: 0.9710 - loss: 0.0874 - val_accuracy: 0.9836 - val_loss: 0.0604 - learning_rate: 0.0010\n",
            "Epoch 7/100\n",
            "\u001b[1m223/223\u001b[0m \u001b[32m━━━━━━━━━━━━━━━━━━━━\u001b[0m\u001b[37m\u001b[0m \u001b[1m2s\u001b[0m 6ms/step - accuracy: 0.9774 - loss: 0.0663 - val_accuracy: 0.9797 - val_loss: 0.0768 - learning_rate: 0.0010\n",
            "Epoch 8/100\n",
            "\u001b[1m223/223\u001b[0m \u001b[32m━━━━━━━━━━━━━━━━━━━━\u001b[0m\u001b[37m\u001b[0m \u001b[1m2s\u001b[0m 5ms/step - accuracy: 0.9852 - loss: 0.0455 - val_accuracy: 0.9823 - val_loss: 0.0548 - learning_rate: 0.0010\n",
            "Epoch 9/100\n",
            "\u001b[1m223/223\u001b[0m \u001b[32m━━━━━━━━━━━━━━━━━━━━\u001b[0m\u001b[37m\u001b[0m \u001b[1m1s\u001b[0m 4ms/step - accuracy: 0.9853 - loss: 0.0438 - val_accuracy: 0.9725 - val_loss: 0.0932 - learning_rate: 0.0010\n",
            "Epoch 10/100\n",
            "\u001b[1m223/223\u001b[0m \u001b[32m━━━━━━━━━━━━━━━━━━━━\u001b[0m\u001b[37m\u001b[0m \u001b[1m1s\u001b[0m 4ms/step - accuracy: 0.9894 - loss: 0.0340 - val_accuracy: 0.9823 - val_loss: 0.0645 - learning_rate: 0.0010\n",
            "Epoch 11/100\n",
            "\u001b[1m223/223\u001b[0m \u001b[32m━━━━━━━━━━━━━━━━━━━━\u001b[0m\u001b[37m\u001b[0m \u001b[1m1s\u001b[0m 4ms/step - accuracy: 0.9868 - loss: 0.0408 - val_accuracy: 0.9882 - val_loss: 0.0364 - learning_rate: 0.0010\n",
            "Epoch 12/100\n",
            "\u001b[1m223/223\u001b[0m \u001b[32m━━━━━━━━━━━━━━━━━━━━\u001b[0m\u001b[37m\u001b[0m \u001b[1m1s\u001b[0m 4ms/step - accuracy: 0.9876 - loss: 0.0351 - val_accuracy: 0.9908 - val_loss: 0.0398 - learning_rate: 0.0010\n",
            "Epoch 13/100\n",
            "\u001b[1m223/223\u001b[0m \u001b[32m━━━━━━━━━━━━━━━━━━━━\u001b[0m\u001b[37m\u001b[0m \u001b[1m1s\u001b[0m 4ms/step - accuracy: 0.9910 - loss: 0.0286 - val_accuracy: 0.9725 - val_loss: 0.0930 - learning_rate: 0.0010\n",
            "Epoch 14/100\n",
            "\u001b[1m223/223\u001b[0m \u001b[32m━━━━━━━━━━━━━━━━━━━━\u001b[0m\u001b[37m\u001b[0m \u001b[1m1s\u001b[0m 4ms/step - accuracy: 0.9857 - loss: 0.0498 - val_accuracy: 0.9863 - val_loss: 0.0484 - learning_rate: 0.0010\n",
            "Epoch 15/100\n",
            "\u001b[1m223/223\u001b[0m \u001b[32m━━━━━━━━━━━━━━━━━━━━\u001b[0m\u001b[37m\u001b[0m \u001b[1m1s\u001b[0m 4ms/step - accuracy: 0.9911 - loss: 0.0252 - val_accuracy: 0.9856 - val_loss: 0.0467 - learning_rate: 0.0010\n",
            "Epoch 16/100\n",
            "\u001b[1m223/223\u001b[0m \u001b[32m━━━━━━━━━━━━━━━━━━━━\u001b[0m\u001b[37m\u001b[0m \u001b[1m1s\u001b[0m 4ms/step - accuracy: 0.9904 - loss: 0.0267 - val_accuracy: 0.9856 - val_loss: 0.0522 - learning_rate: 0.0010\n",
            "Epoch 17/100\n",
            "\u001b[1m223/223\u001b[0m \u001b[32m━━━━━━━━━━━━━━━━━━━━\u001b[0m\u001b[37m\u001b[0m \u001b[1m2s\u001b[0m 6ms/step - accuracy: 0.9929 - loss: 0.0198 - val_accuracy: 0.9948 - val_loss: 0.0264 - learning_rate: 5.0000e-04\n",
            "Epoch 18/100\n",
            "\u001b[1m223/223\u001b[0m \u001b[32m━━━━━━━━━━━━━━━━━━━━\u001b[0m\u001b[37m\u001b[0m \u001b[1m2s\u001b[0m 5ms/step - accuracy: 0.9979 - loss: 0.0066 - val_accuracy: 0.9908 - val_loss: 0.0321 - learning_rate: 5.0000e-04\n",
            "Epoch 19/100\n",
            "\u001b[1m223/223\u001b[0m \u001b[32m━━━━━━━━━━━━━━━━━━━━\u001b[0m\u001b[37m\u001b[0m \u001b[1m1s\u001b[0m 4ms/step - accuracy: 0.9981 - loss: 0.0063 - val_accuracy: 0.9928 - val_loss: 0.0250 - learning_rate: 5.0000e-04\n",
            "Epoch 20/100\n",
            "\u001b[1m223/223\u001b[0m \u001b[32m━━━━━━━━━━━━━━━━━━━━\u001b[0m\u001b[37m\u001b[0m \u001b[1m1s\u001b[0m 4ms/step - accuracy: 0.9989 - loss: 0.0034 - val_accuracy: 0.9948 - val_loss: 0.0186 - learning_rate: 5.0000e-04\n",
            "Epoch 21/100\n",
            "\u001b[1m223/223\u001b[0m \u001b[32m━━━━━━━━━━━━━━━━━━━━\u001b[0m\u001b[37m\u001b[0m \u001b[1m1s\u001b[0m 4ms/step - accuracy: 0.9989 - loss: 0.0037 - val_accuracy: 0.9948 - val_loss: 0.0284 - learning_rate: 5.0000e-04\n",
            "Epoch 22/100\n",
            "\u001b[1m223/223\u001b[0m \u001b[32m━━━━━━━━━━━━━━━━━━━━\u001b[0m\u001b[37m\u001b[0m \u001b[1m1s\u001b[0m 4ms/step - accuracy: 0.9974 - loss: 0.0076 - val_accuracy: 0.9928 - val_loss: 0.0214 - learning_rate: 5.0000e-04\n",
            "Epoch 23/100\n",
            "\u001b[1m223/223\u001b[0m \u001b[32m━━━━━━━━━━━━━━━━━━━━\u001b[0m\u001b[37m\u001b[0m \u001b[1m1s\u001b[0m 4ms/step - accuracy: 0.9977 - loss: 0.0067 - val_accuracy: 0.9908 - val_loss: 0.0292 - learning_rate: 5.0000e-04\n",
            "Epoch 24/100\n",
            "\u001b[1m223/223\u001b[0m \u001b[32m━━━━━━━━━━━━━━━━━━━━\u001b[0m\u001b[37m\u001b[0m \u001b[1m1s\u001b[0m 4ms/step - accuracy: 0.9965 - loss: 0.0103 - val_accuracy: 0.9961 - val_loss: 0.0124 - learning_rate: 5.0000e-04\n",
            "Epoch 25/100\n",
            "\u001b[1m223/223\u001b[0m \u001b[32m━━━━━━━━━━━━━━━━━━━━\u001b[0m\u001b[37m\u001b[0m \u001b[1m1s\u001b[0m 4ms/step - accuracy: 0.9973 - loss: 0.0071 - val_accuracy: 0.9941 - val_loss: 0.0161 - learning_rate: 5.0000e-04\n",
            "Epoch 26/100\n",
            "\u001b[1m223/223\u001b[0m \u001b[32m━━━━━━━━━━━━━━━━━━━━\u001b[0m\u001b[37m\u001b[0m \u001b[1m1s\u001b[0m 4ms/step - accuracy: 0.9964 - loss: 0.0141 - val_accuracy: 0.9902 - val_loss: 0.0300 - learning_rate: 5.0000e-04\n",
            "Epoch 27/100\n",
            "\u001b[1m223/223\u001b[0m \u001b[32m━━━━━━━━━━━━━━━━━━━━\u001b[0m\u001b[37m\u001b[0m \u001b[1m1s\u001b[0m 5ms/step - accuracy: 0.9973 - loss: 0.0069 - val_accuracy: 0.9954 - val_loss: 0.0260 - learning_rate: 5.0000e-04\n",
            "Epoch 28/100\n",
            "\u001b[1m223/223\u001b[0m \u001b[32m━━━━━━━━━━━━━━━━━━━━\u001b[0m\u001b[37m\u001b[0m \u001b[1m1s\u001b[0m 6ms/step - accuracy: 0.9974 - loss: 0.0075 - val_accuracy: 0.9928 - val_loss: 0.0279 - learning_rate: 5.0000e-04\n",
            "Epoch 29/100\n",
            "\u001b[1m223/223\u001b[0m \u001b[32m━━━━━━━━━━━━━━━━━━━━\u001b[0m\u001b[37m\u001b[0m \u001b[1m1s\u001b[0m 5ms/step - accuracy: 0.9982 - loss: 0.0064 - val_accuracy: 0.9948 - val_loss: 0.0217 - learning_rate: 5.0000e-04\n",
            "Epoch 30/100\n",
            "\u001b[1m223/223\u001b[0m \u001b[32m━━━━━━━━━━━━━━━━━━━━\u001b[0m\u001b[37m\u001b[0m \u001b[1m1s\u001b[0m 5ms/step - accuracy: 0.9991 - loss: 0.0038 - val_accuracy: 0.9967 - val_loss: 0.0171 - learning_rate: 2.5000e-04\n",
            "Epoch 31/100\n",
            "\u001b[1m223/223\u001b[0m \u001b[32m━━━━━━━━━━━━━━━━━━━━\u001b[0m\u001b[37m\u001b[0m \u001b[1m1s\u001b[0m 4ms/step - accuracy: 0.9980 - loss: 0.0065 - val_accuracy: 0.9967 - val_loss: 0.0197 - learning_rate: 2.5000e-04\n",
            "Epoch 32/100\n",
            "\u001b[1m223/223\u001b[0m \u001b[32m━━━━━━━━━━━━━━━━━━━━\u001b[0m\u001b[37m\u001b[0m \u001b[1m1s\u001b[0m 4ms/step - accuracy: 0.9996 - loss: 0.0024 - val_accuracy: 0.9954 - val_loss: 0.0211 - learning_rate: 2.5000e-04\n",
            "Epoch 33/100\n",
            "\u001b[1m223/223\u001b[0m \u001b[32m━━━━━━━━━━━━━━━━━━━━\u001b[0m\u001b[37m\u001b[0m \u001b[1m1s\u001b[0m 4ms/step - accuracy: 0.9994 - loss: 0.0023 - val_accuracy: 0.9954 - val_loss: 0.0240 - learning_rate: 2.5000e-04\n",
            "Epoch 34/100\n",
            "\u001b[1m223/223\u001b[0m \u001b[32m━━━━━━━━━━━━━━━━━━━━\u001b[0m\u001b[37m\u001b[0m \u001b[1m1s\u001b[0m 4ms/step - accuracy: 0.9996 - loss: 0.0018 - val_accuracy: 0.9948 - val_loss: 0.0278 - learning_rate: 2.5000e-04\n"
          ]
        },
        {
          "name": "stderr",
          "output_type": "stream",
          "text": [
            "WARNING:absl:You are saving your model as an HDF5 file via `model.save()` or `keras.saving.save_model(model)`. This file format is considered legacy. We recommend using instead the native Keras format, e.g. `model.save('my_model.keras')` or `keras.saving.save_model(model, 'my_model.keras')`. \n"
          ]
        },
        {
          "name": "stdout",
          "output_type": "stream",
          "text": [
            "✅ Model trained and saved!\n"
          ]
        }
      ],
      "source": [
        "# Expand dimensions for 3D CNN input\n",
        "X_train_exp = np.expand_dims(X_train, axis=-1)\n",
        "X_val_exp = np.expand_dims(X_val, axis=-1)\n",
        "\n",
        "early_stopping = tf.keras.callbacks.EarlyStopping(monitor='val_loss', patience=10, restore_best_weights=True)\n",
        "reduce_lr = tf.keras.callbacks.ReduceLROnPlateau(monitor='val_loss', factor=0.5, patience=5)\n",
        "\n",
        "history = model.fit(\n",
        "    X_train_exp, y_train,\n",
        "    validation_data=(X_val_exp, y_val),\n",
        "    batch_size=32,\n",
        "    epochs=100,\n",
        "    callbacks=[early_stopping, reduce_lr]\n",
        ")\n",
        "\n",
        "model.save(\"/content/drive/MyDrive/land-cover-classification-master/Models/3D CNN/3D_CNN_Model.h5\")\n",
        "print(\"✅ Model trained and saved!\")"
      ]
    },
    {
      "cell_type": "code",
      "execution_count": null,
      "metadata": {
        "colab": {
          "base_uri": "https://localhost:8080/"
        },
        "id": "XRDXJ1bIdGPh",
        "outputId": "63fcfce3-7480-4047-dc9f-628f87e94086"
      },
      "outputs": [
        {
          "name": "stdout",
          "output_type": "stream",
          "text": [
            "✅ Test data loaded: (1530, 5, 5, 50), Labels: (1530, 17)\n"
          ]
        },
        {
          "name": "stderr",
          "output_type": "stream",
          "text": [
            "WARNING:absl:Compiled the loaded model, but the compiled metrics have yet to be built. `model.compile_metrics` will be empty until you train or evaluate the model.\n"
          ]
        },
        {
          "name": "stdout",
          "output_type": "stream",
          "text": [
            "✅ 3D CNN model loaded!\n",
            "\u001b[1m48/48\u001b[0m \u001b[32m━━━━━━━━━━━━━━━━━━━━\u001b[0m\u001b[37m\u001b[0m \u001b[1m1s\u001b[0m 9ms/step\n",
            "🎯 Test Accuracy: 0.9948\n",
            "📄 Classification Report:\n",
            "               precision    recall  f1-score   support\n",
            "\n",
            "           0       1.00      1.00      1.00         8\n",
            "           1       1.00      1.00      1.00       215\n",
            "           2       1.00      0.98      0.99       117\n",
            "           3       1.00      1.00      1.00        35\n",
            "           4       1.00      1.00      1.00        71\n",
            "           5       1.00      0.99      1.00       112\n",
            "           6       1.00      1.00      1.00         4\n",
            "           7       1.00      1.00      1.00        74\n",
            "           8       1.00      0.67      0.80         3\n",
            "           9       0.98      1.00      0.99       145\n",
            "          10       1.00      0.99      1.00       364\n",
            "          11       1.00      1.00      1.00        92\n",
            "          12       1.00      1.00      1.00        32\n",
            "          13       0.99      0.99      0.99       194\n",
            "          14       0.96      1.00      0.98        50\n",
            "          15       1.00      1.00      1.00        14\n",
            "\n",
            "    accuracy                           0.99      1530\n",
            "   macro avg       1.00      0.98      0.98      1530\n",
            "weighted avg       0.99      0.99      0.99      1530\n",
            "\n"
          ]
        }
      ],
      "source": [
        "from sklearn.metrics import classification_report, accuracy_score\n",
        "import numpy as np\n",
        "import pickle\n",
        "from tensorflow.keras.models import load_model\n",
        "\n",
        "# 📥 Load test data and labels\n",
        "with open(\"test_data_3d.pkl\", \"rb\") as f:\n",
        "    X_test, y_test = pickle.load(f)\n",
        "\n",
        "print(f\"✅ Test data loaded: {X_test.shape}, Labels: {y_test.shape}\")\n",
        "\n",
        "# 🎯 Convert one-hot to class indices\n",
        "y_test_labels = np.argmax(y_test, axis=1)\n",
        "\n",
        "# 🧠 Load model\n",
        "model = load_model(\"/content/drive/MyDrive/land-cover-classification-master/Models/3D CNN/3D_CNN_Model.h5\")\n",
        "print(\"✅ 3D CNN model loaded!\")\n",
        "\n",
        "# 📊 Predict\n",
        "y_pred_probs = model.predict(X_test, batch_size=32)\n",
        "y_pred = np.argmax(y_pred_probs, axis=1)\n",
        "\n",
        "# ✅ Accuracy\n",
        "test_accuracy = accuracy_score(y_test_labels, y_pred)\n",
        "print(f\"🎯 Test Accuracy: {test_accuracy:.4f}\")\n",
        "\n",
        "# 📄 Classification Report\n",
        "report = classification_report(y_test_labels, y_pred)\n",
        "print(\"📄 Classification Report:\\n\", report)\n"
      ]
    },
    {
      "cell_type": "code",
      "execution_count": null,
      "metadata": {
        "colab": {
          "base_uri": "https://localhost:8080/",
          "height": 1000
        },
        "id": "SnJ6wiCXjl-a",
        "outputId": "f1e562fa-edab-4eb5-a01f-57cbf52cfd14"
      },
      "outputs": [
        {
          "data": {
            "image/png": "[encoded data removed]",
            "text/plain": [
              "<Figure size 1200x1000 with 1 Axes>"
            ]
          },
          "metadata": {},
          "output_type": "display_data"
        },
        {
          "name": "stdout",
          "output_type": "stream",
          "text": [
            "📋 Classification Report:\n",
            "              precision    recall  f1-score   support\n",
            "\n",
            "           0       1.00      1.00      1.00         8\n",
            "           1       1.00      1.00      1.00       215\n",
            "           2       1.00      0.98      0.99       117\n",
            "           3       1.00      1.00      1.00        35\n",
            "           4       1.00      1.00      1.00        71\n",
            "           5       1.00      0.99      1.00       112\n",
            "           6       1.00      1.00      1.00         4\n",
            "           7       1.00      1.00      1.00        74\n",
            "           8       1.00      0.67      0.80         3\n",
            "           9       0.98      1.00      0.99       145\n",
            "          10       1.00      0.99      1.00       364\n",
            "          11       1.00      1.00      1.00        92\n",
            "          12       1.00      1.00      1.00        32\n",
            "          13       0.99      0.99      0.99       194\n",
            "          14       0.96      1.00      0.98        50\n",
            "          15       1.00      1.00      1.00        14\n",
            "\n",
            "    accuracy                           0.99      1530\n",
            "   macro avg       1.00      0.98      0.98      1530\n",
            "weighted avg       0.99      0.99      0.99      1530\n",
            "\n"
          ]
        }
      ],
      "source": [
        "from sklearn.metrics import confusion_matrix, classification_report\n",
        "import seaborn as sns\n",
        "import matplotlib.pyplot as plt\n",
        "\n",
        "# 🔁 Ensure one-hot → class index conversion\n",
        "y_true = np.argmax(y_test, axis=1)\n",
        "\n",
        "# 🧠 Convert predicted probs to class indices only if needed\n",
        "if len(y_pred.shape) > 1 and y_pred.shape[1] > 1:\n",
        "    y_pred_classes = np.argmax(y_pred, axis=1)\n",
        "else:\n",
        "    y_pred_classes = y_pred.astype(int)\n",
        "\n",
        "# 📉 Confusion Matrix\n",
        "cm = confusion_matrix(y_true, y_pred_classes)\n",
        "\n",
        "# 🎨 Plotting\n",
        "plt.figure(figsize=(12, 10))\n",
        "sns.heatmap(cm, annot=True, fmt='d', cmap='Blues', cbar=False)\n",
        "plt.title('Confusion Matrix')\n",
        "plt.xlabel('Predicted Label')\n",
        "plt.ylabel('True Label')\n",
        "plt.show()\n",
        "\n",
        "# 🧾 Classification Report\n",
        "print(\"📋 Classification Report:\")\n",
        "print(classification_report(y_true, y_pred_classes))\n"
      ]
    },
    {
      "cell_type": "code",
      "execution_count": null,
      "metadata": {
        "colab": {
          "base_uri": "https://localhost:8080/",
          "height": 1000
        },
        "id": "2YGZoPB3lpHf",
        "outputId": "1a8c6eb5-7bc9-4a38-e3b8-7c36ac18f4de"
      },
      "outputs": [
        {
          "name": "stderr",
          "output_type": "stream",
          "text": [
            "WARNING:rasterio._env:CPLE_AppDefined in 19920612_AVIRIS_IndianPine_Site3.tif: TIFFReadDirectory:Sum of Photometric type-related color channels and ExtraSamples doesn't match SamplesPerPixel. Defining non-color channels as ExtraSamples.\n",
            "/usr/local/lib/python3.11/dist-packages/rasterio/__init__.py:356: NotGeoreferencedWarning: Dataset has no geotransform, gcps, or rpcs. The identity matrix will be returned.\n",
            "  dataset = DatasetReader(path, driver=driver, sharing=sharing, **kwargs)\n",
            "WARNING:rasterio._env:CPLE_AppDefined in TIFFReadDirectory:Sum of Photometric type-related color channels and ExtraSamples doesn't match SamplesPerPixel. Defining non-color channels as ExtraSamples.\n"
          ]
        },
        {
          "name": "stdout",
          "output_type": "stream",
          "text": [
            "Train: (7136, 5, 5, 50, 1), Val: (1529, 5, 5, 50, 1), Test: (1530, 5, 5, 50, 1)\n"
          ]
        },
        {
          "data": {
            "text/html": [
              "<pre style=\"white-space:pre;overflow-x:auto;line-height:normal;font-family:Menlo,'DejaVu Sans Mono',consolas,'Courier New',monospace\"><span style=\"font-weight: bold\">Model: \"sequential_1\"</span>\n",
              "</pre>\n"
            ],
            "text/plain": [
              "\u001b[1mModel: \"sequential_1\"\u001b[0m\n"
            ]
          },
          "metadata": {},
          "output_type": "display_data"
        },
        {
          "data": {
            "text/html": [
              "<pre style=\"white-space:pre;overflow-x:auto;line-height:normal;font-family:Menlo,'DejaVu Sans Mono',consolas,'Courier New',monospace\">┏━━━━━━━━━━━━━━━━━━━━━━━━━━━━━━━━━┳━━━━━━━━━━━━━━━━━━━━━━━━┳━━━━━━━━━━━━━━━┓\n",
              "┃<span style=\"font-weight: bold\"> Layer (type)                    </span>┃<span style=\"font-weight: bold\"> Output Shape           </span>┃<span style=\"font-weight: bold\">       Param # </span>┃\n",
              "┡━━━━━━━━━━━━━━━━━━━━━━━━━━━━━━━━━╇━━━━━━━━━━━━━━━━━━━━━━━━╇━━━━━━━━━━━━━━━┩\n",
              "│ conv3d_2 (<span style=\"color: #0087ff; text-decoration-color: #0087ff\">Conv3D</span>)               │ (<span style=\"color: #00d7ff; text-decoration-color: #00d7ff\">None</span>, <span style=\"color: #00af00; text-decoration-color: #00af00\">5</span>, <span style=\"color: #00af00; text-decoration-color: #00af00\">5</span>, <span style=\"color: #00af00; text-decoration-color: #00af00\">50</span>, <span style=\"color: #00af00; text-decoration-color: #00af00\">32</span>)   │           <span style=\"color: #00af00; text-decoration-color: #00af00\">896</span> │\n",
              "├─────────────────────────────────┼────────────────────────┼───────────────┤\n",
              "│ batch_normalization_2           │ (<span style=\"color: #00d7ff; text-decoration-color: #00d7ff\">None</span>, <span style=\"color: #00af00; text-decoration-color: #00af00\">5</span>, <span style=\"color: #00af00; text-decoration-color: #00af00\">5</span>, <span style=\"color: #00af00; text-decoration-color: #00af00\">50</span>, <span style=\"color: #00af00; text-decoration-color: #00af00\">32</span>)   │           <span style=\"color: #00af00; text-decoration-color: #00af00\">128</span> │\n",
              "│ (<span style=\"color: #0087ff; text-decoration-color: #0087ff\">BatchNormalization</span>)            │                        │               │\n",
              "├─────────────────────────────────┼────────────────────────┼───────────────┤\n",
              "│ max_pooling3d_2 (<span style=\"color: #0087ff; text-decoration-color: #0087ff\">MaxPooling3D</span>)  │ (<span style=\"color: #00d7ff; text-decoration-color: #00d7ff\">None</span>, <span style=\"color: #00af00; text-decoration-color: #00af00\">2</span>, <span style=\"color: #00af00; text-decoration-color: #00af00\">2</span>, <span style=\"color: #00af00; text-decoration-color: #00af00\">25</span>, <span style=\"color: #00af00; text-decoration-color: #00af00\">32</span>)   │             <span style=\"color: #00af00; text-decoration-color: #00af00\">0</span> │\n",
              "├─────────────────────────────────┼────────────────────────┼───────────────┤\n",
              "│ conv3d_3 (<span style=\"color: #0087ff; text-decoration-color: #0087ff\">Conv3D</span>)               │ (<span style=\"color: #00d7ff; text-decoration-color: #00d7ff\">None</span>, <span style=\"color: #00af00; text-decoration-color: #00af00\">2</span>, <span style=\"color: #00af00; text-decoration-color: #00af00\">2</span>, <span style=\"color: #00af00; text-decoration-color: #00af00\">25</span>, <span style=\"color: #00af00; text-decoration-color: #00af00\">64</span>)   │        <span style=\"color: #00af00; text-decoration-color: #00af00\">55,360</span> │\n",
              "├─────────────────────────────────┼────────────────────────┼───────────────┤\n",
              "│ batch_normalization_3           │ (<span style=\"color: #00d7ff; text-decoration-color: #00d7ff\">None</span>, <span style=\"color: #00af00; text-decoration-color: #00af00\">2</span>, <span style=\"color: #00af00; text-decoration-color: #00af00\">2</span>, <span style=\"color: #00af00; text-decoration-color: #00af00\">25</span>, <span style=\"color: #00af00; text-decoration-color: #00af00\">64</span>)   │           <span style=\"color: #00af00; text-decoration-color: #00af00\">256</span> │\n",
              "│ (<span style=\"color: #0087ff; text-decoration-color: #0087ff\">BatchNormalization</span>)            │                        │               │\n",
              "├─────────────────────────────────┼────────────────────────┼───────────────┤\n",
              "│ max_pooling3d_3 (<span style=\"color: #0087ff; text-decoration-color: #0087ff\">MaxPooling3D</span>)  │ (<span style=\"color: #00d7ff; text-decoration-color: #00d7ff\">None</span>, <span style=\"color: #00af00; text-decoration-color: #00af00\">1</span>, <span style=\"color: #00af00; text-decoration-color: #00af00\">1</span>, <span style=\"color: #00af00; text-decoration-color: #00af00\">12</span>, <span style=\"color: #00af00; text-decoration-color: #00af00\">64</span>)   │             <span style=\"color: #00af00; text-decoration-color: #00af00\">0</span> │\n",
              "├─────────────────────────────────┼────────────────────────┼───────────────┤\n",
              "│ flatten_1 (<span style=\"color: #0087ff; text-decoration-color: #0087ff\">Flatten</span>)             │ (<span style=\"color: #00d7ff; text-decoration-color: #00d7ff\">None</span>, <span style=\"color: #00af00; text-decoration-color: #00af00\">768</span>)            │             <span style=\"color: #00af00; text-decoration-color: #00af00\">0</span> │\n",
              "├─────────────────────────────────┼────────────────────────┼───────────────┤\n",
              "│ dense_2 (<span style=\"color: #0087ff; text-decoration-color: #0087ff\">Dense</span>)                 │ (<span style=\"color: #00d7ff; text-decoration-color: #00d7ff\">None</span>, <span style=\"color: #00af00; text-decoration-color: #00af00\">256</span>)            │       <span style=\"color: #00af00; text-decoration-color: #00af00\">196,864</span> │\n",
              "├─────────────────────────────────┼────────────────────────┼───────────────┤\n",
              "│ dropout_1 (<span style=\"color: #0087ff; text-decoration-color: #0087ff\">Dropout</span>)             │ (<span style=\"color: #00d7ff; text-decoration-color: #00d7ff\">None</span>, <span style=\"color: #00af00; text-decoration-color: #00af00\">256</span>)            │             <span style=\"color: #00af00; text-decoration-color: #00af00\">0</span> │\n",
              "├─────────────────────────────────┼────────────────────────┼───────────────┤\n",
              "│ dense_3 (<span style=\"color: #0087ff; text-decoration-color: #0087ff\">Dense</span>)                 │ (<span style=\"color: #00d7ff; text-decoration-color: #00d7ff\">None</span>, <span style=\"color: #00af00; text-decoration-color: #00af00\">17</span>)             │         <span style=\"color: #00af00; text-decoration-color: #00af00\">4,369</span> │\n",
              "└─────────────────────────────────┴────────────────────────┴───────────────┘\n",
              "</pre>\n"
            ],
            "text/plain": [
              "┏━━━━━━━━━━━━━━━━━━━━━━━━━━━━━━━━━┳━━━━━━━━━━━━━━━━━━━━━━━━┳━━━━━━━━━━━━━━━┓\n",
              "┃\u001b[1m \u001b[0m\u001b[1mLayer (type)                   \u001b[0m\u001b[1m \u001b[0m┃\u001b[1m \u001b[0m\u001b[1mOutput Shape          \u001b[0m\u001b[1m \u001b[0m┃\u001b[1m \u001b[0m\u001b[1m      Param #\u001b[0m\u001b[1m \u001b[0m┃\n",
              "┡━━━━━━━━━━━━━━━━━━━━━━━━━━━━━━━━━╇━━━━━━━━━━━━━━━━━━━━━━━━╇━━━━━━━━━━━━━━━┩\n",
              "│ conv3d_2 (\u001b[38;5;33mConv3D\u001b[0m)               │ (\u001b[38;5;45mNone\u001b[0m, \u001b[38;5;34m5\u001b[0m, \u001b[38;5;34m5\u001b[0m, \u001b[38;5;34m50\u001b[0m, \u001b[38;5;34m32\u001b[0m)   │           \u001b[38;5;34m896\u001b[0m │\n",
              "├─────────────────────────────────┼────────────────────────┼───────────────┤\n",
              "│ batch_normalization_2           │ (\u001b[38;5;45mNone\u001b[0m, \u001b[38;5;34m5\u001b[0m, \u001b[38;5;34m5\u001b[0m, \u001b[38;5;34m50\u001b[0m, \u001b[38;5;34m32\u001b[0m)   │           \u001b[38;5;34m128\u001b[0m │\n",
              "│ (\u001b[38;5;33mBatchNormalization\u001b[0m)            │                        │               │\n",
              "├─────────────────────────────────┼────────────────────────┼───────────────┤\n",
              "│ max_pooling3d_2 (\u001b[38;5;33mMaxPooling3D\u001b[0m)  │ (\u001b[38;5;45mNone\u001b[0m, \u001b[38;5;34m2\u001b[0m, \u001b[38;5;34m2\u001b[0m, \u001b[38;5;34m25\u001b[0m, \u001b[38;5;34m32\u001b[0m)   │             \u001b[38;5;34m0\u001b[0m │\n",
              "├─────────────────────────────────┼────────────────────────┼───────────────┤\n",
              "│ conv3d_3 (\u001b[38;5;33mConv3D\u001b[0m)               │ (\u001b[38;5;45mNone\u001b[0m, \u001b[38;5;34m2\u001b[0m, \u001b[38;5;34m2\u001b[0m, \u001b[38;5;34m25\u001b[0m, \u001b[38;5;34m64\u001b[0m)   │        \u001b[38;5;34m55,360\u001b[0m │\n",
              "├─────────────────────────────────┼────────────────────────┼───────────────┤\n",
              "│ batch_normalization_3           │ (\u001b[38;5;45mNone\u001b[0m, \u001b[38;5;34m2\u001b[0m, \u001b[38;5;34m2\u001b[0m, \u001b[38;5;34m25\u001b[0m, \u001b[38;5;34m64\u001b[0m)   │           \u001b[38;5;34m256\u001b[0m │\n",
              "│ (\u001b[38;5;33mBatchNormalization\u001b[0m)            │                        │               │\n",
              "├─────────────────────────────────┼────────────────────────┼───────────────┤\n",
              "│ max_pooling3d_3 (\u001b[38;5;33mMaxPooling3D\u001b[0m)  │ (\u001b[38;5;45mNone\u001b[0m, \u001b[38;5;34m1\u001b[0m, \u001b[38;5;34m1\u001b[0m, \u001b[38;5;34m12\u001b[0m, \u001b[38;5;34m64\u001b[0m)   │             \u001b[38;5;34m0\u001b[0m │\n",
              "├─────────────────────────────────┼────────────────────────┼───────────────┤\n",
              "│ flatten_1 (\u001b[38;5;33mFlatten\u001b[0m)             │ (\u001b[38;5;45mNone\u001b[0m, \u001b[38;5;34m768\u001b[0m)            │             \u001b[38;5;34m0\u001b[0m │\n",
              "├─────────────────────────────────┼────────────────────────┼───────────────┤\n",
              "│ dense_2 (\u001b[38;5;33mDense\u001b[0m)                 │ (\u001b[38;5;45mNone\u001b[0m, \u001b[38;5;34m256\u001b[0m)            │       \u001b[38;5;34m196,864\u001b[0m │\n",
              "├─────────────────────────────────┼────────────────────────┼───────────────┤\n",
              "│ dropout_1 (\u001b[38;5;33mDropout\u001b[0m)             │ (\u001b[38;5;45mNone\u001b[0m, \u001b[38;5;34m256\u001b[0m)            │             \u001b[38;5;34m0\u001b[0m │\n",
              "├─────────────────────────────────┼────────────────────────┼───────────────┤\n",
              "│ dense_3 (\u001b[38;5;33mDense\u001b[0m)                 │ (\u001b[38;5;45mNone\u001b[0m, \u001b[38;5;34m17\u001b[0m)             │         \u001b[38;5;34m4,369\u001b[0m │\n",
              "└─────────────────────────────────┴────────────────────────┴───────────────┘\n"
            ]
          },
          "metadata": {},
          "output_type": "display_data"
        },
        {
          "data": {
            "text/html": [
              "<pre style=\"white-space:pre;overflow-x:auto;line-height:normal;font-family:Menlo,'DejaVu Sans Mono',consolas,'Courier New',monospace\"><span style=\"font-weight: bold\"> Total params: </span><span style=\"color: #00af00; text-decoration-color: #00af00\">257,873</span> (1007.32 KB)\n",
              "</pre>\n"
            ],
            "text/plain": [
              "\u001b[1m Total params: \u001b[0m\u001b[38;5;34m257,873\u001b[0m (1007.32 KB)\n"
            ]
          },
          "metadata": {},
          "output_type": "display_data"
        },
        {
          "data": {
            "text/html": [
              "<pre style=\"white-space:pre;overflow-x:auto;line-height:normal;font-family:Menlo,'DejaVu Sans Mono',consolas,'Courier New',monospace\"><span style=\"font-weight: bold\"> Trainable params: </span><span style=\"color: #00af00; text-decoration-color: #00af00\">257,681</span> (1006.57 KB)\n",
              "</pre>\n"
            ],
            "text/plain": [
              "\u001b[1m Trainable params: \u001b[0m\u001b[38;5;34m257,681\u001b[0m (1006.57 KB)\n"
            ]
          },
          "metadata": {},
          "output_type": "display_data"
        },
        {
          "data": {
            "text/html": [
              "<pre style=\"white-space:pre;overflow-x:auto;line-height:normal;font-family:Menlo,'DejaVu Sans Mono',consolas,'Courier New',monospace\"><span style=\"font-weight: bold\"> Non-trainable params: </span><span style=\"color: #00af00; text-decoration-color: #00af00\">192</span> (768.00 B)\n",
              "</pre>\n"
            ],
            "text/plain": [
              "\u001b[1m Non-trainable params: \u001b[0m\u001b[38;5;34m192\u001b[0m (768.00 B)\n"
            ]
          },
          "metadata": {},
          "output_type": "display_data"
        },
        {
          "name": "stdout",
          "output_type": "stream",
          "text": [
            "Epoch 1/50\n",
            "223/223 - 7s - 30ms/step - accuracy: 0.6138 - loss: 1.1586 - val_accuracy: 0.7436 - val_loss: 0.8791 - learning_rate: 1.0000e-03\n",
            "Epoch 2/50\n",
            "223/223 - 1s - 6ms/step - accuracy: 0.8404 - loss: 0.4455 - val_accuracy: 0.8875 - val_loss: 0.3166 - learning_rate: 1.0000e-03\n",
            "Epoch 3/50\n",
            "223/223 - 1s - 5ms/step - accuracy: 0.9147 - loss: 0.2555 - val_accuracy: 0.9091 - val_loss: 0.2533 - learning_rate: 1.0000e-03\n",
            "Epoch 4/50\n",
            "223/223 - 1s - 6ms/step - accuracy: 0.9430 - loss: 0.1693 - val_accuracy: 0.9581 - val_loss: 0.1187 - learning_rate: 1.0000e-03\n",
            "Epoch 5/50\n",
            "223/223 - 1s - 4ms/step - accuracy: 0.9616 - loss: 0.1159 - val_accuracy: 0.9523 - val_loss: 0.1471 - learning_rate: 1.0000e-03\n",
            "Epoch 6/50\n",
            "223/223 - 1s - 6ms/step - accuracy: 0.9727 - loss: 0.0812 - val_accuracy: 0.9817 - val_loss: 0.0733 - learning_rate: 1.0000e-03\n",
            "Epoch 7/50\n",
            "223/223 - 1s - 6ms/step - accuracy: 0.9780 - loss: 0.0647 - val_accuracy: 0.9686 - val_loss: 0.0834 - learning_rate: 1.0000e-03\n",
            "Epoch 8/50\n",
            "223/223 - 1s - 4ms/step - accuracy: 0.9826 - loss: 0.0479 - val_accuracy: 0.9706 - val_loss: 0.0832 - learning_rate: 1.0000e-03\n",
            "Epoch 9/50\n",
            "223/223 - 1s - 6ms/step - accuracy: 0.9800 - loss: 0.0591 - val_accuracy: 0.9797 - val_loss: 0.0601 - learning_rate: 1.0000e-03\n",
            "Epoch 10/50\n",
            "223/223 - 1s - 5ms/step - accuracy: 0.9881 - loss: 0.0382 - val_accuracy: 0.9627 - val_loss: 0.0961 - learning_rate: 1.0000e-03\n",
            "Epoch 11/50\n",
            "223/223 - 1s - 6ms/step - accuracy: 0.9836 - loss: 0.0474 - val_accuracy: 0.9640 - val_loss: 0.0981 - learning_rate: 1.0000e-03\n",
            "Epoch 12/50\n",
            "223/223 - 1s - 5ms/step - accuracy: 0.9867 - loss: 0.0395 - val_accuracy: 0.9830 - val_loss: 0.0495 - learning_rate: 1.0000e-03\n",
            "Epoch 13/50\n",
            "223/223 - 1s - 6ms/step - accuracy: 0.9857 - loss: 0.0421 - val_accuracy: 0.9751 - val_loss: 0.0659 - learning_rate: 1.0000e-03\n",
            "Epoch 14/50\n",
            "223/223 - 1s - 5ms/step - accuracy: 0.9882 - loss: 0.0359 - val_accuracy: 0.9725 - val_loss: 0.0833 - learning_rate: 1.0000e-03\n",
            "Epoch 15/50\n",
            "223/223 - 1s - 4ms/step - accuracy: 0.9874 - loss: 0.0364 - val_accuracy: 0.9895 - val_loss: 0.0382 - learning_rate: 1.0000e-03\n",
            "Epoch 16/50\n",
            "223/223 - 1s - 6ms/step - accuracy: 0.9893 - loss: 0.0326 - val_accuracy: 0.9902 - val_loss: 0.0358 - learning_rate: 1.0000e-03\n",
            "Epoch 17/50\n",
            "223/223 - 1s - 6ms/step - accuracy: 0.9885 - loss: 0.0331 - val_accuracy: 0.9778 - val_loss: 0.0747 - learning_rate: 1.0000e-03\n",
            "Epoch 18/50\n",
            "223/223 - 1s - 4ms/step - accuracy: 0.9881 - loss: 0.0359 - val_accuracy: 0.9908 - val_loss: 0.0398 - learning_rate: 1.0000e-03\n",
            "Epoch 19/50\n",
            "223/223 - 1s - 4ms/step - accuracy: 0.9926 - loss: 0.0240 - val_accuracy: 0.9908 - val_loss: 0.0381 - learning_rate: 1.0000e-03\n",
            "Epoch 20/50\n",
            "223/223 - 1s - 6ms/step - accuracy: 0.9936 - loss: 0.0215 - val_accuracy: 0.9941 - val_loss: 0.0231 - learning_rate: 1.0000e-03\n",
            "Epoch 21/50\n",
            "223/223 - 1s - 4ms/step - accuracy: 0.9972 - loss: 0.0090 - val_accuracy: 0.9941 - val_loss: 0.0150 - learning_rate: 1.0000e-03\n",
            "Epoch 22/50\n",
            "223/223 - 1s - 4ms/step - accuracy: 0.9961 - loss: 0.0132 - val_accuracy: 0.9843 - val_loss: 0.0589 - learning_rate: 1.0000e-03\n",
            "Epoch 23/50\n",
            "223/223 - 1s - 4ms/step - accuracy: 0.9889 - loss: 0.0379 - val_accuracy: 0.9765 - val_loss: 0.0686 - learning_rate: 1.0000e-03\n",
            "Epoch 24/50\n",
            "223/223 - 2s - 7ms/step - accuracy: 0.9937 - loss: 0.0181 - val_accuracy: 0.9850 - val_loss: 0.0596 - learning_rate: 1.0000e-03\n",
            "Epoch 25/50\n",
            "223/223 - 2s - 10ms/step - accuracy: 0.9915 - loss: 0.0300 - val_accuracy: 0.9935 - val_loss: 0.0206 - learning_rate: 1.0000e-03\n",
            "Epoch 26/50\n",
            "223/223 - 1s - 4ms/step - accuracy: 0.9948 - loss: 0.0151 - val_accuracy: 0.9928 - val_loss: 0.0169 - learning_rate: 5.0000e-04\n",
            "Epoch 27/50\n",
            "223/223 - 1s - 4ms/step - accuracy: 0.9985 - loss: 0.0058 - val_accuracy: 0.9941 - val_loss: 0.0235 - learning_rate: 5.0000e-04\n",
            "Epoch 28/50\n",
            "223/223 - 1s - 6ms/step - accuracy: 0.9985 - loss: 0.0049 - val_accuracy: 0.9941 - val_loss: 0.0182 - learning_rate: 5.0000e-04\n",
            "Epoch 29/50\n",
            "223/223 - 1s - 4ms/step - accuracy: 0.9978 - loss: 0.0064 - val_accuracy: 0.9915 - val_loss: 0.0231 - learning_rate: 5.0000e-04\n"
          ]
        },
        {
          "name": "stderr",
          "output_type": "stream",
          "text": [
            "WARNING:absl:You are saving your model as an HDF5 file via `model.save()` or `keras.saving.save_model(model)`. This file format is considered legacy. We recommend using instead the native Keras format, e.g. `model.save('my_model.keras')` or `keras.saving.save_model(model, 'my_model.keras')`. \n"
          ]
        }
      ],
      "source": [
        "import numpy as np\n",
        "import rasterio\n",
        "import pickle\n",
        "import tensorflow as tf\n",
        "from tensorflow.keras import layers, models\n",
        "from sklearn.model_selection import train_test_split\n",
        "from sklearn.decomposition import PCA\n",
        "from sklearn.preprocessing import StandardScaler\n",
        "from tensorflow.keras.utils import to_categorical\n",
        "import matplotlib.pyplot as plt\n",
        "import random\n",
        "\n",
        "# ------------------------------------\n",
        "# 🔹 Load Hyperspectral Image & Labels\n",
        "# ------------------------------------\n",
        "image_path = \"/content/drive/MyDrive/land-cover-classification-master/data/19920612_AVIRIS_IndianPine_Site3.tif\"\n",
        "label_path = \"/content/drive/MyDrive/land-cover-classification-master/data/19920612_AVIRIS_IndianPine_Site3_gr.tif\"\n",
        "\n",
        "with rasterio.open(image_path) as src:\n",
        "    image = src.read()\n",
        "image = np.transpose(image, (1, 2, 0))  # (H, W, Bands)\n",
        "\n",
        "with rasterio.open(label_path) as src:\n",
        "    labels = src.read(1)  # (H, W)\n",
        "\n",
        "# ------------------------------------\n",
        "# 🔹 Standardize + PCA\n",
        "# ------------------------------------\n",
        "h, w, b = image.shape\n",
        "scaler = StandardScaler()\n",
        "image_reshaped = image.reshape(-1, b)\n",
        "image_std = scaler.fit_transform(image_reshaped).reshape(h, w, b)\n",
        "\n",
        "NUM_COMPONENTS = 50\n",
        "pca = PCA(n_components=NUM_COMPONENTS)\n",
        "image_pca = pca.fit_transform(image_std.reshape(-1, b)).reshape(h, w, NUM_COMPONENTS)\n",
        "\n",
        "# ------------------------------------\n",
        "# 🔹 Patch Extraction\n",
        "# ------------------------------------\n",
        "PATCH_SIZE = 5\n",
        "half = PATCH_SIZE // 2\n",
        "X, y, coords = [], [], []\n",
        "\n",
        "for i in range(half, h - half):\n",
        "    for j in range(half, w - half):\n",
        "        if labels[i, j] > 0:\n",
        "            patch = image_pca[i-half:i+half+1, j-half:j+half+1, :]\n",
        "            X.append(patch)\n",
        "            y.append(labels[i, j] - 1)\n",
        "            coords.append((i, j))\n",
        "\n",
        "X = np.array(X)\n",
        "y = np.array(y)\n",
        "coords = np.array(coords)\n",
        "X = X[..., np.newaxis]  # Add channel dimension\n",
        "y = to_categorical(y, num_classes=17)\n",
        "\n",
        "# ------------------------------------\n",
        "# 🔹 Proper Train/Val/Test Split (No Leakage)\n",
        "# ------------------------------------\n",
        "X_train, X_temp, y_train, y_temp, coords_train, coords_temp = train_test_split(\n",
        "    X, y, coords, test_size=0.3, stratify=y, random_state=42)\n",
        "\n",
        "X_val, X_test, y_val, y_test, coords_val, coords_test = train_test_split(\n",
        "    X_temp, y_temp, coords_temp, test_size=0.5, stratify=y_temp, random_state=42)\n",
        "\n",
        "# Save test data and coords\n",
        "with open(\"/content/drive/MyDrive/land-cover-classification-master/test_data_3d_updated.pkl\", \"wb\") as f:\n",
        "    pickle.dump((X_test, y_test), f)\n",
        "\n",
        "with open(\"/content/drive/MyDrive/land-cover-classification-master/test_coords_3d_updated.pkl\", \"wb\") as f:\n",
        "    pickle.dump(coords_test, f)\n",
        "\n",
        "print(f\"Train: {X_train.shape}, Val: {X_val.shape}, Test: {X_test.shape}\")\n",
        "\n",
        "# ------------------------------------\n",
        "# 🔹 3D CNN Architecture\n",
        "# ------------------------------------\n",
        "def build_3d_cnn(input_shape, num_classes):\n",
        "    model = models.Sequential([\n",
        "        layers.Input(shape=input_shape),\n",
        "\n",
        "        layers.Conv3D(32, (3, 3, 3), activation='relu', padding='same'),\n",
        "        layers.BatchNormalization(),\n",
        "        layers.MaxPooling3D((2, 2, 2)),\n",
        "\n",
        "        layers.Conv3D(64, (3, 3, 3), activation='relu', padding='same'),\n",
        "        layers.BatchNormalization(),\n",
        "        layers.MaxPooling3D((2, 2, 2)),\n",
        "\n",
        "        layers.Flatten(),\n",
        "        layers.Dense(256, activation='relu'),\n",
        "        layers.Dropout(0.4),\n",
        "        layers.Dense(num_classes, activation='softmax')\n",
        "    ])\n",
        "\n",
        "    model.compile(optimizer='adam', loss='categorical_crossentropy', metrics=['accuracy'])\n",
        "    return model\n",
        "\n",
        "model = build_3d_cnn((PATCH_SIZE, PATCH_SIZE, NUM_COMPONENTS, 1), 17)\n",
        "model.summary()\n",
        "\n",
        "# ------------------------------------\n",
        "# 🔹 Training with Callbacks\n",
        "# ------------------------------------\n",
        "early_stop = tf.keras.callbacks.EarlyStopping(patience=8, restore_best_weights=True)\n",
        "reduce_lr = tf.keras.callbacks.ReduceLROnPlateau(patience=4, factor=0.5)\n",
        "\n",
        "history = model.fit(\n",
        "    X_train, y_train,\n",
        "    validation_data=(X_val, y_val),\n",
        "    epochs=50,\n",
        "    batch_size=32,\n",
        "    callbacks=[early_stop, reduce_lr],\n",
        "    verbose=2\n",
        ")\n",
        "\n",
        "# ------------------------------------\n",
        "# 🔹 Save Final Model\n",
        "# ------------------------------------\n",
        "model.save(\"/content/drive/MyDrive/land-cover-classification-master/Models/3D CNN/3d_CNN_updated.h5\")\n"
      ]
    },
    {
      "cell_type": "code",
      "execution_count": null,
      "metadata": {
        "colab": {
          "base_uri": "https://localhost:8080/",
          "height": 1000
        },
        "id": "D3U0iq-QtM1Q",
        "outputId": "83402a27-7b55-4a57-ebc3-678e95f84aec"
      },
      "outputs": [
        {
          "name": "stderr",
          "output_type": "stream",
          "text": [
            "WARNING:absl:Compiled the loaded model, but the compiled metrics have yet to be built. `model.compile_metrics` will be empty until you train or evaluate the model.\n"
          ]
        },
        {
          "name": "stdout",
          "output_type": "stream",
          "text": [
            "\u001b[1m48/48\u001b[0m \u001b[32m━━━━━━━━━━━━━━━━━━━━\u001b[0m\u001b[37m\u001b[0m \u001b[1m1s\u001b[0m 8ms/step\n",
            "Test Accuracy: 99.48%\n",
            "Classification Report:\n",
            "              precision    recall  f1-score   support\n",
            "\n",
            "           0       1.00      1.00      1.00         8\n",
            "           1       0.99      1.00      0.99       215\n",
            "           2       1.00      1.00      1.00       117\n",
            "           3       1.00      1.00      1.00        35\n",
            "           4       1.00      1.00      1.00        71\n",
            "           5       1.00      1.00      1.00       112\n",
            "           6       1.00      1.00      1.00         4\n",
            "           7       1.00      1.00      1.00        74\n",
            "           8       1.00      1.00      1.00         3\n",
            "           9       0.97      1.00      0.99       145\n",
            "          10       1.00      0.98      0.99       364\n",
            "          11       0.99      0.99      0.99        92\n",
            "          12       1.00      1.00      1.00        32\n",
            "          13       1.00      1.00      1.00       194\n",
            "          14       1.00      1.00      1.00        50\n",
            "          15       1.00      1.00      1.00        14\n",
            "\n",
            "    accuracy                           0.99      1530\n",
            "   macro avg       1.00      1.00      1.00      1530\n",
            "weighted avg       0.99      0.99      0.99      1530\n",
            "\n"
          ]
        },
        {
          "data": {
            "image/png": "[encoded data removed]",
            "text/plain": [
              "<Figure size 1000x800 with 1 Axes>"
            ]
          },
          "metadata": {},
          "output_type": "display_data"
        }
      ],
      "source": [
        "import pickle\n",
        "import numpy as np\n",
        "import tensorflow as tf\n",
        "from tensorflow.keras.models import load_model\n",
        "from sklearn.metrics import accuracy_score, classification_report\n",
        "import matplotlib.pyplot as plt\n",
        "\n",
        "# Load the trained model\n",
        "model = load_model(\"/content/drive/MyDrive/land-cover-classification-master/Models/3D CNN/3d_CNN_updated.h5\")\n",
        "\n",
        "# Load the test data and coordinates\n",
        "with open(\"/content/drive/MyDrive/land-cover-classification-master/test_data_3d_updated.pkl\", \"rb\") as f:\n",
        "    X_test, y_test = pickle.load(f)\n",
        "\n",
        "with open(\"/content/drive/MyDrive/land-cover-classification-master/test_coords_3d_updated.pkl\", \"rb\") as f:\n",
        "    coords_test = pickle.load(f)\n",
        "\n",
        "# Test the model\n",
        "y_pred = model.predict(X_test, batch_size=32)\n",
        "\n",
        "# Convert predictions from one-hot encoded to class labels\n",
        "y_pred_labels = np.argmax(y_pred, axis=1)\n",
        "y_test_labels = np.argmax(y_test, axis=1)\n",
        "\n",
        "# Evaluate accuracy\n",
        "accuracy = accuracy_score(y_test_labels, y_pred_labels)\n",
        "print(f\"Test Accuracy: {accuracy * 100:.2f}%\")\n",
        "\n",
        "# Classification report for detailed metrics\n",
        "report = classification_report(y_test_labels, y_pred_labels)\n",
        "print(\"Classification Report:\")\n",
        "print(report)\n",
        "\n",
        "# Assuming y_test_labels and y_pred_labels are your true and predicted labels respectively\n",
        "# Replace these variables with your actual test data and predictions\n",
        "# y_test_labels = [true labels for your test data]\n",
        "# y_pred_labels = [predicted labels from your model]\n",
        "\n",
        "# Compute confusion matrix\n",
        "cm = confusion_matrix(y_test_labels, y_pred_labels)\n",
        "\n",
        "# List of class names (replace with actual class names)\n",
        "class_names = ['class_0', 'class_1', 'class_2', 'class_3', 'class_4',\n",
        "               'class_5', 'class_6', 'class_7', 'class_8', 'class_9',\n",
        "               'class_10', 'class_11', 'class_12', 'class_13', 'class_14',\n",
        "               'class_15']  # Replace with your actual class names\n",
        "\n",
        "# Create a heatmap for the confusion matrix\n",
        "plt.figure(figsize=(10, 8))\n",
        "sns.heatmap(cm, annot=True, fmt='d', cmap='Blues', cbar=False,\n",
        "            xticklabels=class_names, yticklabels=class_names)\n",
        "plt.title(\"Confusion Matrix\")\n",
        "plt.xlabel(\"Predicted Label\")\n",
        "plt.ylabel(\"True Label\")\n",
        "plt.show()\n"
      ]
    },
    {
      "cell_type": "markdown",
      "metadata": {
        "id": "yyhG8toVCyfy"
      },
      "source": [
        "## Fine tuning on salinas A"
      ]
    },
    {
      "cell_type": "code",
      "execution_count": null,
      "metadata": {
        "colab": {
          "base_uri": "https://localhost:8080/",
          "height": 1000
        },
        "id": "Kb7TbH_b_Ill",
        "outputId": "78d18d67-3d30-4e40-dc03-d60360c4de84"
      },
      "outputs": [
        {
          "name": "stderr",
          "output_type": "stream",
          "text": [
            "WARNING:absl:Compiled the loaded model, but the compiled metrics have yet to be built. `model.compile_metrics` will be empty until you train or evaluate the model.\n"
          ]
        },
        {
          "name": "stdout",
          "output_type": "stream",
          "text": [
            "Train: (37359, 5, 5, 50, 1), Val: (8005, 5, 5, 50, 1), Test: (8006, 5, 5, 50, 1)\n"
          ]
        },
        {
          "data": {
            "text/html": [
              "<pre style=\"white-space:pre;overflow-x:auto;line-height:normal;font-family:Menlo,'DejaVu Sans Mono',consolas,'Courier New',monospace\"><span style=\"font-weight: bold\">Model: \"sequential_5\"</span>\n",
              "</pre>\n"
            ],
            "text/plain": [
              "\u001b[1mModel: \"sequential_5\"\u001b[0m\n"
            ]
          },
          "metadata": {},
          "output_type": "display_data"
        },
        {
          "data": {
            "text/html": [
              "<pre style=\"white-space:pre;overflow-x:auto;line-height:normal;font-family:Menlo,'DejaVu Sans Mono',consolas,'Courier New',monospace\">┏━━━━━━━━━━━━━━━━━━━━━━━━━━━━━━━━━┳━━━━━━━━━━━━━━━━━━━━━━━━┳━━━━━━━━━━━━━━━┓\n",
              "┃<span style=\"font-weight: bold\"> Layer (type)                    </span>┃<span style=\"font-weight: bold\"> Output Shape           </span>┃<span style=\"font-weight: bold\">       Param # </span>┃\n",
              "┡━━━━━━━━━━━━━━━━━━━━━━━━━━━━━━━━━╇━━━━━━━━━━━━━━━━━━━━━━━━╇━━━━━━━━━━━━━━━┩\n",
              "│ conv3d_2 (<span style=\"color: #0087ff; text-decoration-color: #0087ff\">Conv3D</span>)               │ (<span style=\"color: #00d7ff; text-decoration-color: #00d7ff\">None</span>, <span style=\"color: #00af00; text-decoration-color: #00af00\">5</span>, <span style=\"color: #00af00; text-decoration-color: #00af00\">5</span>, <span style=\"color: #00af00; text-decoration-color: #00af00\">50</span>, <span style=\"color: #00af00; text-decoration-color: #00af00\">32</span>)   │           <span style=\"color: #00af00; text-decoration-color: #00af00\">896</span> │\n",
              "├─────────────────────────────────┼────────────────────────┼───────────────┤\n",
              "│ batch_normalization_2           │ (<span style=\"color: #00d7ff; text-decoration-color: #00d7ff\">None</span>, <span style=\"color: #00af00; text-decoration-color: #00af00\">5</span>, <span style=\"color: #00af00; text-decoration-color: #00af00\">5</span>, <span style=\"color: #00af00; text-decoration-color: #00af00\">50</span>, <span style=\"color: #00af00; text-decoration-color: #00af00\">32</span>)   │           <span style=\"color: #00af00; text-decoration-color: #00af00\">128</span> │\n",
              "│ (<span style=\"color: #0087ff; text-decoration-color: #0087ff\">BatchNormalization</span>)            │                        │               │\n",
              "├─────────────────────────────────┼────────────────────────┼───────────────┤\n",
              "│ max_pooling3d_2 (<span style=\"color: #0087ff; text-decoration-color: #0087ff\">MaxPooling3D</span>)  │ (<span style=\"color: #00d7ff; text-decoration-color: #00d7ff\">None</span>, <span style=\"color: #00af00; text-decoration-color: #00af00\">2</span>, <span style=\"color: #00af00; text-decoration-color: #00af00\">2</span>, <span style=\"color: #00af00; text-decoration-color: #00af00\">25</span>, <span style=\"color: #00af00; text-decoration-color: #00af00\">32</span>)   │             <span style=\"color: #00af00; text-decoration-color: #00af00\">0</span> │\n",
              "├─────────────────────────────────┼────────────────────────┼───────────────┤\n",
              "│ conv3d_3 (<span style=\"color: #0087ff; text-decoration-color: #0087ff\">Conv3D</span>)               │ (<span style=\"color: #00d7ff; text-decoration-color: #00d7ff\">None</span>, <span style=\"color: #00af00; text-decoration-color: #00af00\">2</span>, <span style=\"color: #00af00; text-decoration-color: #00af00\">2</span>, <span style=\"color: #00af00; text-decoration-color: #00af00\">25</span>, <span style=\"color: #00af00; text-decoration-color: #00af00\">64</span>)   │        <span style=\"color: #00af00; text-decoration-color: #00af00\">55,360</span> │\n",
              "├─────────────────────────────────┼────────────────────────┼───────────────┤\n",
              "│ batch_normalization_3           │ (<span style=\"color: #00d7ff; text-decoration-color: #00d7ff\">None</span>, <span style=\"color: #00af00; text-decoration-color: #00af00\">2</span>, <span style=\"color: #00af00; text-decoration-color: #00af00\">2</span>, <span style=\"color: #00af00; text-decoration-color: #00af00\">25</span>, <span style=\"color: #00af00; text-decoration-color: #00af00\">64</span>)   │           <span style=\"color: #00af00; text-decoration-color: #00af00\">256</span> │\n",
              "│ (<span style=\"color: #0087ff; text-decoration-color: #0087ff\">BatchNormalization</span>)            │                        │               │\n",
              "├─────────────────────────────────┼────────────────────────┼───────────────┤\n",
              "│ max_pooling3d_3 (<span style=\"color: #0087ff; text-decoration-color: #0087ff\">MaxPooling3D</span>)  │ (<span style=\"color: #00d7ff; text-decoration-color: #00d7ff\">None</span>, <span style=\"color: #00af00; text-decoration-color: #00af00\">1</span>, <span style=\"color: #00af00; text-decoration-color: #00af00\">1</span>, <span style=\"color: #00af00; text-decoration-color: #00af00\">12</span>, <span style=\"color: #00af00; text-decoration-color: #00af00\">64</span>)   │             <span style=\"color: #00af00; text-decoration-color: #00af00\">0</span> │\n",
              "├─────────────────────────────────┼────────────────────────┼───────────────┤\n",
              "│ flatten_1 (<span style=\"color: #0087ff; text-decoration-color: #0087ff\">Flatten</span>)             │ (<span style=\"color: #00d7ff; text-decoration-color: #00d7ff\">None</span>, <span style=\"color: #00af00; text-decoration-color: #00af00\">768</span>)            │             <span style=\"color: #00af00; text-decoration-color: #00af00\">0</span> │\n",
              "├─────────────────────────────────┼────────────────────────┼───────────────┤\n",
              "│ dense_2 (<span style=\"color: #0087ff; text-decoration-color: #0087ff\">Dense</span>)                 │ (<span style=\"color: #00d7ff; text-decoration-color: #00d7ff\">None</span>, <span style=\"color: #00af00; text-decoration-color: #00af00\">256</span>)            │       <span style=\"color: #00af00; text-decoration-color: #00af00\">196,864</span> │\n",
              "├─────────────────────────────────┼────────────────────────┼───────────────┤\n",
              "│ dropout_1 (<span style=\"color: #0087ff; text-decoration-color: #0087ff\">Dropout</span>)             │ (<span style=\"color: #00d7ff; text-decoration-color: #00d7ff\">None</span>, <span style=\"color: #00af00; text-decoration-color: #00af00\">256</span>)            │             <span style=\"color: #00af00; text-decoration-color: #00af00\">0</span> │\n",
              "├─────────────────────────────────┼────────────────────────┼───────────────┤\n",
              "│ dense_17 (<span style=\"color: #0087ff; text-decoration-color: #0087ff\">Dense</span>)                │ ?                      │   <span style=\"color: #00af00; text-decoration-color: #00af00\">0</span> (unbuilt) │\n",
              "└─────────────────────────────────┴────────────────────────┴───────────────┘\n",
              "</pre>\n"
            ],
            "text/plain": [
              "┏━━━━━━━━━━━━━━━━━━━━━━━━━━━━━━━━━┳━━━━━━━━━━━━━━━━━━━━━━━━┳━━━━━━━━━━━━━━━┓\n",
              "┃\u001b[1m \u001b[0m\u001b[1mLayer (type)                   \u001b[0m\u001b[1m \u001b[0m┃\u001b[1m \u001b[0m\u001b[1mOutput Shape          \u001b[0m\u001b[1m \u001b[0m┃\u001b[1m \u001b[0m\u001b[1m      Param #\u001b[0m\u001b[1m \u001b[0m┃\n",
              "┡━━━━━━━━━━━━━━━━━━━━━━━━━━━━━━━━━╇━━━━━━━━━━━━━━━━━━━━━━━━╇━━━━━━━━━━━━━━━┩\n",
              "│ conv3d_2 (\u001b[38;5;33mConv3D\u001b[0m)               │ (\u001b[38;5;45mNone\u001b[0m, \u001b[38;5;34m5\u001b[0m, \u001b[38;5;34m5\u001b[0m, \u001b[38;5;34m50\u001b[0m, \u001b[38;5;34m32\u001b[0m)   │           \u001b[38;5;34m896\u001b[0m │\n",
              "├─────────────────────────────────┼────────────────────────┼───────────────┤\n",
              "│ batch_normalization_2           │ (\u001b[38;5;45mNone\u001b[0m, \u001b[38;5;34m5\u001b[0m, \u001b[38;5;34m5\u001b[0m, \u001b[38;5;34m50\u001b[0m, \u001b[38;5;34m32\u001b[0m)   │           \u001b[38;5;34m128\u001b[0m │\n",
              "│ (\u001b[38;5;33mBatchNormalization\u001b[0m)            │                        │               │\n",
              "├─────────────────────────────────┼────────────────────────┼───────────────┤\n",
              "│ max_pooling3d_2 (\u001b[38;5;33mMaxPooling3D\u001b[0m)  │ (\u001b[38;5;45mNone\u001b[0m, \u001b[38;5;34m2\u001b[0m, \u001b[38;5;34m2\u001b[0m, \u001b[38;5;34m25\u001b[0m, \u001b[38;5;34m32\u001b[0m)   │             \u001b[38;5;34m0\u001b[0m │\n",
              "├─────────────────────────────────┼────────────────────────┼───────────────┤\n",
              "│ conv3d_3 (\u001b[38;5;33mConv3D\u001b[0m)               │ (\u001b[38;5;45mNone\u001b[0m, \u001b[38;5;34m2\u001b[0m, \u001b[38;5;34m2\u001b[0m, \u001b[38;5;34m25\u001b[0m, \u001b[38;5;34m64\u001b[0m)   │        \u001b[38;5;34m55,360\u001b[0m │\n",
              "├─────────────────────────────────┼────────────────────────┼───────────────┤\n",
              "│ batch_normalization_3           │ (\u001b[38;5;45mNone\u001b[0m, \u001b[38;5;34m2\u001b[0m, \u001b[38;5;34m2\u001b[0m, \u001b[38;5;34m25\u001b[0m, \u001b[38;5;34m64\u001b[0m)   │           \u001b[38;5;34m256\u001b[0m │\n",
              "│ (\u001b[38;5;33mBatchNormalization\u001b[0m)            │                        │               │\n",
              "├─────────────────────────────────┼────────────────────────┼───────────────┤\n",
              "│ max_pooling3d_3 (\u001b[38;5;33mMaxPooling3D\u001b[0m)  │ (\u001b[38;5;45mNone\u001b[0m, \u001b[38;5;34m1\u001b[0m, \u001b[38;5;34m1\u001b[0m, \u001b[38;5;34m12\u001b[0m, \u001b[38;5;34m64\u001b[0m)   │             \u001b[38;5;34m0\u001b[0m │\n",
              "├─────────────────────────────────┼────────────────────────┼───────────────┤\n",
              "│ flatten_1 (\u001b[38;5;33mFlatten\u001b[0m)             │ (\u001b[38;5;45mNone\u001b[0m, \u001b[38;5;34m768\u001b[0m)            │             \u001b[38;5;34m0\u001b[0m │\n",
              "├─────────────────────────────────┼────────────────────────┼───────────────┤\n",
              "│ dense_2 (\u001b[38;5;33mDense\u001b[0m)                 │ (\u001b[38;5;45mNone\u001b[0m, \u001b[38;5;34m256\u001b[0m)            │       \u001b[38;5;34m196,864\u001b[0m │\n",
              "├─────────────────────────────────┼────────────────────────┼───────────────┤\n",
              "│ dropout_1 (\u001b[38;5;33mDropout\u001b[0m)             │ (\u001b[38;5;45mNone\u001b[0m, \u001b[38;5;34m256\u001b[0m)            │             \u001b[38;5;34m0\u001b[0m │\n",
              "├─────────────────────────────────┼────────────────────────┼───────────────┤\n",
              "│ dense_17 (\u001b[38;5;33mDense\u001b[0m)                │ ?                      │   \u001b[38;5;34m0\u001b[0m (unbuilt) │\n",
              "└─────────────────────────────────┴────────────────────────┴───────────────┘\n"
            ]
          },
          "metadata": {},
          "output_type": "display_data"
        },
        {
          "data": {
            "text/html": [
              "<pre style=\"white-space:pre;overflow-x:auto;line-height:normal;font-family:Menlo,'DejaVu Sans Mono',consolas,'Courier New',monospace\"><span style=\"font-weight: bold\"> Total params: </span><span style=\"color: #00af00; text-decoration-color: #00af00\">253,504</span> (990.25 KB)\n",
              "</pre>\n"
            ],
            "text/plain": [
              "\u001b[1m Total params: \u001b[0m\u001b[38;5;34m253,504\u001b[0m (990.25 KB)\n"
            ]
          },
          "metadata": {},
          "output_type": "display_data"
        },
        {
          "data": {
            "text/html": [
              "<pre style=\"white-space:pre;overflow-x:auto;line-height:normal;font-family:Menlo,'DejaVu Sans Mono',consolas,'Courier New',monospace\"><span style=\"font-weight: bold\"> Trainable params: </span><span style=\"color: #00af00; text-decoration-color: #00af00\">0</span> (0.00 B)\n",
              "</pre>\n"
            ],
            "text/plain": [
              "\u001b[1m Trainable params: \u001b[0m\u001b[38;5;34m0\u001b[0m (0.00 B)\n"
            ]
          },
          "metadata": {},
          "output_type": "display_data"
        },
        {
          "data": {
            "text/html": [
              "<pre style=\"white-space:pre;overflow-x:auto;line-height:normal;font-family:Menlo,'DejaVu Sans Mono',consolas,'Courier New',monospace\"><span style=\"font-weight: bold\"> Non-trainable params: </span><span style=\"color: #00af00; text-decoration-color: #00af00\">253,504</span> (990.25 KB)\n",
              "</pre>\n"
            ],
            "text/plain": [
              "\u001b[1m Non-trainable params: \u001b[0m\u001b[38;5;34m253,504\u001b[0m (990.25 KB)\n"
            ]
          },
          "metadata": {},
          "output_type": "display_data"
        },
        {
          "name": "stdout",
          "output_type": "stream",
          "text": [
            "Epoch 1/50\n",
            "1168/1168 - 7s - 6ms/step - accuracy: 0.2749 - loss: 5.6763 - val_accuracy: 0.6601 - val_loss: 0.8733 - learning_rate: 1.0000e-04\n",
            "Epoch 2/50\n",
            "1168/1168 - 5s - 4ms/step - accuracy: 0.5496 - loss: 1.8857 - val_accuracy: 0.8336 - val_loss: 0.3851 - learning_rate: 1.0000e-04\n",
            "Epoch 3/50\n",
            "1168/1168 - 4s - 3ms/step - accuracy: 0.6879 - loss: 0.9840 - val_accuracy: 0.8924 - val_loss: 0.2808 - learning_rate: 1.0000e-04\n",
            "Epoch 4/50\n",
            "1168/1168 - 6s - 5ms/step - accuracy: 0.7738 - loss: 0.6153 - val_accuracy: 0.9056 - val_loss: 0.2522 - learning_rate: 1.0000e-04\n",
            "Epoch 5/50\n",
            "1168/1168 - 4s - 4ms/step - accuracy: 0.8189 - loss: 0.4647 - val_accuracy: 0.9176 - val_loss: 0.2352 - learning_rate: 1.0000e-04\n",
            "Epoch 6/50\n",
            "1168/1168 - 3s - 3ms/step - accuracy: 0.8476 - loss: 0.3913 - val_accuracy: 0.9168 - val_loss: 0.2249 - learning_rate: 1.0000e-04\n",
            "Epoch 7/50\n",
            "1168/1168 - 5s - 4ms/step - accuracy: 0.8653 - loss: 0.3469 - val_accuracy: 0.9235 - val_loss: 0.2159 - learning_rate: 1.0000e-04\n",
            "Epoch 8/50\n",
            "1168/1168 - 5s - 5ms/step - accuracy: 0.8742 - loss: 0.3250 - val_accuracy: 0.9209 - val_loss: 0.2087 - learning_rate: 1.0000e-04\n",
            "Epoch 9/50\n",
            "1168/1168 - 4s - 3ms/step - accuracy: 0.8817 - loss: 0.3032 - val_accuracy: 0.9230 - val_loss: 0.2025 - learning_rate: 1.0000e-04\n",
            "Epoch 10/50\n",
            "1168/1168 - 3s - 3ms/step - accuracy: 0.8877 - loss: 0.2878 - val_accuracy: 0.9254 - val_loss: 0.1974 - learning_rate: 1.0000e-04\n",
            "Epoch 11/50\n",
            "1168/1168 - 6s - 5ms/step - accuracy: 0.8896 - loss: 0.2780 - val_accuracy: 0.9268 - val_loss: 0.1923 - learning_rate: 1.0000e-04\n",
            "Epoch 12/50\n",
            "1168/1168 - 5s - 4ms/step - accuracy: 0.8931 - loss: 0.2706 - val_accuracy: 0.9318 - val_loss: 0.1905 - learning_rate: 1.0000e-04\n",
            "Epoch 13/50\n",
            "1168/1168 - 4s - 3ms/step - accuracy: 0.8949 - loss: 0.2664 - val_accuracy: 0.9274 - val_loss: 0.1873 - learning_rate: 1.0000e-04\n",
            "Epoch 14/50\n",
            "1168/1168 - 4s - 4ms/step - accuracy: 0.8968 - loss: 0.2586 - val_accuracy: 0.9329 - val_loss: 0.1834 - learning_rate: 1.0000e-04\n",
            "Epoch 15/50\n",
            "1168/1168 - 4s - 4ms/step - accuracy: 0.8987 - loss: 0.2538 - val_accuracy: 0.9308 - val_loss: 0.1827 - learning_rate: 1.0000e-04\n",
            "Epoch 16/50\n",
            "1168/1168 - 5s - 5ms/step - accuracy: 0.8998 - loss: 0.2512 - val_accuracy: 0.9314 - val_loss: 0.1803 - learning_rate: 1.0000e-04\n",
            "Epoch 17/50\n",
            "1168/1168 - 4s - 3ms/step - accuracy: 0.8996 - loss: 0.2488 - val_accuracy: 0.9267 - val_loss: 0.1803 - learning_rate: 1.0000e-04\n",
            "Epoch 18/50\n",
            "1168/1168 - 5s - 4ms/step - accuracy: 0.8990 - loss: 0.2485 - val_accuracy: 0.9350 - val_loss: 0.1777 - learning_rate: 1.0000e-04\n",
            "Epoch 19/50\n",
            "1168/1168 - 6s - 5ms/step - accuracy: 0.9017 - loss: 0.2431 - val_accuracy: 0.9358 - val_loss: 0.1760 - learning_rate: 1.0000e-04\n",
            "Epoch 20/50\n",
            "1168/1168 - 4s - 3ms/step - accuracy: 0.9028 - loss: 0.2409 - val_accuracy: 0.9340 - val_loss: 0.1751 - learning_rate: 1.0000e-04\n",
            "Epoch 21/50\n",
            "1168/1168 - 4s - 3ms/step - accuracy: 0.9018 - loss: 0.2410 - val_accuracy: 0.9332 - val_loss: 0.1744 - learning_rate: 1.0000e-04\n",
            "Epoch 22/50\n",
            "1168/1168 - 5s - 5ms/step - accuracy: 0.9018 - loss: 0.2411 - val_accuracy: 0.9354 - val_loss: 0.1748 - learning_rate: 1.0000e-04\n",
            "Epoch 23/50\n",
            "1168/1168 - 5s - 4ms/step - accuracy: 0.9040 - loss: 0.2371 - val_accuracy: 0.9350 - val_loss: 0.1720 - learning_rate: 1.0000e-04\n",
            "Epoch 24/50\n",
            "1168/1168 - 3s - 3ms/step - accuracy: 0.9060 - loss: 0.2343 - val_accuracy: 0.9352 - val_loss: 0.1711 - learning_rate: 1.0000e-04\n",
            "Epoch 25/50\n",
            "1168/1168 - 4s - 3ms/step - accuracy: 0.9038 - loss: 0.2365 - val_accuracy: 0.9370 - val_loss: 0.1706 - learning_rate: 1.0000e-04\n",
            "Epoch 26/50\n",
            "1168/1168 - 4s - 3ms/step - accuracy: 0.9055 - loss: 0.2326 - val_accuracy: 0.9370 - val_loss: 0.1707 - learning_rate: 1.0000e-04\n",
            "Epoch 27/50\n",
            "1168/1168 - 3s - 3ms/step - accuracy: 0.9050 - loss: 0.2324 - val_accuracy: 0.9340 - val_loss: 0.1704 - learning_rate: 1.0000e-04\n",
            "Epoch 28/50\n",
            "1168/1168 - 3s - 3ms/step - accuracy: 0.9068 - loss: 0.2295 - val_accuracy: 0.9368 - val_loss: 0.1693 - learning_rate: 1.0000e-04\n",
            "Epoch 29/50\n",
            "1168/1168 - 6s - 5ms/step - accuracy: 0.9066 - loss: 0.2299 - val_accuracy: 0.9370 - val_loss: 0.1677 - learning_rate: 1.0000e-04\n",
            "Epoch 30/50\n",
            "1168/1168 - 4s - 4ms/step - accuracy: 0.9069 - loss: 0.2262 - val_accuracy: 0.9379 - val_loss: 0.1695 - learning_rate: 1.0000e-04\n",
            "Epoch 31/50\n",
            "1168/1168 - 4s - 3ms/step - accuracy: 0.9070 - loss: 0.2279 - val_accuracy: 0.9339 - val_loss: 0.1679 - learning_rate: 1.0000e-04\n",
            "Epoch 32/50\n",
            "1168/1168 - 4s - 4ms/step - accuracy: 0.9066 - loss: 0.2268 - val_accuracy: 0.9333 - val_loss: 0.1677 - learning_rate: 1.0000e-04\n",
            "Epoch 33/50\n",
            "1168/1168 - 4s - 4ms/step - accuracy: 0.9076 - loss: 0.2270 - val_accuracy: 0.9357 - val_loss: 0.1680 - learning_rate: 1.0000e-04\n",
            "Epoch 34/50\n",
            "1168/1168 - 4s - 3ms/step - accuracy: 0.9078 - loss: 0.2249 - val_accuracy: 0.9385 - val_loss: 0.1682 - learning_rate: 5.0000e-05\n",
            "Epoch 35/50\n",
            "1168/1168 - 5s - 4ms/step - accuracy: 0.9079 - loss: 0.2260 - val_accuracy: 0.9347 - val_loss: 0.1669 - learning_rate: 5.0000e-05\n",
            "Epoch 36/50\n",
            "1168/1168 - 4s - 3ms/step - accuracy: 0.9085 - loss: 0.2228 - val_accuracy: 0.9355 - val_loss: 0.1656 - learning_rate: 5.0000e-05\n",
            "Epoch 37/50\n",
            "1168/1168 - 5s - 4ms/step - accuracy: 0.9082 - loss: 0.2235 - val_accuracy: 0.9369 - val_loss: 0.1660 - learning_rate: 5.0000e-05\n",
            "Epoch 38/50\n",
            "1168/1168 - 5s - 4ms/step - accuracy: 0.9070 - loss: 0.2262 - val_accuracy: 0.9335 - val_loss: 0.1672 - learning_rate: 5.0000e-05\n",
            "Epoch 39/50\n",
            "1168/1168 - 4s - 3ms/step - accuracy: 0.9080 - loss: 0.2248 - val_accuracy: 0.9350 - val_loss: 0.1658 - learning_rate: 5.0000e-05\n",
            "Epoch 40/50\n",
            "1168/1168 - 4s - 3ms/step - accuracy: 0.9088 - loss: 0.2232 - val_accuracy: 0.9358 - val_loss: 0.1662 - learning_rate: 5.0000e-05\n",
            "Epoch 41/50\n",
            "1168/1168 - 6s - 5ms/step - accuracy: 0.9099 - loss: 0.2182 - val_accuracy: 0.9364 - val_loss: 0.1652 - learning_rate: 2.5000e-05\n",
            "Epoch 42/50\n",
            "1168/1168 - 4s - 3ms/step - accuracy: 0.9093 - loss: 0.2204 - val_accuracy: 0.9355 - val_loss: 0.1654 - learning_rate: 2.5000e-05\n",
            "Epoch 43/50\n",
            "1168/1168 - 5s - 4ms/step - accuracy: 0.9088 - loss: 0.2215 - val_accuracy: 0.9360 - val_loss: 0.1651 - learning_rate: 2.5000e-05\n",
            "Epoch 44/50\n",
            "1168/1168 - 4s - 4ms/step - accuracy: 0.9087 - loss: 0.2227 - val_accuracy: 0.9360 - val_loss: 0.1651 - learning_rate: 2.5000e-05\n",
            "Epoch 45/50\n",
            "1168/1168 - 4s - 3ms/step - accuracy: 0.9086 - loss: 0.2196 - val_accuracy: 0.9379 - val_loss: 0.1655 - learning_rate: 2.5000e-05\n",
            "Epoch 46/50\n",
            "1168/1168 - 5s - 4ms/step - accuracy: 0.9083 - loss: 0.2220 - val_accuracy: 0.9362 - val_loss: 0.1650 - learning_rate: 2.5000e-05\n",
            "Epoch 47/50\n",
            "1168/1168 - 6s - 5ms/step - accuracy: 0.9098 - loss: 0.2187 - val_accuracy: 0.9363 - val_loss: 0.1651 - learning_rate: 2.5000e-05\n",
            "Epoch 48/50\n",
            "1168/1168 - 5s - 4ms/step - accuracy: 0.9067 - loss: 0.2201 - val_accuracy: 0.9365 - val_loss: 0.1652 - learning_rate: 1.2500e-05\n",
            "Epoch 49/50\n",
            "1168/1168 - 4s - 3ms/step - accuracy: 0.9098 - loss: 0.2202 - val_accuracy: 0.9365 - val_loss: 0.1648 - learning_rate: 1.2500e-05\n",
            "Epoch 50/50\n",
            "1168/1168 - 5s - 5ms/step - accuracy: 0.9101 - loss: 0.2211 - val_accuracy: 0.9358 - val_loss: 0.1649 - learning_rate: 1.2500e-05\n"
          ]
        },
        {
          "name": "stderr",
          "output_type": "stream",
          "text": [
            "WARNING:absl:You are saving your model as an HDF5 file via `model.save()` or `keras.saving.save_model(model)`. This file format is considered legacy. We recommend using instead the native Keras format, e.g. `model.save('my_model.keras')` or `keras.saving.save_model(model, 'my_model.keras')`. \n"
          ]
        }
      ],
      "source": [
        "import numpy as np\n",
        "import scipy.io as sio\n",
        "import tensorflow as tf\n",
        "from tensorflow.keras import layers, models\n",
        "from sklearn.model_selection import train_test_split\n",
        "from sklearn.decomposition import PCA\n",
        "from sklearn.preprocessing import StandardScaler\n",
        "from tensorflow.keras.utils import to_categorical\n",
        "import matplotlib.pyplot as plt\n",
        "import pickle\n",
        "\n",
        "# ------------------------------------\n",
        "# 🔹 Load Salinas Hyperspectral Image & Labels\n",
        "# ------------------------------------\n",
        "salinas_data = sio.loadmat('/content/drive/MyDrive/land-cover-classification-master/data/Salinas_corrected.mat')\n",
        "salinas_gt = sio.loadmat('/content/drive/MyDrive/land-cover-classification-master/data/Salinas_gt.mat')\n",
        "\n",
        "image = salinas_data['salinas_corrected']  # Hyperspectral image\n",
        "labels = salinas_gt['salinas_gt']  # Ground truth labels\n",
        "\n",
        "# ------------------------------------\n",
        "# 🔹 Standardize + PCA\n",
        "# ------------------------------------\n",
        "h, w, b = image.shape\n",
        "scaler = StandardScaler()\n",
        "image_reshaped = image.reshape(-1, b)\n",
        "image_std = scaler.fit_transform(image_reshaped).reshape(h, w, b)\n",
        "\n",
        "NUM_COMPONENTS = 50  # Same number of components as used in the Indian Pines dataset\n",
        "pca = PCA(n_components=NUM_COMPONENTS)\n",
        "image_pca = pca.fit_transform(image_std.reshape(-1, b)).reshape(h, w, NUM_COMPONENTS)\n",
        "\n",
        "# ------------------------------------\n",
        "# 🔹 Patch Extraction (Same as Indian Pines)\n",
        "# ------------------------------------\n",
        "PATCH_SIZE = 5\n",
        "half = PATCH_SIZE // 2\n",
        "X, y, coords = [], [], []\n",
        "\n",
        "for i in range(half, h - half):\n",
        "    for j in range(half, w - half):\n",
        "        if labels[i, j] > 0:  # Ignore background\n",
        "            patch = image_pca[i-half:i+half+1, j-half:j+half+1, :]\n",
        "            X.append(patch)\n",
        "            y.append(labels[i, j] - 1)  # 0-based indexing\n",
        "            coords.append((i, j))\n",
        "\n",
        "X = np.array(X)[..., np.newaxis]  # Shape: (N, 5, 5, 50, 1)\n",
        "y = to_categorical(np.array(y), num_classes=16)\n",
        "coords = np.array(coords)\n",
        "\n",
        "# ------------------------------------\n",
        "# 🔹 Proper Train/Val/Test Split (No Leakage)\n",
        "# ------------------------------------\n",
        "X_train, X_temp, y_train, y_temp, coords_train, coords_temp = train_test_split(\n",
        "    X, y, coords, test_size=0.3, stratify=y, random_state=42)\n",
        "\n",
        "X_val, X_test, y_val, y_test, coords_val, coords_test = train_test_split(\n",
        "    X_temp, y_temp, coords_temp, test_size=0.5, stratify=y_temp, random_state=42)\n",
        "\n",
        "# Save test data and coords for evaluation later\n",
        "with open(\"/content/drive/MyDrive/land-cover-classification-master/test_data_3d_salinas.pkl\", \"wb\") as f:\n",
        "    pickle.dump((X_test, y_test), f)\n",
        "\n",
        "with open(\"/content/drive/MyDrive/land-cover-classification-master/test_coords_3d_salinas.pkl\", \"wb\") as f:\n",
        "    pickle.dump(coords_test, f)\n",
        "\n",
        "print(f\"Train: {X_train.shape}, Val: {X_val.shape}, Test: {X_test.shape}\")\n",
        "\n",
        "# ------------------------------------\n",
        "# 🔹 Load Pre-trained 3D CNN Sequential Model\n",
        "# ------------------------------------\n",
        "pretrained_model = tf.keras.models.load_model(\n",
        "    '/content/drive/MyDrive/land-cover-classification-master/Models/3D CNN/3d_CNN_updated.h5'\n",
        ")\n",
        "\n",
        "# ------------------------------------\n",
        "# 🔹 Modify Output Layer for Salinas (16 classes)\n",
        "# ------------------------------------\n",
        "new_model = models.Sequential()\n",
        "\n",
        "# Copy all layers except the last one\n",
        "for layer in pretrained_model.layers[:-1]:\n",
        "    layer.trainable = False  # Optional: freeze layers\n",
        "    new_model.add(layer)\n",
        "\n",
        "# Add new output layer\n",
        "new_model.add(layers.Dense(16, activation='softmax'))  # 16 classes for Salinas\n",
        "\n",
        "# Compile the model\n",
        "new_model.compile(optimizer=tf.keras.optimizers.Adam(1e-4),\n",
        "                  loss='categorical_crossentropy',\n",
        "                  metrics=['accuracy'])\n",
        "\n",
        "# Confirm structure\n",
        "new_model.summary()\n",
        "\n",
        "# ------------------------------------\n",
        "# 🔹 Fine-Tune the Model\n",
        "# ------------------------------------\n",
        "early_stop = tf.keras.callbacks.EarlyStopping(patience=8, restore_best_weights=True)\n",
        "reduce_lr = tf.keras.callbacks.ReduceLROnPlateau(patience=4, factor=0.5)\n",
        "\n",
        "history = new_model.fit(\n",
        "    X_train, y_train,\n",
        "    validation_data=(X_val, y_val),\n",
        "    epochs=50,\n",
        "    batch_size=32,\n",
        "    callbacks=[early_stop, reduce_lr],\n",
        "    verbose=2\n",
        ")\n",
        "\n",
        "# ------------------------------------\n",
        "# 🔹 Save Fine-Tuned Model\n",
        "# ------------------------------------\n",
        "new_model.save('/content/drive/MyDrive/land-cover-classification-master/Models/3D CNN/3d_CNN_fine_tuned_salinas.h5')\n"
      ]
    },
    {
      "cell_type": "code",
      "execution_count": null,
      "metadata": {
        "colab": {
          "base_uri": "https://localhost:8080/"
        },
        "id": "P5uj96QoDfbP",
        "outputId": "92cc0631-1be5-4507-e33c-4b55a4978161"
      },
      "outputs": [
        {
          "name": "stderr",
          "output_type": "stream",
          "text": [
            "WARNING:absl:Compiled the loaded model, but the compiled metrics have yet to be built. `model.compile_metrics` will be empty until you train or evaluate the model.\n"
          ]
        },
        {
          "name": "stdout",
          "output_type": "stream",
          "text": [
            "251/251 - 3s - 11ms/step - accuracy: 0.9337 - loss: 0.1637\n",
            "📊 Salinas Test Accuracy: 93.37%\n"
          ]
        }
      ],
      "source": [
        "from tensorflow.keras.models import load_model\n",
        "\n",
        "model = load_model('/content/drive/MyDrive/land-cover-classification-master/Models/3D CNN/3d_CNN_fine_tuned_salinas.h5')\n",
        "import pickle\n",
        "\n",
        "# Load test data and labels for Salinas\n",
        "with open(\"/content/drive/MyDrive/land-cover-classification-master/test_data_3d_salinas.pkl\", \"rb\") as f:\n",
        "    X_test_salinas, y_test_salinas = pickle.load(f)\n",
        "\n",
        "# Evaluate\n",
        "loss_salinas, acc_salinas = model.evaluate(X_test_salinas, y_test_salinas, verbose=2)\n",
        "print(f\"📊 Salinas Test Accuracy: {acc_salinas * 100:.2f}%\")"
      ]
    },
    {
      "cell_type": "code",
      "execution_count": null,
      "metadata": {
        "id": "JdN6yBWjO1p9"
      },
      "outputs": [],
      "source": []
    }
  ],
  "metadata": {
    "accelerator": "GPU",
    "colab": {
      "gpuType": "T4",
      "provenance": []
    },
    "kernelspec": {
      "display_name": "Python 3",
      "name": "python3"
    },
    "language_info": {
      "name": "python"
    }
  },
  "nbformat": 4,
  "nbformat_minor": 0
}
